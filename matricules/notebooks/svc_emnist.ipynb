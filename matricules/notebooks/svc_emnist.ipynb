{
 "cells": [
  {
   "cell_type": "code",
   "execution_count": 59,
   "metadata": {},
   "outputs": [],
   "source": [
    "import numpy as np\n",
    "from sklearn.svm import SVC\n",
    "from sklearn.metrics import accuracy_score, precision_score, recall_score, f1_score, classification_report, confusion_matrix\n",
    "# from feature_extractor import *\n",
    "from sklearn.model_selection import train_test_split, KFold, cross_val_score\n",
    "import matplotlib.pyplot as plt\n",
    "import pandas as pd\n",
    "import os\n",
    "import pickle\n",
    "from scipy.stats import t\n",
    "import plotly.express as px\n",
    "import seaborn as sns\n",
    "\n",
    "# from cuml.svm import SVC"
   ]
  },
  {
   "cell_type": "code",
   "execution_count": 60,
   "metadata": {},
   "outputs": [],
   "source": [
    "train_df = pd.read_csv(\"../emnist/emnist-balanced-train.csv\", header=None)\n",
    "test_df = pd.read_csv(\"../emnist/emnist-balanced-test.csv\", header=None)\n",
    "\n",
    "# Add test dataset into train dataset\n",
    "df = pd.concat([train_df, test_df], ignore_index=True)\n",
    "df.head()\n",
    "\n",
    "del train_df\n",
    "del test_df"
   ]
  },
  {
   "cell_type": "code",
   "execution_count": 61,
   "metadata": {},
   "outputs": [],
   "source": [
    "\n",
    "#Reading the file\n",
    "label_map = pd.read_csv(\"../emnist/emnist-balanced-mapping.txt\",\n",
    "                        delimiter = ' ',\n",
    "                        index_col=0,\n",
    "                        header=None)\n",
    "label_map = label_map.iloc[:, 0]\n"
   ]
  },
  {
   "cell_type": "code",
   "execution_count": 62,
   "metadata": {},
   "outputs": [
    {
     "name": "stdout",
     "output_type": "stream",
     "text": [
      "{0: '0', 1: '1', 2: '2', 3: '3', 4: '4', 5: '5', 6: '6', 7: '7', 8: '8', 9: '9', 10: 'A', 11: 'B', 12: 'C', 13: 'D', 14: 'E', 15: 'F', 16: 'G', 17: 'H', 18: 'I', 19: 'J', 20: 'K', 21: 'L', 22: 'M', 23: 'N', 24: 'O', 25: 'P', 26: 'Q', 27: 'R', 28: 'S', 29: 'T', 30: 'U', 31: 'V', 32: 'W', 33: 'X', 34: 'Y', 35: 'Z', 36: 'a', 37: 'b', 38: 'd', 39: 'e', 40: 'f', 41: 'g', 42: 'h', 43: 'n', 44: 'q', 45: 'r', 46: 't'}\n"
     ]
    }
   ],
   "source": [
    "#Initialising an empty dictionary\n",
    "label_dictionary = {}\n",
    "\n",
    "#Running a loop for ASCII equivalent to character conversion\n",
    "for index, label in enumerate(label_map):\n",
    "    label_dictionary[index] = chr(label)\n",
    "\n",
    "print(label_dictionary)\n"
   ]
  },
  {
   "cell_type": "code",
   "execution_count": 63,
   "metadata": {},
   "outputs": [
    {
     "name": "stdout",
     "output_type": "stream",
     "text": [
      "(131600, 785)\n",
      "                 0         1         2         3         4              5    \\\n",
      "count  131600.000000  131600.0  131600.0  131600.0  131600.0  131600.000000   \n",
      "mean       23.000000       0.0       0.0       0.0       0.0       0.002036   \n",
      "std        13.564712       0.0       0.0       0.0       0.0       0.295477   \n",
      "min         0.000000       0.0       0.0       0.0       0.0       0.000000   \n",
      "25%        11.000000       0.0       0.0       0.0       0.0       0.000000   \n",
      "50%        23.000000       0.0       0.0       0.0       0.0       0.000000   \n",
      "75%        35.000000       0.0       0.0       0.0       0.0       0.000000   \n",
      "max        46.000000       0.0       0.0       0.0       0.0      63.000000   \n",
      "\n",
      "                 6              7              8              9    ...  \\\n",
      "count  131600.000000  131600.000000  131600.000000  131600.000000  ...   \n",
      "mean        0.012728       0.019354       0.016284       0.017447  ...   \n",
      "std         1.312534       1.586618       1.521459       1.692130  ...   \n",
      "min         0.000000       0.000000       0.000000       0.000000  ...   \n",
      "25%         0.000000       0.000000       0.000000       0.000000  ...   \n",
      "50%         0.000000       0.000000       0.000000       0.000000  ...   \n",
      "75%         0.000000       0.000000       0.000000       0.000000  ...   \n",
      "max       213.000000     217.000000     217.000000     217.000000  ...   \n",
      "\n",
      "                 775       776       777            778            779  \\\n",
      "count  131600.000000  131600.0  131600.0  131600.000000  131600.000000   \n",
      "mean        0.000266       0.0       0.0       0.001854       0.000243   \n",
      "std         0.096481       0.0       0.0       0.672608       0.088211   \n",
      "min         0.000000       0.0       0.0       0.000000       0.000000   \n",
      "25%         0.000000       0.0       0.0       0.000000       0.000000   \n",
      "50%         0.000000       0.0       0.0       0.000000       0.000000   \n",
      "75%         0.000000       0.0       0.0       0.000000       0.000000   \n",
      "max        35.000000       0.0       0.0     244.000000      32.000000   \n",
      "\n",
      "            780       781       782       783       784  \n",
      "count  131600.0  131600.0  131600.0  131600.0  131600.0  \n",
      "mean        0.0       0.0       0.0       0.0       0.0  \n",
      "std         0.0       0.0       0.0       0.0       0.0  \n",
      "min         0.0       0.0       0.0       0.0       0.0  \n",
      "25%         0.0       0.0       0.0       0.0       0.0  \n",
      "50%         0.0       0.0       0.0       0.0       0.0  \n",
      "75%         0.0       0.0       0.0       0.0       0.0  \n",
      "max         0.0       0.0       0.0       0.0       0.0  \n",
      "\n",
      "[8 rows x 785 columns]\n"
     ]
    }
   ],
   "source": [
    "print(df.shape)\n",
    "print(df.describe())"
   ]
  },
  {
   "cell_type": "code",
   "execution_count": 64,
   "metadata": {},
   "outputs": [
    {
     "data": {
      "text/html": [
       "<div>\n",
       "<style scoped>\n",
       "    .dataframe tbody tr th:only-of-type {\n",
       "        vertical-align: middle;\n",
       "    }\n",
       "\n",
       "    .dataframe tbody tr th {\n",
       "        vertical-align: top;\n",
       "    }\n",
       "\n",
       "    .dataframe thead th {\n",
       "        text-align: right;\n",
       "    }\n",
       "</style>\n",
       "<table border=\"1\" class=\"dataframe\">\n",
       "  <thead>\n",
       "    <tr style=\"text-align: right;\">\n",
       "      <th></th>\n",
       "      <th>0</th>\n",
       "      <th>1</th>\n",
       "      <th>2</th>\n",
       "      <th>3</th>\n",
       "      <th>4</th>\n",
       "      <th>5</th>\n",
       "      <th>6</th>\n",
       "      <th>7</th>\n",
       "      <th>8</th>\n",
       "      <th>9</th>\n",
       "      <th>...</th>\n",
       "      <th>775</th>\n",
       "      <th>776</th>\n",
       "      <th>777</th>\n",
       "      <th>778</th>\n",
       "      <th>779</th>\n",
       "      <th>780</th>\n",
       "      <th>781</th>\n",
       "      <th>782</th>\n",
       "      <th>783</th>\n",
       "      <th>784</th>\n",
       "    </tr>\n",
       "  </thead>\n",
       "  <tbody>\n",
       "    <tr>\n",
       "      <th>0</th>\n",
       "      <td>45</td>\n",
       "      <td>0</td>\n",
       "      <td>0</td>\n",
       "      <td>0</td>\n",
       "      <td>0</td>\n",
       "      <td>0</td>\n",
       "      <td>0</td>\n",
       "      <td>0</td>\n",
       "      <td>0</td>\n",
       "      <td>0</td>\n",
       "      <td>...</td>\n",
       "      <td>0</td>\n",
       "      <td>0</td>\n",
       "      <td>0</td>\n",
       "      <td>0</td>\n",
       "      <td>0</td>\n",
       "      <td>0</td>\n",
       "      <td>0</td>\n",
       "      <td>0</td>\n",
       "      <td>0</td>\n",
       "      <td>0</td>\n",
       "    </tr>\n",
       "    <tr>\n",
       "      <th>1</th>\n",
       "      <td>36</td>\n",
       "      <td>0</td>\n",
       "      <td>0</td>\n",
       "      <td>0</td>\n",
       "      <td>0</td>\n",
       "      <td>0</td>\n",
       "      <td>0</td>\n",
       "      <td>0</td>\n",
       "      <td>0</td>\n",
       "      <td>0</td>\n",
       "      <td>...</td>\n",
       "      <td>0</td>\n",
       "      <td>0</td>\n",
       "      <td>0</td>\n",
       "      <td>0</td>\n",
       "      <td>0</td>\n",
       "      <td>0</td>\n",
       "      <td>0</td>\n",
       "      <td>0</td>\n",
       "      <td>0</td>\n",
       "      <td>0</td>\n",
       "    </tr>\n",
       "    <tr>\n",
       "      <th>2</th>\n",
       "      <td>43</td>\n",
       "      <td>0</td>\n",
       "      <td>0</td>\n",
       "      <td>0</td>\n",
       "      <td>0</td>\n",
       "      <td>0</td>\n",
       "      <td>0</td>\n",
       "      <td>0</td>\n",
       "      <td>0</td>\n",
       "      <td>0</td>\n",
       "      <td>...</td>\n",
       "      <td>0</td>\n",
       "      <td>0</td>\n",
       "      <td>0</td>\n",
       "      <td>0</td>\n",
       "      <td>0</td>\n",
       "      <td>0</td>\n",
       "      <td>0</td>\n",
       "      <td>0</td>\n",
       "      <td>0</td>\n",
       "      <td>0</td>\n",
       "    </tr>\n",
       "    <tr>\n",
       "      <th>3</th>\n",
       "      <td>15</td>\n",
       "      <td>0</td>\n",
       "      <td>0</td>\n",
       "      <td>0</td>\n",
       "      <td>0</td>\n",
       "      <td>0</td>\n",
       "      <td>0</td>\n",
       "      <td>0</td>\n",
       "      <td>0</td>\n",
       "      <td>0</td>\n",
       "      <td>...</td>\n",
       "      <td>0</td>\n",
       "      <td>0</td>\n",
       "      <td>0</td>\n",
       "      <td>0</td>\n",
       "      <td>0</td>\n",
       "      <td>0</td>\n",
       "      <td>0</td>\n",
       "      <td>0</td>\n",
       "      <td>0</td>\n",
       "      <td>0</td>\n",
       "    </tr>\n",
       "    <tr>\n",
       "      <th>4</th>\n",
       "      <td>4</td>\n",
       "      <td>0</td>\n",
       "      <td>0</td>\n",
       "      <td>0</td>\n",
       "      <td>0</td>\n",
       "      <td>0</td>\n",
       "      <td>0</td>\n",
       "      <td>0</td>\n",
       "      <td>0</td>\n",
       "      <td>0</td>\n",
       "      <td>...</td>\n",
       "      <td>0</td>\n",
       "      <td>0</td>\n",
       "      <td>0</td>\n",
       "      <td>0</td>\n",
       "      <td>0</td>\n",
       "      <td>0</td>\n",
       "      <td>0</td>\n",
       "      <td>0</td>\n",
       "      <td>0</td>\n",
       "      <td>0</td>\n",
       "    </tr>\n",
       "    <tr>\n",
       "      <th>...</th>\n",
       "      <td>...</td>\n",
       "      <td>...</td>\n",
       "      <td>...</td>\n",
       "      <td>...</td>\n",
       "      <td>...</td>\n",
       "      <td>...</td>\n",
       "      <td>...</td>\n",
       "      <td>...</td>\n",
       "      <td>...</td>\n",
       "      <td>...</td>\n",
       "      <td>...</td>\n",
       "      <td>...</td>\n",
       "      <td>...</td>\n",
       "      <td>...</td>\n",
       "      <td>...</td>\n",
       "      <td>...</td>\n",
       "      <td>...</td>\n",
       "      <td>...</td>\n",
       "      <td>...</td>\n",
       "      <td>...</td>\n",
       "      <td>...</td>\n",
       "    </tr>\n",
       "    <tr>\n",
       "      <th>131595</th>\n",
       "      <td>45</td>\n",
       "      <td>0</td>\n",
       "      <td>0</td>\n",
       "      <td>0</td>\n",
       "      <td>0</td>\n",
       "      <td>0</td>\n",
       "      <td>0</td>\n",
       "      <td>0</td>\n",
       "      <td>0</td>\n",
       "      <td>0</td>\n",
       "      <td>...</td>\n",
       "      <td>0</td>\n",
       "      <td>0</td>\n",
       "      <td>0</td>\n",
       "      <td>0</td>\n",
       "      <td>0</td>\n",
       "      <td>0</td>\n",
       "      <td>0</td>\n",
       "      <td>0</td>\n",
       "      <td>0</td>\n",
       "      <td>0</td>\n",
       "    </tr>\n",
       "    <tr>\n",
       "      <th>131596</th>\n",
       "      <td>15</td>\n",
       "      <td>0</td>\n",
       "      <td>0</td>\n",
       "      <td>0</td>\n",
       "      <td>0</td>\n",
       "      <td>0</td>\n",
       "      <td>0</td>\n",
       "      <td>0</td>\n",
       "      <td>0</td>\n",
       "      <td>0</td>\n",
       "      <td>...</td>\n",
       "      <td>0</td>\n",
       "      <td>0</td>\n",
       "      <td>0</td>\n",
       "      <td>0</td>\n",
       "      <td>0</td>\n",
       "      <td>0</td>\n",
       "      <td>0</td>\n",
       "      <td>0</td>\n",
       "      <td>0</td>\n",
       "      <td>0</td>\n",
       "    </tr>\n",
       "    <tr>\n",
       "      <th>131597</th>\n",
       "      <td>1</td>\n",
       "      <td>0</td>\n",
       "      <td>0</td>\n",
       "      <td>0</td>\n",
       "      <td>0</td>\n",
       "      <td>0</td>\n",
       "      <td>0</td>\n",
       "      <td>0</td>\n",
       "      <td>0</td>\n",
       "      <td>0</td>\n",
       "      <td>...</td>\n",
       "      <td>0</td>\n",
       "      <td>0</td>\n",
       "      <td>0</td>\n",
       "      <td>0</td>\n",
       "      <td>0</td>\n",
       "      <td>0</td>\n",
       "      <td>0</td>\n",
       "      <td>0</td>\n",
       "      <td>0</td>\n",
       "      <td>0</td>\n",
       "    </tr>\n",
       "    <tr>\n",
       "      <th>131598</th>\n",
       "      <td>26</td>\n",
       "      <td>0</td>\n",
       "      <td>0</td>\n",
       "      <td>0</td>\n",
       "      <td>0</td>\n",
       "      <td>0</td>\n",
       "      <td>0</td>\n",
       "      <td>0</td>\n",
       "      <td>0</td>\n",
       "      <td>0</td>\n",
       "      <td>...</td>\n",
       "      <td>0</td>\n",
       "      <td>0</td>\n",
       "      <td>0</td>\n",
       "      <td>0</td>\n",
       "      <td>0</td>\n",
       "      <td>0</td>\n",
       "      <td>0</td>\n",
       "      <td>0</td>\n",
       "      <td>0</td>\n",
       "      <td>0</td>\n",
       "    </tr>\n",
       "    <tr>\n",
       "      <th>131599</th>\n",
       "      <td>33</td>\n",
       "      <td>0</td>\n",
       "      <td>0</td>\n",
       "      <td>0</td>\n",
       "      <td>0</td>\n",
       "      <td>0</td>\n",
       "      <td>0</td>\n",
       "      <td>0</td>\n",
       "      <td>0</td>\n",
       "      <td>0</td>\n",
       "      <td>...</td>\n",
       "      <td>0</td>\n",
       "      <td>0</td>\n",
       "      <td>0</td>\n",
       "      <td>0</td>\n",
       "      <td>0</td>\n",
       "      <td>0</td>\n",
       "      <td>0</td>\n",
       "      <td>0</td>\n",
       "      <td>0</td>\n",
       "      <td>0</td>\n",
       "    </tr>\n",
       "  </tbody>\n",
       "</table>\n",
       "<p>131600 rows × 785 columns</p>\n",
       "</div>"
      ],
      "text/plain": [
       "        0    1    2    3    4    5    6    7    8    9    ...  775  776  777  \\\n",
       "0        45    0    0    0    0    0    0    0    0    0  ...    0    0    0   \n",
       "1        36    0    0    0    0    0    0    0    0    0  ...    0    0    0   \n",
       "2        43    0    0    0    0    0    0    0    0    0  ...    0    0    0   \n",
       "3        15    0    0    0    0    0    0    0    0    0  ...    0    0    0   \n",
       "4         4    0    0    0    0    0    0    0    0    0  ...    0    0    0   \n",
       "...     ...  ...  ...  ...  ...  ...  ...  ...  ...  ...  ...  ...  ...  ...   \n",
       "131595   45    0    0    0    0    0    0    0    0    0  ...    0    0    0   \n",
       "131596   15    0    0    0    0    0    0    0    0    0  ...    0    0    0   \n",
       "131597    1    0    0    0    0    0    0    0    0    0  ...    0    0    0   \n",
       "131598   26    0    0    0    0    0    0    0    0    0  ...    0    0    0   \n",
       "131599   33    0    0    0    0    0    0    0    0    0  ...    0    0    0   \n",
       "\n",
       "        778  779  780  781  782  783  784  \n",
       "0         0    0    0    0    0    0    0  \n",
       "1         0    0    0    0    0    0    0  \n",
       "2         0    0    0    0    0    0    0  \n",
       "3         0    0    0    0    0    0    0  \n",
       "4         0    0    0    0    0    0    0  \n",
       "...     ...  ...  ...  ...  ...  ...  ...  \n",
       "131595    0    0    0    0    0    0    0  \n",
       "131596    0    0    0    0    0    0    0  \n",
       "131597    0    0    0    0    0    0    0  \n",
       "131598    0    0    0    0    0    0    0  \n",
       "131599    0    0    0    0    0    0    0  \n",
       "\n",
       "[131600 rows x 785 columns]"
      ]
     },
     "execution_count": 64,
     "metadata": {},
     "output_type": "execute_result"
    }
   ],
   "source": [
    "df"
   ]
  },
  {
   "cell_type": "code",
   "execution_count": 84,
   "metadata": {},
   "outputs": [
    {
     "data": {
      "text/plain": [
       "26"
      ]
     },
     "execution_count": 84,
     "metadata": {},
     "output_type": "execute_result"
    }
   ],
   "source": [
    "df_nums = df[df[0] <= 9]\n",
    "df_lletres = df[df[0] >= 10]\n",
    "df_lletres = df_lletres[df_lletres[0] <= 35]\n",
    "len([label_dictionary[x] for x in df_lletres[0].unique()])"
   ]
  },
  {
   "cell_type": "code",
   "execution_count": 66,
   "metadata": {},
   "outputs": [],
   "source": [
    "X_nums = df_nums.iloc[:,1:]\n",
    "y_nums = df_nums.iloc[:,0]\n",
    "train_x_nums, test_x_nums, train_y_nums, test_y_nums = train_test_split(X_nums, y_nums, test_size=0.2, random_state=42, shuffle=True)\n",
    "X_lletres = df_lletres.iloc[:,1:]\n",
    "y_lletres = df_lletres.iloc[:,0]\n",
    "train_x_lletres, test_x_lletres, train_y_lletres, test_y_lletres = train_test_split(X_lletres, y_lletres, test_size=0.2, random_state=42, shuffle=True)"
   ]
  },
  {
   "cell_type": "code",
   "execution_count": 88,
   "metadata": {},
   "outputs": [
    {
     "data": {
      "text/plain": [
       "26"
      ]
     },
     "execution_count": 88,
     "metadata": {},
     "output_type": "execute_result"
    }
   ],
   "source": []
  },
  {
   "cell_type": "code",
   "execution_count": 67,
   "metadata": {},
   "outputs": [],
   "source": [
    "resh = lambda x: np.array(x).reshape(28, 28)\n",
    "train_x_nums_2d = train_x_nums.apply(resh, axis=1)\n",
    "test_x_nums_2d = test_x_nums.apply(resh, axis=1)\n",
    "train_x_lletres_2d = train_x_lletres.apply(resh, axis=1)\n",
    "test_x_lletres_2d = test_x_lletres.apply(resh, axis=1)"
   ]
  },
  {
   "cell_type": "code",
   "execution_count": 68,
   "metadata": {},
   "outputs": [
    {
     "name": "stdout",
     "output_type": "stream",
     "text": [
      "(22400, 784)\n",
      "(58240, 784)\n",
      "(80640, 784)\n"
     ]
    }
   ],
   "source": [
    "print(train_x_nums.shape)\n",
    "print(train_x_lletres.shape)\n",
    "print(pd.concat([train_x_lletres,train_x_nums]).shape)"
   ]
  },
  {
   "cell_type": "code",
   "execution_count": 69,
   "metadata": {},
   "outputs": [
    {
     "data": {
      "text/html": [
       "<div>\n",
       "<style scoped>\n",
       "    .dataframe tbody tr th:only-of-type {\n",
       "        vertical-align: middle;\n",
       "    }\n",
       "\n",
       "    .dataframe tbody tr th {\n",
       "        vertical-align: top;\n",
       "    }\n",
       "\n",
       "    .dataframe thead th {\n",
       "        text-align: right;\n",
       "    }\n",
       "</style>\n",
       "<table border=\"1\" class=\"dataframe\">\n",
       "  <thead>\n",
       "    <tr style=\"text-align: right;\">\n",
       "      <th></th>\n",
       "      <th>1</th>\n",
       "      <th>2</th>\n",
       "      <th>3</th>\n",
       "      <th>4</th>\n",
       "      <th>5</th>\n",
       "      <th>6</th>\n",
       "      <th>7</th>\n",
       "      <th>8</th>\n",
       "      <th>9</th>\n",
       "      <th>10</th>\n",
       "      <th>...</th>\n",
       "      <th>776</th>\n",
       "      <th>777</th>\n",
       "      <th>778</th>\n",
       "      <th>779</th>\n",
       "      <th>780</th>\n",
       "      <th>781</th>\n",
       "      <th>782</th>\n",
       "      <th>783</th>\n",
       "      <th>784</th>\n",
       "      <th>0</th>\n",
       "    </tr>\n",
       "  </thead>\n",
       "  <tbody>\n",
       "    <tr>\n",
       "      <th>18176</th>\n",
       "      <td>0</td>\n",
       "      <td>0</td>\n",
       "      <td>0</td>\n",
       "      <td>0</td>\n",
       "      <td>0</td>\n",
       "      <td>0</td>\n",
       "      <td>0</td>\n",
       "      <td>0</td>\n",
       "      <td>0</td>\n",
       "      <td>0</td>\n",
       "      <td>...</td>\n",
       "      <td>0</td>\n",
       "      <td>0</td>\n",
       "      <td>0</td>\n",
       "      <td>0</td>\n",
       "      <td>0</td>\n",
       "      <td>0</td>\n",
       "      <td>0</td>\n",
       "      <td>0</td>\n",
       "      <td>0</td>\n",
       "      <td>7</td>\n",
       "    </tr>\n",
       "    <tr>\n",
       "      <th>35530</th>\n",
       "      <td>0</td>\n",
       "      <td>0</td>\n",
       "      <td>0</td>\n",
       "      <td>0</td>\n",
       "      <td>0</td>\n",
       "      <td>0</td>\n",
       "      <td>0</td>\n",
       "      <td>0</td>\n",
       "      <td>0</td>\n",
       "      <td>0</td>\n",
       "      <td>...</td>\n",
       "      <td>0</td>\n",
       "      <td>0</td>\n",
       "      <td>0</td>\n",
       "      <td>0</td>\n",
       "      <td>0</td>\n",
       "      <td>0</td>\n",
       "      <td>0</td>\n",
       "      <td>0</td>\n",
       "      <td>0</td>\n",
       "      <td>9</td>\n",
       "    </tr>\n",
       "    <tr>\n",
       "      <th>9673</th>\n",
       "      <td>0</td>\n",
       "      <td>0</td>\n",
       "      <td>0</td>\n",
       "      <td>0</td>\n",
       "      <td>0</td>\n",
       "      <td>0</td>\n",
       "      <td>0</td>\n",
       "      <td>0</td>\n",
       "      <td>0</td>\n",
       "      <td>0</td>\n",
       "      <td>...</td>\n",
       "      <td>0</td>\n",
       "      <td>0</td>\n",
       "      <td>0</td>\n",
       "      <td>0</td>\n",
       "      <td>0</td>\n",
       "      <td>0</td>\n",
       "      <td>0</td>\n",
       "      <td>0</td>\n",
       "      <td>0</td>\n",
       "      <td>2</td>\n",
       "    </tr>\n",
       "    <tr>\n",
       "      <th>66798</th>\n",
       "      <td>0</td>\n",
       "      <td>0</td>\n",
       "      <td>0</td>\n",
       "      <td>0</td>\n",
       "      <td>0</td>\n",
       "      <td>0</td>\n",
       "      <td>0</td>\n",
       "      <td>0</td>\n",
       "      <td>0</td>\n",
       "      <td>0</td>\n",
       "      <td>...</td>\n",
       "      <td>0</td>\n",
       "      <td>0</td>\n",
       "      <td>0</td>\n",
       "      <td>0</td>\n",
       "      <td>0</td>\n",
       "      <td>0</td>\n",
       "      <td>0</td>\n",
       "      <td>0</td>\n",
       "      <td>0</td>\n",
       "      <td>4</td>\n",
       "    </tr>\n",
       "    <tr>\n",
       "      <th>28162</th>\n",
       "      <td>0</td>\n",
       "      <td>0</td>\n",
       "      <td>0</td>\n",
       "      <td>0</td>\n",
       "      <td>0</td>\n",
       "      <td>0</td>\n",
       "      <td>0</td>\n",
       "      <td>0</td>\n",
       "      <td>0</td>\n",
       "      <td>0</td>\n",
       "      <td>...</td>\n",
       "      <td>0</td>\n",
       "      <td>0</td>\n",
       "      <td>0</td>\n",
       "      <td>0</td>\n",
       "      <td>0</td>\n",
       "      <td>0</td>\n",
       "      <td>0</td>\n",
       "      <td>0</td>\n",
       "      <td>0</td>\n",
       "      <td>9</td>\n",
       "    </tr>\n",
       "    <tr>\n",
       "      <th>...</th>\n",
       "      <td>...</td>\n",
       "      <td>...</td>\n",
       "      <td>...</td>\n",
       "      <td>...</td>\n",
       "      <td>...</td>\n",
       "      <td>...</td>\n",
       "      <td>...</td>\n",
       "      <td>...</td>\n",
       "      <td>...</td>\n",
       "      <td>...</td>\n",
       "      <td>...</td>\n",
       "      <td>...</td>\n",
       "      <td>...</td>\n",
       "      <td>...</td>\n",
       "      <td>...</td>\n",
       "      <td>...</td>\n",
       "      <td>...</td>\n",
       "      <td>...</td>\n",
       "      <td>...</td>\n",
       "      <td>...</td>\n",
       "      <td>...</td>\n",
       "    </tr>\n",
       "    <tr>\n",
       "      <th>101199</th>\n",
       "      <td>0</td>\n",
       "      <td>0</td>\n",
       "      <td>0</td>\n",
       "      <td>0</td>\n",
       "      <td>0</td>\n",
       "      <td>0</td>\n",
       "      <td>0</td>\n",
       "      <td>0</td>\n",
       "      <td>0</td>\n",
       "      <td>0</td>\n",
       "      <td>...</td>\n",
       "      <td>0</td>\n",
       "      <td>0</td>\n",
       "      <td>0</td>\n",
       "      <td>0</td>\n",
       "      <td>0</td>\n",
       "      <td>0</td>\n",
       "      <td>0</td>\n",
       "      <td>0</td>\n",
       "      <td>0</td>\n",
       "      <td>0</td>\n",
       "    </tr>\n",
       "    <tr>\n",
       "      <th>24717</th>\n",
       "      <td>0</td>\n",
       "      <td>0</td>\n",
       "      <td>0</td>\n",
       "      <td>0</td>\n",
       "      <td>0</td>\n",
       "      <td>0</td>\n",
       "      <td>0</td>\n",
       "      <td>0</td>\n",
       "      <td>0</td>\n",
       "      <td>0</td>\n",
       "      <td>...</td>\n",
       "      <td>0</td>\n",
       "      <td>0</td>\n",
       "      <td>0</td>\n",
       "      <td>0</td>\n",
       "      <td>0</td>\n",
       "      <td>0</td>\n",
       "      <td>0</td>\n",
       "      <td>0</td>\n",
       "      <td>0</td>\n",
       "      <td>2</td>\n",
       "    </tr>\n",
       "    <tr>\n",
       "      <th>3885</th>\n",
       "      <td>0</td>\n",
       "      <td>0</td>\n",
       "      <td>0</td>\n",
       "      <td>0</td>\n",
       "      <td>0</td>\n",
       "      <td>0</td>\n",
       "      <td>0</td>\n",
       "      <td>0</td>\n",
       "      <td>0</td>\n",
       "      <td>0</td>\n",
       "      <td>...</td>\n",
       "      <td>0</td>\n",
       "      <td>0</td>\n",
       "      <td>0</td>\n",
       "      <td>0</td>\n",
       "      <td>0</td>\n",
       "      <td>0</td>\n",
       "      <td>0</td>\n",
       "      <td>0</td>\n",
       "      <td>0</td>\n",
       "      <td>3</td>\n",
       "    </tr>\n",
       "    <tr>\n",
       "      <th>74152</th>\n",
       "      <td>0</td>\n",
       "      <td>0</td>\n",
       "      <td>0</td>\n",
       "      <td>0</td>\n",
       "      <td>0</td>\n",
       "      <td>0</td>\n",
       "      <td>0</td>\n",
       "      <td>0</td>\n",
       "      <td>0</td>\n",
       "      <td>0</td>\n",
       "      <td>...</td>\n",
       "      <td>0</td>\n",
       "      <td>0</td>\n",
       "      <td>0</td>\n",
       "      <td>0</td>\n",
       "      <td>0</td>\n",
       "      <td>0</td>\n",
       "      <td>0</td>\n",
       "      <td>0</td>\n",
       "      <td>0</td>\n",
       "      <td>2</td>\n",
       "    </tr>\n",
       "    <tr>\n",
       "      <th>111061</th>\n",
       "      <td>0</td>\n",
       "      <td>0</td>\n",
       "      <td>0</td>\n",
       "      <td>0</td>\n",
       "      <td>0</td>\n",
       "      <td>0</td>\n",
       "      <td>0</td>\n",
       "      <td>0</td>\n",
       "      <td>0</td>\n",
       "      <td>0</td>\n",
       "      <td>...</td>\n",
       "      <td>0</td>\n",
       "      <td>0</td>\n",
       "      <td>0</td>\n",
       "      <td>0</td>\n",
       "      <td>0</td>\n",
       "      <td>0</td>\n",
       "      <td>0</td>\n",
       "      <td>0</td>\n",
       "      <td>0</td>\n",
       "      <td>0</td>\n",
       "    </tr>\n",
       "  </tbody>\n",
       "</table>\n",
       "<p>22400 rows × 785 columns</p>\n",
       "</div>"
      ],
      "text/plain": [
       "        1    2    3    4    5    6    7    8    9    10   ...  776  777  778  \\\n",
       "18176     0    0    0    0    0    0    0    0    0    0  ...    0    0    0   \n",
       "35530     0    0    0    0    0    0    0    0    0    0  ...    0    0    0   \n",
       "9673      0    0    0    0    0    0    0    0    0    0  ...    0    0    0   \n",
       "66798     0    0    0    0    0    0    0    0    0    0  ...    0    0    0   \n",
       "28162     0    0    0    0    0    0    0    0    0    0  ...    0    0    0   \n",
       "...     ...  ...  ...  ...  ...  ...  ...  ...  ...  ...  ...  ...  ...  ...   \n",
       "101199    0    0    0    0    0    0    0    0    0    0  ...    0    0    0   \n",
       "24717     0    0    0    0    0    0    0    0    0    0  ...    0    0    0   \n",
       "3885      0    0    0    0    0    0    0    0    0    0  ...    0    0    0   \n",
       "74152     0    0    0    0    0    0    0    0    0    0  ...    0    0    0   \n",
       "111061    0    0    0    0    0    0    0    0    0    0  ...    0    0    0   \n",
       "\n",
       "        779  780  781  782  783  784  0    \n",
       "18176     0    0    0    0    0    0    7  \n",
       "35530     0    0    0    0    0    0    9  \n",
       "9673      0    0    0    0    0    0    2  \n",
       "66798     0    0    0    0    0    0    4  \n",
       "28162     0    0    0    0    0    0    9  \n",
       "...     ...  ...  ...  ...  ...  ...  ...  \n",
       "101199    0    0    0    0    0    0    0  \n",
       "24717     0    0    0    0    0    0    2  \n",
       "3885      0    0    0    0    0    0    3  \n",
       "74152     0    0    0    0    0    0    2  \n",
       "111061    0    0    0    0    0    0    0  \n",
       "\n",
       "[22400 rows x 785 columns]"
      ]
     },
     "execution_count": 69,
     "metadata": {},
     "output_type": "execute_result"
    }
   ],
   "source": [
    "train_nums = pd.concat([train_x_nums,train_y_nums],axis=1)\n",
    "train_nums"
   ]
  },
  {
   "cell_type": "code",
   "execution_count": 70,
   "metadata": {},
   "outputs": [
    {
     "name": "stdout",
     "output_type": "stream",
     "text": [
      "Fold # 0\n",
      "fitted!!\n",
      "predicted!!\n",
      "Accuracy: 0.9296875\n",
      "F1: 0.9295542673859059\n",
      "Precision: 0.9297673809245891\n",
      "Recall: 0.9296582559697596\n",
      "Fold # 1\n"
     ]
    },
    {
     "name": "stderr",
     "output_type": "stream",
     "text": [
      "C:\\Users\\berna\\AppData\\Local\\Temp\\ipykernel_20764\\1359055015.py:17: FutureWarning:\n",
      "\n",
      "The frame.append method is deprecated and will be removed from pandas in a future version. Use pandas.concat instead.\n",
      "\n"
     ]
    },
    {
     "name": "stdout",
     "output_type": "stream",
     "text": [
      "fitted!!\n",
      "predicted!!\n",
      "Accuracy: 0.9325892857142857\n",
      "F1: 0.9323452009201653\n",
      "Precision: 0.9321913128423507\n",
      "Recall: 0.9328752527624872\n",
      "Fold # 2\n"
     ]
    },
    {
     "name": "stderr",
     "output_type": "stream",
     "text": [
      "C:\\Users\\berna\\AppData\\Local\\Temp\\ipykernel_20764\\1359055015.py:17: FutureWarning:\n",
      "\n",
      "The frame.append method is deprecated and will be removed from pandas in a future version. Use pandas.concat instead.\n",
      "\n"
     ]
    },
    {
     "name": "stdout",
     "output_type": "stream",
     "text": [
      "fitted!!\n",
      "predicted!!\n",
      "Accuracy: 0.9241071428571429\n",
      "F1: 0.9239662210326666\n",
      "Precision: 0.9241668617502649\n",
      "Recall: 0.9243369783855598\n",
      "Fold # 3\n"
     ]
    },
    {
     "name": "stderr",
     "output_type": "stream",
     "text": [
      "C:\\Users\\berna\\AppData\\Local\\Temp\\ipykernel_20764\\1359055015.py:17: FutureWarning:\n",
      "\n",
      "The frame.append method is deprecated and will be removed from pandas in a future version. Use pandas.concat instead.\n",
      "\n"
     ]
    },
    {
     "name": "stdout",
     "output_type": "stream",
     "text": [
      "fitted!!\n",
      "predicted!!\n",
      "Accuracy: 0.9194196428571428\n",
      "F1: 0.918862461721905\n",
      "Precision: 0.9194059169630874\n",
      "Recall: 0.9190362176712951\n",
      "Fold # 4\n"
     ]
    },
    {
     "name": "stderr",
     "output_type": "stream",
     "text": [
      "C:\\Users\\berna\\AppData\\Local\\Temp\\ipykernel_20764\\1359055015.py:17: FutureWarning:\n",
      "\n",
      "The frame.append method is deprecated and will be removed from pandas in a future version. Use pandas.concat instead.\n",
      "\n"
     ]
    },
    {
     "name": "stdout",
     "output_type": "stream",
     "text": [
      "fitted!!\n",
      "predicted!!\n",
      "Accuracy: 0.9265625\n",
      "F1: 0.9261205833226\n",
      "Precision: 0.9265175430468202\n",
      "Recall: 0.9264329763474228\n"
     ]
    },
    {
     "name": "stderr",
     "output_type": "stream",
     "text": [
      "C:\\Users\\berna\\AppData\\Local\\Temp\\ipykernel_20764\\1359055015.py:17: FutureWarning:\n",
      "\n",
      "The frame.append method is deprecated and will be removed from pandas in a future version. Use pandas.concat instead.\n",
      "\n"
     ]
    }
   ],
   "source": [
    "kfold = KFold(n_splits=5, shuffle=True, random_state=42)\n",
    "output_nums = pd.DataFrame(columns=['#fold', 'accuracy_score','f1_score','precision_score','recall_score'])\n",
    "train_nums = pd.concat([train_x_nums,train_y_nums],axis=1)\n",
    "for i, (train_index, test_index) in enumerate(kfold.split(train_nums)):\n",
    "    print(\"Fold #\", i)\n",
    "    X_train, X_test = train_nums.iloc[train_index,:-1], train_nums.iloc[test_index,:-1]\n",
    "    y_train, y_test = train_nums.iloc[train_index,-1], train_nums.iloc[test_index,-1]\n",
    "    model = SVC(kernel='linear', C=1, random_state=42)\n",
    "    model.fit(X_train, y_train)\n",
    "    print(\"fitted!!\")\n",
    "    y_pred = model.predict(X_test)\n",
    "    print(\"predicted!!\")\n",
    "    print(\"Accuracy:\", accuracy_score(y_test, y_pred))\n",
    "    print(\"F1:\", f1_score(y_test, y_pred, average='macro'))\n",
    "    print(\"Precision:\", precision_score(y_test, y_pred, average='macro'))\n",
    "    print(\"Recall:\", recall_score(y_test, y_pred, average='macro'))\n",
    "    output_nums = output_nums.append({'#fold': i,\n",
    "                                            'accuracy_score': accuracy_score(y_test, y_pred),\n",
    "                                            'f1_score': f1_score(y_test, y_pred, average='macro'),\n",
    "                                            'precision_score': precision_score(y_test, y_pred, average='macro'),\n",
    "                                            'recall_score': recall_score(y_test, y_pred, average='macro')}, ignore_index=True)"
   ]
  },
  {
   "cell_type": "code",
   "execution_count": 71,
   "metadata": {},
   "outputs": [
    {
     "data": {
      "text/html": [
       "<div>\n",
       "<style scoped>\n",
       "    .dataframe tbody tr th:only-of-type {\n",
       "        vertical-align: middle;\n",
       "    }\n",
       "\n",
       "    .dataframe tbody tr th {\n",
       "        vertical-align: top;\n",
       "    }\n",
       "\n",
       "    .dataframe thead th {\n",
       "        text-align: right;\n",
       "    }\n",
       "</style>\n",
       "<table border=\"1\" class=\"dataframe\">\n",
       "  <thead>\n",
       "    <tr style=\"text-align: right;\">\n",
       "      <th></th>\n",
       "      <th>#fold</th>\n",
       "      <th>accuracy_score</th>\n",
       "      <th>f1_score</th>\n",
       "      <th>precision_score</th>\n",
       "      <th>recall_score</th>\n",
       "    </tr>\n",
       "  </thead>\n",
       "  <tbody>\n",
       "    <tr>\n",
       "      <th>0</th>\n",
       "      <td>0.0</td>\n",
       "      <td>0.929688</td>\n",
       "      <td>0.929554</td>\n",
       "      <td>0.929767</td>\n",
       "      <td>0.929658</td>\n",
       "    </tr>\n",
       "    <tr>\n",
       "      <th>1</th>\n",
       "      <td>1.0</td>\n",
       "      <td>0.932589</td>\n",
       "      <td>0.932345</td>\n",
       "      <td>0.932191</td>\n",
       "      <td>0.932875</td>\n",
       "    </tr>\n",
       "    <tr>\n",
       "      <th>2</th>\n",
       "      <td>2.0</td>\n",
       "      <td>0.924107</td>\n",
       "      <td>0.923966</td>\n",
       "      <td>0.924167</td>\n",
       "      <td>0.924337</td>\n",
       "    </tr>\n",
       "    <tr>\n",
       "      <th>3</th>\n",
       "      <td>3.0</td>\n",
       "      <td>0.919420</td>\n",
       "      <td>0.918862</td>\n",
       "      <td>0.919406</td>\n",
       "      <td>0.919036</td>\n",
       "    </tr>\n",
       "    <tr>\n",
       "      <th>4</th>\n",
       "      <td>4.0</td>\n",
       "      <td>0.926562</td>\n",
       "      <td>0.926121</td>\n",
       "      <td>0.926518</td>\n",
       "      <td>0.926433</td>\n",
       "    </tr>\n",
       "  </tbody>\n",
       "</table>\n",
       "</div>"
      ],
      "text/plain": [
       "   #fold  accuracy_score  f1_score  precision_score  recall_score\n",
       "0    0.0        0.929688  0.929554         0.929767      0.929658\n",
       "1    1.0        0.932589  0.932345         0.932191      0.932875\n",
       "2    2.0        0.924107  0.923966         0.924167      0.924337\n",
       "3    3.0        0.919420  0.918862         0.919406      0.919036\n",
       "4    4.0        0.926562  0.926121         0.926518      0.926433"
      ]
     },
     "execution_count": 71,
     "metadata": {},
     "output_type": "execute_result"
    }
   ],
   "source": [
    "output_nums"
   ]
  },
  {
   "cell_type": "code",
   "execution_count": 72,
   "metadata": {},
   "outputs": [
    {
     "data": {
      "text/plain": [
       "#fold              2.000000\n",
       "accuracy_score     0.926473\n",
       "f1_score           0.926170\n",
       "precision_score    0.926410\n",
       "recall_score       0.926468\n",
       "dtype: float64"
      ]
     },
     "execution_count": 72,
     "metadata": {},
     "output_type": "execute_result"
    }
   ],
   "source": [
    "output_nums.mean()"
   ]
  },
  {
   "cell_type": "code",
   "execution_count": 73,
   "metadata": {},
   "outputs": [],
   "source": [
    "# SVClassifier_nums_1d = SVC(kernel='linear', verbose=True, random_state=42, C=1.0)\n",
    "# # SVClassifier_nums_1d.fit(train_x_nums,train_y_nums)\n",
    "# cv_nums = cross_val_score(SVClassifier_nums_1d, train_x_nums, train_y_nums, cv=5,scoring=['accuracy','f1_score','precision','recall'])\n"
   ]
  },
  {
   "cell_type": "code",
   "execution_count": null,
   "metadata": {},
   "outputs": [],
   "source": []
  },
  {
   "cell_type": "code",
   "execution_count": 74,
   "metadata": {},
   "outputs": [
    {
     "name": "stdout",
     "output_type": "stream",
     "text": [
      "              precision    recall  f1-score   support\n",
      "\n",
      "           0       0.93      0.95      0.94       536\n",
      "           1       0.95      0.99      0.97       578\n",
      "           2       0.89      0.95      0.92       534\n",
      "           3       0.91      0.93      0.92       565\n",
      "           4       0.91      0.92      0.92       546\n",
      "           5       0.91      0.89      0.90       595\n",
      "           6       0.98      0.94      0.96       574\n",
      "           7       0.94      0.95      0.95       565\n",
      "           8       0.96      0.87      0.92       556\n",
      "           9       0.90      0.90      0.90       551\n",
      "\n",
      "    accuracy                           0.93      5600\n",
      "   macro avg       0.93      0.93      0.93      5600\n",
      "weighted avg       0.93      0.93      0.93      5600\n",
      "\n"
     ]
    }
   ],
   "source": [
    "SVC_pred_nums_1d = model.predict(test_x_nums)\n",
    "print(classification_report(test_y_nums, SVC_pred_nums_1d))"
   ]
  },
  {
   "cell_type": "code",
   "execution_count": 75,
   "metadata": {},
   "outputs": [
    {
     "data": {
      "text/plain": [
       "(22400, 784)"
      ]
     },
     "execution_count": 75,
     "metadata": {},
     "output_type": "execute_result"
    }
   ],
   "source": [
    "train_x_nums.shape"
   ]
  },
  {
   "cell_type": "code",
   "execution_count": 76,
   "metadata": {},
   "outputs": [
    {
     "name": "stdout",
     "output_type": "stream",
     "text": [
      "Fold # 0\n",
      "fitted!!\n",
      "predicted!!\n",
      "Accuracy: 0.7681818181818182\n",
      "F1: 0.7674725521445346\n",
      "Precision: 0.7718326959404337\n",
      "Recall: 0.7665029397530668\n",
      "Fold # 1\n"
     ]
    },
    {
     "name": "stderr",
     "output_type": "stream",
     "text": [
      "C:\\Users\\berna\\AppData\\Local\\Temp\\ipykernel_20764\\2501234484.py:23: FutureWarning:\n",
      "\n",
      "The frame.append method is deprecated and will be removed from pandas in a future version. Use pandas.concat instead.\n",
      "\n"
     ]
    },
    {
     "name": "stdout",
     "output_type": "stream",
     "text": [
      "fitted!!\n",
      "predicted!!\n",
      "Accuracy: 0.7415584415584415\n",
      "F1: 0.7436745753464038\n",
      "Precision: 0.7527798403025812\n",
      "Recall: 0.7424583449766637\n",
      "Fold # 2\n"
     ]
    },
    {
     "name": "stderr",
     "output_type": "stream",
     "text": [
      "C:\\Users\\berna\\AppData\\Local\\Temp\\ipykernel_20764\\2501234484.py:23: FutureWarning:\n",
      "\n",
      "The frame.append method is deprecated and will be removed from pandas in a future version. Use pandas.concat instead.\n",
      "\n"
     ]
    },
    {
     "name": "stdout",
     "output_type": "stream",
     "text": [
      "fitted!!\n",
      "predicted!!\n",
      "Accuracy: 0.7727272727272727\n",
      "F1: 0.76992854979726\n",
      "Precision: 0.7724590735800024\n",
      "Recall: 0.7720028575150457\n",
      "Fold # 3\n"
     ]
    },
    {
     "name": "stderr",
     "output_type": "stream",
     "text": [
      "C:\\Users\\berna\\AppData\\Local\\Temp\\ipykernel_20764\\2501234484.py:23: FutureWarning:\n",
      "\n",
      "The frame.append method is deprecated and will be removed from pandas in a future version. Use pandas.concat instead.\n",
      "\n"
     ]
    },
    {
     "name": "stdout",
     "output_type": "stream",
     "text": [
      "fitted!!\n",
      "predicted!!\n",
      "Accuracy: 0.7467532467532467\n",
      "F1: 0.745973363733471\n",
      "Precision: 0.7492464507974439\n",
      "Recall: 0.7473874170157484\n",
      "Fold # 4\n"
     ]
    },
    {
     "name": "stderr",
     "output_type": "stream",
     "text": [
      "C:\\Users\\berna\\AppData\\Local\\Temp\\ipykernel_20764\\2501234484.py:23: FutureWarning:\n",
      "\n",
      "The frame.append method is deprecated and will be removed from pandas in a future version. Use pandas.concat instead.\n",
      "\n"
     ]
    },
    {
     "name": "stdout",
     "output_type": "stream",
     "text": [
      "fitted!!\n",
      "predicted!!\n",
      "Accuracy: 0.7688311688311689\n",
      "F1: 0.7693614450050563\n",
      "Precision: 0.7739719075602877\n",
      "Recall: 0.770972065643507\n"
     ]
    },
    {
     "name": "stderr",
     "output_type": "stream",
     "text": [
      "C:\\Users\\berna\\AppData\\Local\\Temp\\ipykernel_20764\\2501234484.py:23: FutureWarning:\n",
      "\n",
      "The frame.append method is deprecated and will be removed from pandas in a future version. Use pandas.concat instead.\n",
      "\n"
     ]
    }
   ],
   "source": [
    "# resampling amb 10 classes\n",
    "samples = list()\n",
    "for i in range(df_lletres[0].max()):\n",
    "    if i < 9: continue\n",
    "    samples.append(df_lletres[df_lletres[0]==i].sample(frac=0.11, random_state=42))\n",
    "\n",
    "sample_lletres = pd.concat(samples)\n",
    "kfold = KFold(n_splits=5, shuffle=True, random_state=42)\n",
    "output_lletres = pd.DataFrame(columns=['#fold', 'accuracy_score','f1_score','precision_score','recall_score'])\n",
    "for i, (train_index, test_index) in enumerate(kfold.split(sample_lletres)):\n",
    "    print(\"Fold #\", i)\n",
    "    X_train, X_test = sample_lletres.iloc[train_index,1:], sample_lletres.iloc[test_index,1:]\n",
    "    y_train, y_test = sample_lletres.iloc[train_index,0], sample_lletres.iloc[test_index,0]\n",
    "    model2 = SVC(kernel='linear', C=1, random_state=42)\n",
    "    model2.fit(X_train, y_train)\n",
    "    print(\"fitted!!\")\n",
    "    y_pred = model2.predict(X_test)\n",
    "    print(\"predicted!!\")\n",
    "    print(\"Accuracy:\", accuracy_score(y_test, y_pred))\n",
    "    print(\"F1:\", f1_score(y_test, y_pred, average='macro'))\n",
    "    print(\"Precision:\", precision_score(y_test, y_pred, average='macro'))\n",
    "    print(\"Recall:\", recall_score(y_test, y_pred, average='macro'))\n",
    "    output_lletres = output_lletres.append({'#fold': i,\n",
    "                                            'accuracy_score': accuracy_score(y_test, y_pred),\n",
    "                                            'f1_score': f1_score(y_test, y_pred, average='macro'),\n",
    "                                            'precision_score': precision_score(y_test, y_pred, average='macro'),\n",
    "                                            'recall_score': recall_score(y_test, y_pred, average='macro')}, ignore_index=True)\n",
    "# train_y_lletres = sample_lletres.iloc[:,0]\n",
    "# train_x_lletres = sample_lletres.iloc[:,1:]\n",
    "# print(train_x_nums.shape)\n",
    "# print(train_x_lletres.shape)\n",
    "# # print(train_y_lletres.iloc[0])\n",
    "# print(train_y_lletres.value_counts())"
   ]
  },
  {
   "cell_type": "code",
   "execution_count": 77,
   "metadata": {},
   "outputs": [
    {
     "data": {
      "text/plain": [
       "Int64Index([  0,   1,   2,   3,   4,   5,   6,   7,   8,   9,\n",
       "            ...\n",
       "            775, 776, 777, 778, 779, 780, 781, 782, 783, 784],\n",
       "           dtype='int64', length=785)"
      ]
     },
     "execution_count": 77,
     "metadata": {},
     "output_type": "execute_result"
    }
   ],
   "source": [
    "sample_lletres.columns"
   ]
  },
  {
   "cell_type": "code",
   "execution_count": 78,
   "metadata": {},
   "outputs": [
    {
     "data": {
      "text/plain": [
       "#fold              2.000000\n",
       "accuracy_score     0.759610\n",
       "f1_score           0.759282\n",
       "precision_score    0.764058\n",
       "recall_score       0.759865\n",
       "dtype: float64"
      ]
     },
     "execution_count": 78,
     "metadata": {},
     "output_type": "execute_result"
    }
   ],
   "source": [
    "output_lletres.mean()"
   ]
  },
  {
   "cell_type": "code",
   "execution_count": 118,
   "metadata": {},
   "outputs": [
    {
     "data": {
      "text/plain": [
       "25"
      ]
     },
     "execution_count": 118,
     "metadata": {},
     "output_type": "execute_result"
    }
   ],
   "source": [
    "len(np.unique(SVC_pred_lletres_1d))"
   ]
  },
  {
   "cell_type": "code",
   "execution_count": 79,
   "metadata": {},
   "outputs": [
    {
     "name": "stdout",
     "output_type": "stream",
     "text": [
      "              precision    recall  f1-score   support\n",
      "\n",
      "          10       0.75      0.78      0.76       568\n",
      "          11       0.70      0.88      0.78       527\n",
      "          12       0.74      0.92      0.82       552\n",
      "          13       0.77      0.84      0.80       583\n",
      "          14       0.73      0.81      0.77       597\n",
      "          15       0.75      0.75      0.75       570\n",
      "          16       0.82      0.78      0.80       592\n",
      "          17       0.74      0.82      0.78       585\n",
      "          18       0.46      0.58      0.51       589\n",
      "          19       0.74      0.81      0.78       597\n",
      "          20       0.70      0.71      0.71       548\n",
      "          21       0.51      0.57      0.54       581\n",
      "          22       0.92      0.89      0.90       591\n",
      "          23       0.74      0.75      0.75       537\n",
      "          24       0.86      0.85      0.85       554\n",
      "          25       0.81      0.84      0.82       532\n",
      "          26       0.83      0.77      0.80       537\n",
      "          27       0.76      0.69      0.72       529\n",
      "          28       0.84      0.80      0.82       548\n",
      "          29       0.86      0.92      0.89       533\n",
      "          30       0.76      0.75      0.76       544\n",
      "          31       0.79      0.78      0.78       568\n",
      "          32       0.88      0.83      0.85       555\n",
      "          33       0.71      0.74      0.73       529\n",
      "          34       0.82      0.75      0.78       544\n",
      "          35       0.00      0.00      0.00       570\n",
      "\n",
      "    accuracy                           0.75     14560\n",
      "   macro avg       0.73      0.75      0.74     14560\n",
      "weighted avg       0.73      0.75      0.74     14560\n",
      "\n"
     ]
    },
    {
     "name": "stderr",
     "output_type": "stream",
     "text": [
      "c:\\Users\\berna\\anaconda3\\envs\\torch\\lib\\site-packages\\sklearn\\metrics\\_classification.py:1469: UndefinedMetricWarning:\n",
      "\n",
      "Precision and F-score are ill-defined and being set to 0.0 in labels with no predicted samples. Use `zero_division` parameter to control this behavior.\n",
      "\n",
      "c:\\Users\\berna\\anaconda3\\envs\\torch\\lib\\site-packages\\sklearn\\metrics\\_classification.py:1469: UndefinedMetricWarning:\n",
      "\n",
      "Precision and F-score are ill-defined and being set to 0.0 in labels with no predicted samples. Use `zero_division` parameter to control this behavior.\n",
      "\n",
      "c:\\Users\\berna\\anaconda3\\envs\\torch\\lib\\site-packages\\sklearn\\metrics\\_classification.py:1469: UndefinedMetricWarning:\n",
      "\n",
      "Precision and F-score are ill-defined and being set to 0.0 in labels with no predicted samples. Use `zero_division` parameter to control this behavior.\n",
      "\n"
     ]
    }
   ],
   "source": [
    "SVC_pred_lletres_1d = model2.predict(test_x_lletres)\n",
    "print(classification_report(test_y_lletres, SVC_pred_lletres_1d))"
   ]
  },
  {
   "cell_type": "code",
   "execution_count": 92,
   "metadata": {},
   "outputs": [
    {
     "data": {
      "text/html": [
       "<div>\n",
       "<style scoped>\n",
       "    .dataframe tbody tr th:only-of-type {\n",
       "        vertical-align: middle;\n",
       "    }\n",
       "\n",
       "    .dataframe tbody tr th {\n",
       "        vertical-align: top;\n",
       "    }\n",
       "\n",
       "    .dataframe thead th {\n",
       "        text-align: right;\n",
       "    }\n",
       "</style>\n",
       "<table border=\"1\" class=\"dataframe\">\n",
       "  <thead>\n",
       "    <tr style=\"text-align: right;\">\n",
       "      <th></th>\n",
       "      <th>#fold</th>\n",
       "      <th>accuracy_score</th>\n",
       "      <th>f1_score</th>\n",
       "      <th>precision_score</th>\n",
       "      <th>recall_score</th>\n",
       "    </tr>\n",
       "  </thead>\n",
       "  <tbody>\n",
       "    <tr>\n",
       "      <th>0</th>\n",
       "      <td>0.0</td>\n",
       "      <td>0.929688</td>\n",
       "      <td>0.929554</td>\n",
       "      <td>0.929767</td>\n",
       "      <td>0.929658</td>\n",
       "    </tr>\n",
       "    <tr>\n",
       "      <th>1</th>\n",
       "      <td>1.0</td>\n",
       "      <td>0.932589</td>\n",
       "      <td>0.932345</td>\n",
       "      <td>0.932191</td>\n",
       "      <td>0.932875</td>\n",
       "    </tr>\n",
       "    <tr>\n",
       "      <th>2</th>\n",
       "      <td>2.0</td>\n",
       "      <td>0.924107</td>\n",
       "      <td>0.923966</td>\n",
       "      <td>0.924167</td>\n",
       "      <td>0.924337</td>\n",
       "    </tr>\n",
       "    <tr>\n",
       "      <th>3</th>\n",
       "      <td>3.0</td>\n",
       "      <td>0.919420</td>\n",
       "      <td>0.918862</td>\n",
       "      <td>0.919406</td>\n",
       "      <td>0.919036</td>\n",
       "    </tr>\n",
       "    <tr>\n",
       "      <th>4</th>\n",
       "      <td>4.0</td>\n",
       "      <td>0.926562</td>\n",
       "      <td>0.926121</td>\n",
       "      <td>0.926518</td>\n",
       "      <td>0.926433</td>\n",
       "    </tr>\n",
       "  </tbody>\n",
       "</table>\n",
       "</div>"
      ],
      "text/plain": [
       "   #fold  accuracy_score  f1_score  precision_score  recall_score\n",
       "0    0.0        0.929688  0.929554         0.929767      0.929658\n",
       "1    1.0        0.932589  0.932345         0.932191      0.932875\n",
       "2    2.0        0.924107  0.923966         0.924167      0.924337\n",
       "3    3.0        0.919420  0.918862         0.919406      0.919036\n",
       "4    4.0        0.926562  0.926121         0.926518      0.926433"
      ]
     },
     "execution_count": 92,
     "metadata": {},
     "output_type": "execute_result"
    }
   ],
   "source": [
    "output_nums"
   ]
  },
  {
   "cell_type": "code",
   "execution_count": 94,
   "metadata": {},
   "outputs": [
    {
     "name": "stdout",
     "output_type": "stream",
     "text": [
      "(0.9201694884811467, 0.9327769400902821)\n",
      "(0.7418137908914127, 0.7774069883293665)\n"
     ]
    }
   ],
   "source": [
    "output_nums_acc = output_nums['accuracy_score']\n",
    "output_lletres_acc = output_lletres['accuracy_score']\n",
    "print(t.interval(alpha=0.95, df=len(output_nums_acc)-1, loc=output_nums_acc.mean(), scale=output_nums_acc.std()/np.sqrt(len(output_nums_acc))))\n",
    "print(t.interval(alpha=0.95, df=len(output_lletres_acc)-1, loc=output_lletres_acc.mean(), scale=output_lletres_acc.std()/np.sqrt(len(output_lletres_acc))))"
   ]
  },
  {
   "cell_type": "code",
   "execution_count": null,
   "metadata": {},
   "outputs": [],
   "source": []
  },
  {
   "cell_type": "code",
   "execution_count": 95,
   "metadata": {},
   "outputs": [
    {
     "data": {
      "application/vnd.plotly.v1+json": {
       "config": {
        "plotlyServerURL": "https://plot.ly"
       },
       "data": [
        {
         "alignmentgroup": "True",
         "hovertemplate": "accuracy_score=%{y}<extra></extra>",
         "legendgroup": "",
         "marker": {
          "color": "#636efa"
         },
         "name": "",
         "notched": false,
         "offsetgroup": "",
         "orientation": "v",
         "showlegend": false,
         "type": "box",
         "x0": " ",
         "xaxis": "x",
         "y": [
          0.9296875,
          0.9325892857142857,
          0.9241071428571429,
          0.9194196428571428,
          0.9265625
         ],
         "y0": " ",
         "yaxis": "y"
        }
       ],
       "layout": {
        "boxmode": "group",
        "legend": {
         "tracegroupgap": 0
        },
        "template": {
         "data": {
          "bar": [
           {
            "error_x": {
             "color": "#2a3f5f"
            },
            "error_y": {
             "color": "#2a3f5f"
            },
            "marker": {
             "line": {
              "color": "#E5ECF6",
              "width": 0.5
             },
             "pattern": {
              "fillmode": "overlay",
              "size": 10,
              "solidity": 0.2
             }
            },
            "type": "bar"
           }
          ],
          "barpolar": [
           {
            "marker": {
             "line": {
              "color": "#E5ECF6",
              "width": 0.5
             },
             "pattern": {
              "fillmode": "overlay",
              "size": 10,
              "solidity": 0.2
             }
            },
            "type": "barpolar"
           }
          ],
          "carpet": [
           {
            "aaxis": {
             "endlinecolor": "#2a3f5f",
             "gridcolor": "white",
             "linecolor": "white",
             "minorgridcolor": "white",
             "startlinecolor": "#2a3f5f"
            },
            "baxis": {
             "endlinecolor": "#2a3f5f",
             "gridcolor": "white",
             "linecolor": "white",
             "minorgridcolor": "white",
             "startlinecolor": "#2a3f5f"
            },
            "type": "carpet"
           }
          ],
          "choropleth": [
           {
            "colorbar": {
             "outlinewidth": 0,
             "ticks": ""
            },
            "type": "choropleth"
           }
          ],
          "contour": [
           {
            "colorbar": {
             "outlinewidth": 0,
             "ticks": ""
            },
            "colorscale": [
             [
              0,
              "#0d0887"
             ],
             [
              0.1111111111111111,
              "#46039f"
             ],
             [
              0.2222222222222222,
              "#7201a8"
             ],
             [
              0.3333333333333333,
              "#9c179e"
             ],
             [
              0.4444444444444444,
              "#bd3786"
             ],
             [
              0.5555555555555556,
              "#d8576b"
             ],
             [
              0.6666666666666666,
              "#ed7953"
             ],
             [
              0.7777777777777778,
              "#fb9f3a"
             ],
             [
              0.8888888888888888,
              "#fdca26"
             ],
             [
              1,
              "#f0f921"
             ]
            ],
            "type": "contour"
           }
          ],
          "contourcarpet": [
           {
            "colorbar": {
             "outlinewidth": 0,
             "ticks": ""
            },
            "type": "contourcarpet"
           }
          ],
          "heatmap": [
           {
            "colorbar": {
             "outlinewidth": 0,
             "ticks": ""
            },
            "colorscale": [
             [
              0,
              "#0d0887"
             ],
             [
              0.1111111111111111,
              "#46039f"
             ],
             [
              0.2222222222222222,
              "#7201a8"
             ],
             [
              0.3333333333333333,
              "#9c179e"
             ],
             [
              0.4444444444444444,
              "#bd3786"
             ],
             [
              0.5555555555555556,
              "#d8576b"
             ],
             [
              0.6666666666666666,
              "#ed7953"
             ],
             [
              0.7777777777777778,
              "#fb9f3a"
             ],
             [
              0.8888888888888888,
              "#fdca26"
             ],
             [
              1,
              "#f0f921"
             ]
            ],
            "type": "heatmap"
           }
          ],
          "heatmapgl": [
           {
            "colorbar": {
             "outlinewidth": 0,
             "ticks": ""
            },
            "colorscale": [
             [
              0,
              "#0d0887"
             ],
             [
              0.1111111111111111,
              "#46039f"
             ],
             [
              0.2222222222222222,
              "#7201a8"
             ],
             [
              0.3333333333333333,
              "#9c179e"
             ],
             [
              0.4444444444444444,
              "#bd3786"
             ],
             [
              0.5555555555555556,
              "#d8576b"
             ],
             [
              0.6666666666666666,
              "#ed7953"
             ],
             [
              0.7777777777777778,
              "#fb9f3a"
             ],
             [
              0.8888888888888888,
              "#fdca26"
             ],
             [
              1,
              "#f0f921"
             ]
            ],
            "type": "heatmapgl"
           }
          ],
          "histogram": [
           {
            "marker": {
             "pattern": {
              "fillmode": "overlay",
              "size": 10,
              "solidity": 0.2
             }
            },
            "type": "histogram"
           }
          ],
          "histogram2d": [
           {
            "colorbar": {
             "outlinewidth": 0,
             "ticks": ""
            },
            "colorscale": [
             [
              0,
              "#0d0887"
             ],
             [
              0.1111111111111111,
              "#46039f"
             ],
             [
              0.2222222222222222,
              "#7201a8"
             ],
             [
              0.3333333333333333,
              "#9c179e"
             ],
             [
              0.4444444444444444,
              "#bd3786"
             ],
             [
              0.5555555555555556,
              "#d8576b"
             ],
             [
              0.6666666666666666,
              "#ed7953"
             ],
             [
              0.7777777777777778,
              "#fb9f3a"
             ],
             [
              0.8888888888888888,
              "#fdca26"
             ],
             [
              1,
              "#f0f921"
             ]
            ],
            "type": "histogram2d"
           }
          ],
          "histogram2dcontour": [
           {
            "colorbar": {
             "outlinewidth": 0,
             "ticks": ""
            },
            "colorscale": [
             [
              0,
              "#0d0887"
             ],
             [
              0.1111111111111111,
              "#46039f"
             ],
             [
              0.2222222222222222,
              "#7201a8"
             ],
             [
              0.3333333333333333,
              "#9c179e"
             ],
             [
              0.4444444444444444,
              "#bd3786"
             ],
             [
              0.5555555555555556,
              "#d8576b"
             ],
             [
              0.6666666666666666,
              "#ed7953"
             ],
             [
              0.7777777777777778,
              "#fb9f3a"
             ],
             [
              0.8888888888888888,
              "#fdca26"
             ],
             [
              1,
              "#f0f921"
             ]
            ],
            "type": "histogram2dcontour"
           }
          ],
          "mesh3d": [
           {
            "colorbar": {
             "outlinewidth": 0,
             "ticks": ""
            },
            "type": "mesh3d"
           }
          ],
          "parcoords": [
           {
            "line": {
             "colorbar": {
              "outlinewidth": 0,
              "ticks": ""
             }
            },
            "type": "parcoords"
           }
          ],
          "pie": [
           {
            "automargin": true,
            "type": "pie"
           }
          ],
          "scatter": [
           {
            "fillpattern": {
             "fillmode": "overlay",
             "size": 10,
             "solidity": 0.2
            },
            "type": "scatter"
           }
          ],
          "scatter3d": [
           {
            "line": {
             "colorbar": {
              "outlinewidth": 0,
              "ticks": ""
             }
            },
            "marker": {
             "colorbar": {
              "outlinewidth": 0,
              "ticks": ""
             }
            },
            "type": "scatter3d"
           }
          ],
          "scattercarpet": [
           {
            "marker": {
             "colorbar": {
              "outlinewidth": 0,
              "ticks": ""
             }
            },
            "type": "scattercarpet"
           }
          ],
          "scattergeo": [
           {
            "marker": {
             "colorbar": {
              "outlinewidth": 0,
              "ticks": ""
             }
            },
            "type": "scattergeo"
           }
          ],
          "scattergl": [
           {
            "marker": {
             "colorbar": {
              "outlinewidth": 0,
              "ticks": ""
             }
            },
            "type": "scattergl"
           }
          ],
          "scattermapbox": [
           {
            "marker": {
             "colorbar": {
              "outlinewidth": 0,
              "ticks": ""
             }
            },
            "type": "scattermapbox"
           }
          ],
          "scatterpolar": [
           {
            "marker": {
             "colorbar": {
              "outlinewidth": 0,
              "ticks": ""
             }
            },
            "type": "scatterpolar"
           }
          ],
          "scatterpolargl": [
           {
            "marker": {
             "colorbar": {
              "outlinewidth": 0,
              "ticks": ""
             }
            },
            "type": "scatterpolargl"
           }
          ],
          "scatterternary": [
           {
            "marker": {
             "colorbar": {
              "outlinewidth": 0,
              "ticks": ""
             }
            },
            "type": "scatterternary"
           }
          ],
          "surface": [
           {
            "colorbar": {
             "outlinewidth": 0,
             "ticks": ""
            },
            "colorscale": [
             [
              0,
              "#0d0887"
             ],
             [
              0.1111111111111111,
              "#46039f"
             ],
             [
              0.2222222222222222,
              "#7201a8"
             ],
             [
              0.3333333333333333,
              "#9c179e"
             ],
             [
              0.4444444444444444,
              "#bd3786"
             ],
             [
              0.5555555555555556,
              "#d8576b"
             ],
             [
              0.6666666666666666,
              "#ed7953"
             ],
             [
              0.7777777777777778,
              "#fb9f3a"
             ],
             [
              0.8888888888888888,
              "#fdca26"
             ],
             [
              1,
              "#f0f921"
             ]
            ],
            "type": "surface"
           }
          ],
          "table": [
           {
            "cells": {
             "fill": {
              "color": "#EBF0F8"
             },
             "line": {
              "color": "white"
             }
            },
            "header": {
             "fill": {
              "color": "#C8D4E3"
             },
             "line": {
              "color": "white"
             }
            },
            "type": "table"
           }
          ]
         },
         "layout": {
          "annotationdefaults": {
           "arrowcolor": "#2a3f5f",
           "arrowhead": 0,
           "arrowwidth": 1
          },
          "autotypenumbers": "strict",
          "coloraxis": {
           "colorbar": {
            "outlinewidth": 0,
            "ticks": ""
           }
          },
          "colorscale": {
           "diverging": [
            [
             0,
             "#8e0152"
            ],
            [
             0.1,
             "#c51b7d"
            ],
            [
             0.2,
             "#de77ae"
            ],
            [
             0.3,
             "#f1b6da"
            ],
            [
             0.4,
             "#fde0ef"
            ],
            [
             0.5,
             "#f7f7f7"
            ],
            [
             0.6,
             "#e6f5d0"
            ],
            [
             0.7,
             "#b8e186"
            ],
            [
             0.8,
             "#7fbc41"
            ],
            [
             0.9,
             "#4d9221"
            ],
            [
             1,
             "#276419"
            ]
           ],
           "sequential": [
            [
             0,
             "#0d0887"
            ],
            [
             0.1111111111111111,
             "#46039f"
            ],
            [
             0.2222222222222222,
             "#7201a8"
            ],
            [
             0.3333333333333333,
             "#9c179e"
            ],
            [
             0.4444444444444444,
             "#bd3786"
            ],
            [
             0.5555555555555556,
             "#d8576b"
            ],
            [
             0.6666666666666666,
             "#ed7953"
            ],
            [
             0.7777777777777778,
             "#fb9f3a"
            ],
            [
             0.8888888888888888,
             "#fdca26"
            ],
            [
             1,
             "#f0f921"
            ]
           ],
           "sequentialminus": [
            [
             0,
             "#0d0887"
            ],
            [
             0.1111111111111111,
             "#46039f"
            ],
            [
             0.2222222222222222,
             "#7201a8"
            ],
            [
             0.3333333333333333,
             "#9c179e"
            ],
            [
             0.4444444444444444,
             "#bd3786"
            ],
            [
             0.5555555555555556,
             "#d8576b"
            ],
            [
             0.6666666666666666,
             "#ed7953"
            ],
            [
             0.7777777777777778,
             "#fb9f3a"
            ],
            [
             0.8888888888888888,
             "#fdca26"
            ],
            [
             1,
             "#f0f921"
            ]
           ]
          },
          "colorway": [
           "#636efa",
           "#EF553B",
           "#00cc96",
           "#ab63fa",
           "#FFA15A",
           "#19d3f3",
           "#FF6692",
           "#B6E880",
           "#FF97FF",
           "#FECB52"
          ],
          "font": {
           "color": "#2a3f5f"
          },
          "geo": {
           "bgcolor": "white",
           "lakecolor": "white",
           "landcolor": "#E5ECF6",
           "showlakes": true,
           "showland": true,
           "subunitcolor": "white"
          },
          "hoverlabel": {
           "align": "left"
          },
          "hovermode": "closest",
          "mapbox": {
           "style": "light"
          },
          "paper_bgcolor": "white",
          "plot_bgcolor": "#E5ECF6",
          "polar": {
           "angularaxis": {
            "gridcolor": "white",
            "linecolor": "white",
            "ticks": ""
           },
           "bgcolor": "#E5ECF6",
           "radialaxis": {
            "gridcolor": "white",
            "linecolor": "white",
            "ticks": ""
           }
          },
          "scene": {
           "xaxis": {
            "backgroundcolor": "#E5ECF6",
            "gridcolor": "white",
            "gridwidth": 2,
            "linecolor": "white",
            "showbackground": true,
            "ticks": "",
            "zerolinecolor": "white"
           },
           "yaxis": {
            "backgroundcolor": "#E5ECF6",
            "gridcolor": "white",
            "gridwidth": 2,
            "linecolor": "white",
            "showbackground": true,
            "ticks": "",
            "zerolinecolor": "white"
           },
           "zaxis": {
            "backgroundcolor": "#E5ECF6",
            "gridcolor": "white",
            "gridwidth": 2,
            "linecolor": "white",
            "showbackground": true,
            "ticks": "",
            "zerolinecolor": "white"
           }
          },
          "shapedefaults": {
           "line": {
            "color": "#2a3f5f"
           }
          },
          "ternary": {
           "aaxis": {
            "gridcolor": "white",
            "linecolor": "white",
            "ticks": ""
           },
           "baxis": {
            "gridcolor": "white",
            "linecolor": "white",
            "ticks": ""
           },
           "bgcolor": "#E5ECF6",
           "caxis": {
            "gridcolor": "white",
            "linecolor": "white",
            "ticks": ""
           }
          },
          "title": {
           "x": 0.05
          },
          "xaxis": {
           "automargin": true,
           "gridcolor": "white",
           "linecolor": "white",
           "ticks": "",
           "title": {
            "standoff": 15
           },
           "zerolinecolor": "white",
           "zerolinewidth": 2
          },
          "yaxis": {
           "automargin": true,
           "gridcolor": "white",
           "linecolor": "white",
           "ticks": "",
           "title": {
            "standoff": 15
           },
           "zerolinecolor": "white",
           "zerolinewidth": 2
          }
         }
        },
        "title": {
         "text": "Accuracy score for numbers"
        },
        "xaxis": {
         "anchor": "y",
         "domain": [
          0,
          1
         ]
        },
        "yaxis": {
         "anchor": "x",
         "domain": [
          0,
          1
         ],
         "title": {
          "text": "accuracy_score"
         }
        }
       }
      }
     },
     "metadata": {},
     "output_type": "display_data"
    },
    {
     "data": {
      "application/vnd.plotly.v1+json": {
       "config": {
        "plotlyServerURL": "https://plot.ly"
       },
       "data": [
        {
         "alignmentgroup": "True",
         "hovertemplate": "accuracy_score=%{y}<extra></extra>",
         "legendgroup": "",
         "marker": {
          "color": "#636efa"
         },
         "name": "",
         "notched": false,
         "offsetgroup": "",
         "orientation": "v",
         "showlegend": false,
         "type": "box",
         "x0": " ",
         "xaxis": "x",
         "y": [
          0.7681818181818182,
          0.7415584415584415,
          0.7727272727272727,
          0.7467532467532467,
          0.7688311688311689
         ],
         "y0": " ",
         "yaxis": "y"
        }
       ],
       "layout": {
        "boxmode": "group",
        "legend": {
         "tracegroupgap": 0
        },
        "template": {
         "data": {
          "bar": [
           {
            "error_x": {
             "color": "#2a3f5f"
            },
            "error_y": {
             "color": "#2a3f5f"
            },
            "marker": {
             "line": {
              "color": "#E5ECF6",
              "width": 0.5
             },
             "pattern": {
              "fillmode": "overlay",
              "size": 10,
              "solidity": 0.2
             }
            },
            "type": "bar"
           }
          ],
          "barpolar": [
           {
            "marker": {
             "line": {
              "color": "#E5ECF6",
              "width": 0.5
             },
             "pattern": {
              "fillmode": "overlay",
              "size": 10,
              "solidity": 0.2
             }
            },
            "type": "barpolar"
           }
          ],
          "carpet": [
           {
            "aaxis": {
             "endlinecolor": "#2a3f5f",
             "gridcolor": "white",
             "linecolor": "white",
             "minorgridcolor": "white",
             "startlinecolor": "#2a3f5f"
            },
            "baxis": {
             "endlinecolor": "#2a3f5f",
             "gridcolor": "white",
             "linecolor": "white",
             "minorgridcolor": "white",
             "startlinecolor": "#2a3f5f"
            },
            "type": "carpet"
           }
          ],
          "choropleth": [
           {
            "colorbar": {
             "outlinewidth": 0,
             "ticks": ""
            },
            "type": "choropleth"
           }
          ],
          "contour": [
           {
            "colorbar": {
             "outlinewidth": 0,
             "ticks": ""
            },
            "colorscale": [
             [
              0,
              "#0d0887"
             ],
             [
              0.1111111111111111,
              "#46039f"
             ],
             [
              0.2222222222222222,
              "#7201a8"
             ],
             [
              0.3333333333333333,
              "#9c179e"
             ],
             [
              0.4444444444444444,
              "#bd3786"
             ],
             [
              0.5555555555555556,
              "#d8576b"
             ],
             [
              0.6666666666666666,
              "#ed7953"
             ],
             [
              0.7777777777777778,
              "#fb9f3a"
             ],
             [
              0.8888888888888888,
              "#fdca26"
             ],
             [
              1,
              "#f0f921"
             ]
            ],
            "type": "contour"
           }
          ],
          "contourcarpet": [
           {
            "colorbar": {
             "outlinewidth": 0,
             "ticks": ""
            },
            "type": "contourcarpet"
           }
          ],
          "heatmap": [
           {
            "colorbar": {
             "outlinewidth": 0,
             "ticks": ""
            },
            "colorscale": [
             [
              0,
              "#0d0887"
             ],
             [
              0.1111111111111111,
              "#46039f"
             ],
             [
              0.2222222222222222,
              "#7201a8"
             ],
             [
              0.3333333333333333,
              "#9c179e"
             ],
             [
              0.4444444444444444,
              "#bd3786"
             ],
             [
              0.5555555555555556,
              "#d8576b"
             ],
             [
              0.6666666666666666,
              "#ed7953"
             ],
             [
              0.7777777777777778,
              "#fb9f3a"
             ],
             [
              0.8888888888888888,
              "#fdca26"
             ],
             [
              1,
              "#f0f921"
             ]
            ],
            "type": "heatmap"
           }
          ],
          "heatmapgl": [
           {
            "colorbar": {
             "outlinewidth": 0,
             "ticks": ""
            },
            "colorscale": [
             [
              0,
              "#0d0887"
             ],
             [
              0.1111111111111111,
              "#46039f"
             ],
             [
              0.2222222222222222,
              "#7201a8"
             ],
             [
              0.3333333333333333,
              "#9c179e"
             ],
             [
              0.4444444444444444,
              "#bd3786"
             ],
             [
              0.5555555555555556,
              "#d8576b"
             ],
             [
              0.6666666666666666,
              "#ed7953"
             ],
             [
              0.7777777777777778,
              "#fb9f3a"
             ],
             [
              0.8888888888888888,
              "#fdca26"
             ],
             [
              1,
              "#f0f921"
             ]
            ],
            "type": "heatmapgl"
           }
          ],
          "histogram": [
           {
            "marker": {
             "pattern": {
              "fillmode": "overlay",
              "size": 10,
              "solidity": 0.2
             }
            },
            "type": "histogram"
           }
          ],
          "histogram2d": [
           {
            "colorbar": {
             "outlinewidth": 0,
             "ticks": ""
            },
            "colorscale": [
             [
              0,
              "#0d0887"
             ],
             [
              0.1111111111111111,
              "#46039f"
             ],
             [
              0.2222222222222222,
              "#7201a8"
             ],
             [
              0.3333333333333333,
              "#9c179e"
             ],
             [
              0.4444444444444444,
              "#bd3786"
             ],
             [
              0.5555555555555556,
              "#d8576b"
             ],
             [
              0.6666666666666666,
              "#ed7953"
             ],
             [
              0.7777777777777778,
              "#fb9f3a"
             ],
             [
              0.8888888888888888,
              "#fdca26"
             ],
             [
              1,
              "#f0f921"
             ]
            ],
            "type": "histogram2d"
           }
          ],
          "histogram2dcontour": [
           {
            "colorbar": {
             "outlinewidth": 0,
             "ticks": ""
            },
            "colorscale": [
             [
              0,
              "#0d0887"
             ],
             [
              0.1111111111111111,
              "#46039f"
             ],
             [
              0.2222222222222222,
              "#7201a8"
             ],
             [
              0.3333333333333333,
              "#9c179e"
             ],
             [
              0.4444444444444444,
              "#bd3786"
             ],
             [
              0.5555555555555556,
              "#d8576b"
             ],
             [
              0.6666666666666666,
              "#ed7953"
             ],
             [
              0.7777777777777778,
              "#fb9f3a"
             ],
             [
              0.8888888888888888,
              "#fdca26"
             ],
             [
              1,
              "#f0f921"
             ]
            ],
            "type": "histogram2dcontour"
           }
          ],
          "mesh3d": [
           {
            "colorbar": {
             "outlinewidth": 0,
             "ticks": ""
            },
            "type": "mesh3d"
           }
          ],
          "parcoords": [
           {
            "line": {
             "colorbar": {
              "outlinewidth": 0,
              "ticks": ""
             }
            },
            "type": "parcoords"
           }
          ],
          "pie": [
           {
            "automargin": true,
            "type": "pie"
           }
          ],
          "scatter": [
           {
            "fillpattern": {
             "fillmode": "overlay",
             "size": 10,
             "solidity": 0.2
            },
            "type": "scatter"
           }
          ],
          "scatter3d": [
           {
            "line": {
             "colorbar": {
              "outlinewidth": 0,
              "ticks": ""
             }
            },
            "marker": {
             "colorbar": {
              "outlinewidth": 0,
              "ticks": ""
             }
            },
            "type": "scatter3d"
           }
          ],
          "scattercarpet": [
           {
            "marker": {
             "colorbar": {
              "outlinewidth": 0,
              "ticks": ""
             }
            },
            "type": "scattercarpet"
           }
          ],
          "scattergeo": [
           {
            "marker": {
             "colorbar": {
              "outlinewidth": 0,
              "ticks": ""
             }
            },
            "type": "scattergeo"
           }
          ],
          "scattergl": [
           {
            "marker": {
             "colorbar": {
              "outlinewidth": 0,
              "ticks": ""
             }
            },
            "type": "scattergl"
           }
          ],
          "scattermapbox": [
           {
            "marker": {
             "colorbar": {
              "outlinewidth": 0,
              "ticks": ""
             }
            },
            "type": "scattermapbox"
           }
          ],
          "scatterpolar": [
           {
            "marker": {
             "colorbar": {
              "outlinewidth": 0,
              "ticks": ""
             }
            },
            "type": "scatterpolar"
           }
          ],
          "scatterpolargl": [
           {
            "marker": {
             "colorbar": {
              "outlinewidth": 0,
              "ticks": ""
             }
            },
            "type": "scatterpolargl"
           }
          ],
          "scatterternary": [
           {
            "marker": {
             "colorbar": {
              "outlinewidth": 0,
              "ticks": ""
             }
            },
            "type": "scatterternary"
           }
          ],
          "surface": [
           {
            "colorbar": {
             "outlinewidth": 0,
             "ticks": ""
            },
            "colorscale": [
             [
              0,
              "#0d0887"
             ],
             [
              0.1111111111111111,
              "#46039f"
             ],
             [
              0.2222222222222222,
              "#7201a8"
             ],
             [
              0.3333333333333333,
              "#9c179e"
             ],
             [
              0.4444444444444444,
              "#bd3786"
             ],
             [
              0.5555555555555556,
              "#d8576b"
             ],
             [
              0.6666666666666666,
              "#ed7953"
             ],
             [
              0.7777777777777778,
              "#fb9f3a"
             ],
             [
              0.8888888888888888,
              "#fdca26"
             ],
             [
              1,
              "#f0f921"
             ]
            ],
            "type": "surface"
           }
          ],
          "table": [
           {
            "cells": {
             "fill": {
              "color": "#EBF0F8"
             },
             "line": {
              "color": "white"
             }
            },
            "header": {
             "fill": {
              "color": "#C8D4E3"
             },
             "line": {
              "color": "white"
             }
            },
            "type": "table"
           }
          ]
         },
         "layout": {
          "annotationdefaults": {
           "arrowcolor": "#2a3f5f",
           "arrowhead": 0,
           "arrowwidth": 1
          },
          "autotypenumbers": "strict",
          "coloraxis": {
           "colorbar": {
            "outlinewidth": 0,
            "ticks": ""
           }
          },
          "colorscale": {
           "diverging": [
            [
             0,
             "#8e0152"
            ],
            [
             0.1,
             "#c51b7d"
            ],
            [
             0.2,
             "#de77ae"
            ],
            [
             0.3,
             "#f1b6da"
            ],
            [
             0.4,
             "#fde0ef"
            ],
            [
             0.5,
             "#f7f7f7"
            ],
            [
             0.6,
             "#e6f5d0"
            ],
            [
             0.7,
             "#b8e186"
            ],
            [
             0.8,
             "#7fbc41"
            ],
            [
             0.9,
             "#4d9221"
            ],
            [
             1,
             "#276419"
            ]
           ],
           "sequential": [
            [
             0,
             "#0d0887"
            ],
            [
             0.1111111111111111,
             "#46039f"
            ],
            [
             0.2222222222222222,
             "#7201a8"
            ],
            [
             0.3333333333333333,
             "#9c179e"
            ],
            [
             0.4444444444444444,
             "#bd3786"
            ],
            [
             0.5555555555555556,
             "#d8576b"
            ],
            [
             0.6666666666666666,
             "#ed7953"
            ],
            [
             0.7777777777777778,
             "#fb9f3a"
            ],
            [
             0.8888888888888888,
             "#fdca26"
            ],
            [
             1,
             "#f0f921"
            ]
           ],
           "sequentialminus": [
            [
             0,
             "#0d0887"
            ],
            [
             0.1111111111111111,
             "#46039f"
            ],
            [
             0.2222222222222222,
             "#7201a8"
            ],
            [
             0.3333333333333333,
             "#9c179e"
            ],
            [
             0.4444444444444444,
             "#bd3786"
            ],
            [
             0.5555555555555556,
             "#d8576b"
            ],
            [
             0.6666666666666666,
             "#ed7953"
            ],
            [
             0.7777777777777778,
             "#fb9f3a"
            ],
            [
             0.8888888888888888,
             "#fdca26"
            ],
            [
             1,
             "#f0f921"
            ]
           ]
          },
          "colorway": [
           "#636efa",
           "#EF553B",
           "#00cc96",
           "#ab63fa",
           "#FFA15A",
           "#19d3f3",
           "#FF6692",
           "#B6E880",
           "#FF97FF",
           "#FECB52"
          ],
          "font": {
           "color": "#2a3f5f"
          },
          "geo": {
           "bgcolor": "white",
           "lakecolor": "white",
           "landcolor": "#E5ECF6",
           "showlakes": true,
           "showland": true,
           "subunitcolor": "white"
          },
          "hoverlabel": {
           "align": "left"
          },
          "hovermode": "closest",
          "mapbox": {
           "style": "light"
          },
          "paper_bgcolor": "white",
          "plot_bgcolor": "#E5ECF6",
          "polar": {
           "angularaxis": {
            "gridcolor": "white",
            "linecolor": "white",
            "ticks": ""
           },
           "bgcolor": "#E5ECF6",
           "radialaxis": {
            "gridcolor": "white",
            "linecolor": "white",
            "ticks": ""
           }
          },
          "scene": {
           "xaxis": {
            "backgroundcolor": "#E5ECF6",
            "gridcolor": "white",
            "gridwidth": 2,
            "linecolor": "white",
            "showbackground": true,
            "ticks": "",
            "zerolinecolor": "white"
           },
           "yaxis": {
            "backgroundcolor": "#E5ECF6",
            "gridcolor": "white",
            "gridwidth": 2,
            "linecolor": "white",
            "showbackground": true,
            "ticks": "",
            "zerolinecolor": "white"
           },
           "zaxis": {
            "backgroundcolor": "#E5ECF6",
            "gridcolor": "white",
            "gridwidth": 2,
            "linecolor": "white",
            "showbackground": true,
            "ticks": "",
            "zerolinecolor": "white"
           }
          },
          "shapedefaults": {
           "line": {
            "color": "#2a3f5f"
           }
          },
          "ternary": {
           "aaxis": {
            "gridcolor": "white",
            "linecolor": "white",
            "ticks": ""
           },
           "baxis": {
            "gridcolor": "white",
            "linecolor": "white",
            "ticks": ""
           },
           "bgcolor": "#E5ECF6",
           "caxis": {
            "gridcolor": "white",
            "linecolor": "white",
            "ticks": ""
           }
          },
          "title": {
           "x": 0.05
          },
          "xaxis": {
           "automargin": true,
           "gridcolor": "white",
           "linecolor": "white",
           "ticks": "",
           "title": {
            "standoff": 15
           },
           "zerolinecolor": "white",
           "zerolinewidth": 2
          },
          "yaxis": {
           "automargin": true,
           "gridcolor": "white",
           "linecolor": "white",
           "ticks": "",
           "title": {
            "standoff": 15
           },
           "zerolinecolor": "white",
           "zerolinewidth": 2
          }
         }
        },
        "title": {
         "text": "Accuracy score for letters"
        },
        "xaxis": {
         "anchor": "y",
         "domain": [
          0,
          1
         ]
        },
        "yaxis": {
         "anchor": "x",
         "domain": [
          0,
          1
         ],
         "title": {
          "text": "accuracy_score"
         }
        }
       }
      }
     },
     "metadata": {},
     "output_type": "display_data"
    }
   ],
   "source": [
    "fig = px.box(output_nums_acc, y=\"accuracy_score\", title=\"Accuracy score for numbers\")\n",
    "fig2 = px.box(output_lletres_acc, y=\"accuracy_score\", title=\"Accuracy score for letters\")\n",
    "fig.show()\n",
    "fig2.show()"
   ]
  },
  {
   "cell_type": "code",
   "execution_count": 117,
   "metadata": {},
   "outputs": [
    {
     "name": "stdout",
     "output_type": "stream",
     "text": [
      "['6', '0', '2', '0', '7', '6', '4', '9', '7', '1', '2', '7', '9', '7', '4', '0', '7', '3', '6', '8', '9', '3', '9', '0', '2', '6', '0', '7', '0', '1', '7', '2', '8', '7', '9', '4', '2', '1', '9', '1', '2', '5', '3', '6', '2', '6', '6', '8', '7', '8', '5', '4', '3', '8', '9', '4', '3', '0', '3', '4', '5', '2', '7', '8', '2', '9', '0', '2', '9', '7', '0', '8', '0', '0', '4', '8', '2', '6', '0', '9', '2', '5', '8', '5', '4', '7', '9', '7', '3', '4', '3', '0', '9', '0', '3', '8', '3', '8', '4', '5', '5', '6', '9', '2', '3', '2', '6', '3', '3', '7', '0', '5', '2', '7', '9', '1', '8', '8', '7', '3', '2', '7', '1', '3', '0', '6', '7', '2', '3', '2', '5', '6', '9', '4', '8', '5', '8', '5', '6', '9', '8', '0', '5', '1', '7', '6', '9', '8', '4', '6', '6', '9', '9', '4', '4', '4', '2', '2', '7', '9', '1', '5', '7', '7', '0', '3', '4', '4', '9', '3', '0', '4', '4', '2', '7', '2', '1', '5', '9', '7', '0', '1', '4', '5', '5', '2', '0', '2', '1', '7', '4', '1', '6', '3', '6', '1', '4', '6', '5', '1', '9', '3', '2', '8', '8', '0', '2', '5', '4', '0', '2', '1', '3', '1', '3', '2', '0', '5', '7', '6', '9', '7', '4', '4', '7', '1', '6', '4', '4', '8', '1', '0', '0', '3', '3', '5', '7', '5', '4', '4', '7', '2', '6', '1', '6', '1', '5', '4', '6', '9', '1', '9', '6', '7', '0', '5', '9', '2', '4', '1', '3', '2', '1', '0', '7', '8', '1', '5', '0', '6', '0', '3', '5', '4', '0', '4', '7', '4', '8', '3', '5', '2', '7', '1', '4', '4', '5', '9', '7', '0', '1', '0', '9', '9', '8', '6', '9', '1', '0', '0', '7', '4', '3', '3', '3', '1', '4', '8', '4', '7', '8', '8', '3', '5', '5', '9', '8', '9', '2', '3', '2', '0', '4', '9', '2', '7', '2', '6', '7', '8', '8', '3', '5', '1', '6', '8', '7', '5', '5', '9', '9', '2', '8', '7', '9', '8', '4', '4', '9', '3', '0', '5', '3', '0', '7', '7', '6', '5', '4', '6', '8', '1', '7', '1', '7', '4', '4', '4', '7', '0', '8', '2', '4', '4', '4', '3', '5', '2', '1', '3', '0', '5', '6', '7', '4', '0', '4', '5', '0', '7', '7', '9', '5', '2', '9', '3', '1', '3', '8', '1', '6', '3', '2', '9', '6', '0', '9', '8', '7', '0', '2', '0', '4', '4', '4', '9', '5', '3', '1', '6', '0', '4', '7', '3', '5', '2', '5', '0', '8', '6', '3', '2', '8', '5', '5', '4', '9', '7', '0', '9', '5', '3', '5', '9', '1', '7', '1', '8', '6', '8', '8', '6', '1', '5', '6', '8', '0', '6', '6', '5', '0', '6', '2', '3', '6', '2', '4', '6', '8', '5', '8', '9', '4', '1', '0', '7', '5', '9', '8', '5', '5', '0', '7', '3', '0', '4', '5', '6', '0', '8', '1', '9', '4', '4', '6', '6', '7', '2', '7', '2', '1', '9', '5', '9', '5', '5', '2', '1', '3', '7', '7', '6', '4', '3', '8', '0', '7', '9', '3', '7', '5', '0', '1', '7', '7', '1', '2', '2', '9', '9', '3', '9', '8', '3', '7', '4', '8', '9', '4', '8', '2', '6', '8', '4', '7', '8', '4', '5', '4', '7', '6', '0', '2', '5', '8', '9', '5', '4', '2', '3', '5', '0', '1', '1', '3', '5', '1', '4', '2', '6', '2', '0', '8', '1', '1', '3', '6', '8', '3', '9', '1', '7', '4', '4', '0', '8', '2', '7', '3', '1', '2', '6', '4', '2', '9', '5', '3', '2', '4', '9', '5', '5', '6', '9', '5', '4', '3', '3', '9', '9', '9', '4', '6', '7', '3', '2', '0', '1', '1', '4', '4', '0', '1', '1', '9', '0', '5', '4', '8', '0', '9', '1', '4', '8', '2', '8', '3', '9', '9', '0', '1', '2', '4', '2', '4', '8', '2', '3', '6', '2', '8', '7', '2', '4', '2', '8', '9', '4', '3', '9', '1', '8', '5', '0', '3', '0', '9', '5', '6', '6', '8', '0', '6', '3', '7', '4', '5', '3', '1', '8', '1', '9', '3', '1', '0', '5', '2', '5', '0', '3', '6', '0', '2', '9', '9', '5', '5', '2', '9', '0', '2', '9', '5', '0', '5', '9', '1', '0', '9', '7', '2', '8', '4', '8', '6', '5', '3', '1', '1', '1', '9', '0', '4', '4', '2', '2', '4', '8', '9', '8', '9', '3', '7', '5', '7', '1', '7', '1', '8', '5', '4', '7', '6', '7', '6', '9', '8', '2', '2', '3', '0', '2', '4', '0', '8', '9', '0', '2', '6', '1', '4', '2', '5', '4', '5', '3', '5', '8', '4', '2', '5', '9', '0', '3', '4', '1', '4', '7', '7', '9', '9', '0', '1', '5', '1', '5', '3', '3', '9', '6', '1', '8', '7', '8', '7', '7', '0', '2', '7', '1', '3', '4', '9', '3', '4', '4', '1', '0', '6', '1', '2', '3', '2', '1', '9', '0', '3', '9', '7', '5', '2', '6', '7', '8', '0', '1', '1', '7', '9', '7', '0', '8', '1', '4', '4', '4', '5', '0', '2', '2', '2', '0', '6', '0', '1', '4', '8', '3', '6', '6', '0', '1', '0', '5', '0', '7', '1', '8', '2', '6', '3', '2', '4', '3', '8', '2', '2', '2', '6', '7', '9', '3', '1', '7', '5', '9', '3', '2', '4', '1', '3', '9', '8', '3', '2', '6', '8', '9', '7', '9', '3', '8', '6', '5', '0', '9', '8', '7', '7', '7', '4', '6', '4', '0', '1', '6', '8', '6', '1', '0', '1', '9', '9', '0', '6', '0', '5', '1', '2', '6', '7', '2', '4', '8', '0', '8', '4', '5', '9', '2', '7', '9', '2', '7', '4', '5', '5', '0', '9', '6', '2', '5', '9', '6', '6', '8', '1', '7', '9', '4', '7', '8', '1', '0', '3', '3', '2', '3', '2', '1', '4', '9', '0', '8', '1', '5', '2', '9', '8', '9', '5', '9', '7', '2', '9', '0', '8', '3', '6', '1', '4', '4', '6', '8', '2', '9', '4', '8', '5', '0', '7', '4', '7', '1', '0', '9', '8', '9', '4', '6', '9', '0', '1', '6', '4', '6', '7', '9', '5', '5', '6', '2', '3', '6', '0', '4', '3', '9', '0', '1', '8', '3', '3', '1', '1', '2', '3', '0', '9', '7', '6', '7', '6', '9', '4', '4', '5', '7', '9', '9', '7', '3', '5', '3', '5', '2', '1', '6', '3', '6', '2', '1', '1', '5', '1', '6', '2', '0', '0', '1', '2', '0', '6', '5', '4', '3', '9', '2', '3', '6', '4', '8', '8', '5', '8', '1', '1', '5', '0', '9', '5', '1', '3', '8', '2', '7', '3', '6', '9', '1', '2', '7', '7', '2', '9', '4', '1', '3', '4', '1', '8', '5', '3', '8', '1', '8', '0', '1', '8', '4', '3', '5', '2', '8', '5', '2', '1', '0', '6', '3', '4', '5', '4', '3', '5', '6', '2', '7', '7', '5', '2', '0', '0', '2', '6', '6', '5', '9', '8', '1', '2', '6', '4', '9', '3', '2', '1', '8', '8', '4', '8', '3', '3', '6', '0', '3', '9', '0', '3', '1', '4', '7', '7', '8', '4', '3', '3', '0', '3', '0', '8', '1', '7', '6', '7', '7', '3', '4', '1', '9', '0', '1', '4', '5', '9', '1', '4', '8', '9', '3', '6', '1', '9', '5', '7', '9', '2', '8', '4', '5', '7', '1', '6', '0', '5', '4', '2', '5', '6', '6', '7', '9', '0', '9', '2', '4', '4', '1', '7', '7', '1', '6', '3', '1', '6', '4', '3', '7', '6', '7', '4', '8', '8', '0', '4', '9', '6', '0', '0', '5', '7', '8', '1', '3', '5', '8', '4', '6', '1', '4', '6', '5', '5', '4', '5', '8', '8', '7', '6', '3', '9', '1', '3', '3', '9', '5', '0', '5', '9', '5', '0', '1', '1', '2', '1', '7', '1', '6', '0', '3', '3', '0', '1', '9', '4', '3', '6', '3', '5', '6', '0', '3', '6', '6', '0', '8', '1', '5', '9', '4', '9', '9', '0', '9', '5', '6', '2', '0', '4', '8', '7', '8', '7', '4', '5', '7', '9', '5', '7', '0', '4', '7', '0', '5', '4', '5', '4', '4', '8', '9', '3', '1', '3', '4', '6', '1', '4', '1', '4', '4', '2', '0', '2', '2', '7', '8', '1', '5', '0', '1', '9', '0', '0', '2', '6', '1', '2', '6', '9', '2', '3', '6', '4', '3', '6', '3', '9', '3', '4', '6', '4', '2', '5', '3', '7', '2', '1', '2', '8', '9', '8', '8', '2', '8', '6', '6', '8', '7', '4', '2', '2', '1', '5', '8', '9', '1', '5', '0', '1', '5', '0', '9', '3', '9', '8', '1', '1', '4', '3', '7', '2', '7', '1', '5', '7', '8', '6', '8', '1', '6', '2', '5', '5', '4', '6', '1', '3', '5', '8', '4', '0', '4', '3', '4', '6', '7', '4', '6', '2', '8', '1', '2', '5', '2', '9', '8', '6', '7', '1', '8', '6', '5', '5', '8', '2', '1', '3', '5', '8', '7', '5', '3', '2', '4', '6', '9', '6', '5', '0', '6', '4', '7', '2', '3', '0', '1', '1', '8', '5', '4', '2', '4', '1', '3', '5', '0', '5', '1', '1', '8', '5', '2', '1', '0', '7', '1', '6', '6', '2', '5', '7', '7', '1', '8', '1', '0', '0', '6', '3', '1', '6', '6', '9', '4', '5', '7', '4', '5', '9', '7', '3', '9', '3', '8', '2', '7', '9', '4', '8', '0', '2', '2', '3', '9', '5', '1', '3', '0', '8', '1', '8', '4', '5', '8', '0', '3', '0', '2', '8', '0', '4', '0', '1', '6', '0', '1', '3', '1', '1', '2', '3', '7', '6', '8', '5', '0', '1', '1', '4', '8', '4', '8', '1', '1', '3', '7', '9', '1', '5', '4', '5', '3', '4', '5', '3', '5', '7', '8', '4', '5', '6', '3', '0', '1', '9', '1', '4', '5', '2', '4', '9', '2', '1', '4', '7', '0', '5', '5', '5', '3', '3', '7', '6', '3', '1', '7', '5', '1', '6', '0', '8', '7', '0', '5', '0', '9', '6', '6', '3', '3', '0', '1', '2', '1', '9', '6', '3', '4', '4', '6', '2', '3', '6', '6', '1', '2', '9', '7', '2', '0', '9', '2', '9', '6', '0', '1', '3', '4', '7', '0', '3', '9', '4', '0', '9', '6', '8', '2', '5', '0', '5', '7', '5', '4', '8', '4', '4', '1', '9', '9', '5', '6', '2', '7', '6', '7', '1', '4', '6', '6', '2', '7', '7', '5', '9', '0', '3', '1', '7', '6', '6', '9', '2', '2', '9', '7', '5', '2', '7', '4', '1', '1', '3', '0', '7', '3', '7', '3', '4', '6', '1', '2', '5', '2', '3', '3', '1', '0', '7', '0', '8', '8', '3', '1', '0', '4', '9', '6', '2', '2', '6', '8', '7', '3', '8', '3', '4', '8', '7', '4', '0', '9', '9', '7', '7', '0', '3', '0', '6', '9', '7', '5', '3', '1', '5', '5', '3', '6', '5', '0', '4', '3', '4', '7', '1', '5', '9', '5', '5', '4', '8', '6', '1', '9', '2', '8', '2', '9', '1', '7', '3', '2', '6', '6', '1', '1', '7', '2', '3', '5', '5', '4', '5', '1', '0', '3', '6', '0', '4', '1', '9', '3', '8', '9', '0', '7', '8', '9', '6', '4', '5', '5', '9', '3', '4', '6', '7', '7', '9', '2', '8', '5', '6', '9', '1', '3', '7', '9', '5', '9', '1', '5', '5', '1', '6', '0', '2', '0', '9', '4', '3', '3', '0', '9', '2', '3', '1', '1', '0', '0', '0', '9', '1', '9', '6', '0', '6', '9', '3', '1', '0', '1', '8', '9', '1', '0', '5', '9', '7', '7', '6', '1', '5', '9', '7', '3', '0', '6', '1', '8', '0', '5', '1', '2', '4', '0', '5', '8', '7', '7', '5', '6', '8', '2', '1', '1', '1', '1', '6', '7', '7', '3', '1', '2', '3', '2', '1', '7', '8', '1', '8', '1', '3', '1', '7', '2', '0', '2', '3', '5', '2', '8', '8', '6', '8', '7', '0', '4', '8', '4', '2', '9', '7', '4', '5', '4', '7', '6', '7', '8', '5', '4', '1', '6', '6', '0', '2', '9', '0', '3', '1', '9', '3', '8', '3', '0', '1', '8', '4', '0', '5', '0', '5', '3', '8', '7', '6', '2', '3', '7', '2', '1', '9', '3', '8', '6', '5', '9', '9', '9', '1', '3', '7', '4', '5', '0', '0', '1', '6', '4', '4', '1', '1', '0', '6', '9', '1', '0', '6', '4', '4', '3', '1', '7', '9', '1', '7', '7', '3', '3', '5', '0', '9', '2', '8', '8', '5', '2', '3', '2', '6', '3', '0', '1', '3', '2', '7', '2', '5', '3', '5', '0', '3', '5', '4', '8', '9', '5', '0', '9', '0', '2', '0', '3', '9', '8', '8', '1', '6', '5', '6', '0', '6', '9', '4', '5', '4', '4', '1', '4', '9', '4', '8', '9', '0', '3', '2', '5', '0', '6', '6', '6', '9', '0', '5', '0', '3', '0', '3', '6', '5', '1', '2', '6', '8', '6', '0', '2', '4', '1', '9', '2', '2', '2', '7', '6', '5', '9', '2', '4', '0', '7', '4', '7', '6', '7', '5', '4', '7', '4', '8', '7', '5', '3', '6', '6', '1', '6', '4', '7', '7', '6', '9', '8', '9', '8', '5', '9', '7', '0', '7', '5', '6', '1', '5', '7', '1', '1', '4', '9', '4', '2', '2', '1', '3', '5', '9', '1', '1', '7', '4', '1', '3', '1', '6', '9', '4', '5', '8', '4', '3', '3', '1', '0', '5', '5', '5', '8', '8', '2', '1', '2', '9', '2', '0', '1', '5', '0', '4', '6', '7', '7', '3', '9', '9', '7', '7', '3', '5', '5', '1', '9', '3', '4', '7', '3', '5', '7', '3', '3', '1', '1', '2', '7', '4', '3', '5', '3', '4', '5', '5', '7', '9', '0', '6', '7', '9', '2', '7', '5', '3', '4', '3', '9', '8', '9', '0', '5', '7', '9', '3', '9', '2', '6', '7', '8', '0', '5', '5', '4', '1', '3', '7', '1', '2', '5', '7', '0', '7', '0', '1', '2', '9', '9', '9', '9', '5', '7', '0', '1', '4', '5', '3', '0', '0', '0', '4', '1', '8', '5', '3', '3', '8', '8', '6', '9', '3', '2', '5', '5', '3', '0', '5', '0', '0', '3', '3', '9', '9', '9', '1', '2', '9', '3', '1', '0', '9', '7', '6', '9', '8', '8', '2', '6', '7', '1', '7', '0', '9', '5', '1', '5', '5', '2', '3', '4', '7', '1', '5', '1', '0', '6', '2', '6', '7', '8', '7', '3', '0', '4', '5', '4', '6', '9', '3', '9', '2', '4', '3', '0', '6', '1', '8', '8', '2', '1', '2', '4', '2', '4', '0', '5', '8', '9', '0', '2', '1', '4', '3', '7', '0', '5', '5', '6', '7', '1', '6', '1', '3', '7', '0', '5', '9', '2', '8', '9', '3', '7', '8', '9', '8', '5', '1', '3', '0', '9', '0', '8', '1', '3', '9', '3', '6', '1', '5', '6', '4', '7', '0', '4', '8', '5', '2', '1', '1', '2', '7', '6', '6', '4', '6', '7', '3', '5', '9', '5', '2', '3', '9', '2', '4', '3', '2', '7', '5', '8', '6', '9', '4', '7', '7', '5', '8', '2', '2', '1', '3', '2', '6', '2', '7', '1', '6', '4', '1', '0', '4', '8', '3', '8', '6', '5', '6', '5', '5', '9', '5', '3', '4', '4', '0', '9', '7', '5', '9', '3', '3', '0', '7', '1', '3', '4', '2', '6', '8', '8', '6', '1', '8', '7', '8', '2', '7', '2', '8', '0', '6', '6', '6', '7', '9', '2', '5', '1', '7', '8', '7', '0', '4', '7', '7', '2', '5', '8', '0', '7', '1', '6', '1', '5', '6', '0', '9', '5', '0', '0', '4', '3', '9', '1', '6', '4', '8', '4', '6', '4', '0', '4', '7', '1', '1', '8', '0', '5', '7', '9', '5', '0', '1', '7', '0', '5', '3', '7', '0', '3', '3', '7', '1', '7', '6', '1', '3', '8', '6', '9', '6', '8', '9', '2', '5', '4', '8', '5', '6', '0', '5', '4', '8', '3', '8', '0', '9', '5', '2', '4', '9', '1', '4', '9', '5', '7', '4', '8', '6', '1', '5', '4', '0', '6', '6', '8', '8', '6', '7', '0', '6', '7', '2', '1', '3', '7', '1', '4', '4', '0', '4', '3', '9', '7', '1', '7', '9', '7', '0', '2', '1', '9', '3', '5', '4', '5', '5', '2', '7', '2', '5', '2', '7', '7', '1', '0', '0', '5', '5', '1', '8', '5', '5', '9', '4', '2', '1', '8', '8', '8', '7', '6', '0', '4', '1', '0', '7', '6', '5', '1', '5', '5', '7', '7', '3', '2', '5', '6', '7', '1', '7', '4', '9', '3', '8', '3', '5', '2', '3', '0', '8', '0', '1', '2', '3', '9', '2', '3', '0', '4', '3', '9', '3', '0', '0', '5', '9', '5', '1', '8', '2', '4', '8', '2', '9', '2', '0', '2', '0', '9', '3', '4', '0', '3', '6', '7', '5', '6', '9', '0', '5', '4', '7', '0', '4', '7', '4', '2', '6', '2', '1', '0', '1', '7', '7', '9', '5', '0', '1', '7', '6', '0', '7', '7', '2', '5', '6', '4', '9', '1', '0', '8', '3', '8', '3', '4', '0', '7', '2', '7', '5', '9', '1', '5', '6', '3', '8', '3', '5', '4', '4', '3', '6', '9', '2', '5', '8', '4', '8', '6', '2', '8', '9', '6', '9', '3', '5', '8', '6', '9', '9', '3', '3', '0', '8', '0', '4', '1', '9', '2', '5', '7', '0', '5', '7', '5', '1', '1', '4', '6', '6', '0', '3', '2', '4', '1', '4', '2', '2', '8', '6', '8', '9', '9', '9', '3', '4', '7', '2', '5', '5', '3', '3', '2', '2', '8', '3', '0', '3', '2', '6', '8', '4', '2', '1', '2', '3', '8', '4', '2', '9', '2', '0', '7', '3', '9', '2', '9', '3', '1', '7', '2', '7', '1', '2', '3', '8', '5', '5', '1', '1', '5', '7', '1', '1', '6', '7', '4', '6', '9', '5', '4', '7', '1', '5', '6', '0', '8', '1', '6', '9', '2', '7', '2', '8', '4', '4', '2', '4', '0', '8', '2', '1', '2', '9', '4', '1', '7', '5', '8', '7', '6', '9', '4', '2', '9', '8', '5', '8', '7', '3', '2', '6', '1', '8', '6', '7', '6', '4', '0', '4', '4', '9', '9', '7', '1', '2', '7', '2', '4', '2', '2', '4', '8', '3', '6', '7', '7', '0', '4', '1', '4', '7', '7', '5', '3', '8', '4', '5', '6', '1', '0', '5', '7', '7', '9', '7', '6', '2', '5', '3', '7', '6', '3', '6', '8', '9', '3', '9', '9', '2', '2', '4', '1', '2', '2', '2', '3', '2', '6', '3', '8', '5', '9', '2', '4', '7', '3', '4', '0', '2', '3', '7', '7', '6', '5', '3', '0', '4', '2', '0', '1', '7', '9', '9', '8', '6', '7', '9', '0', '7', '4', '2', '9', '7', '4', '8', '0', '6', '3', '2', '8', '4', '8', '5', '0', '2', '9', '4', '9', '0', '1', '6', '4', '8', '1', '6', '1', '1', '9', '1', '3', '9', '7', '2', '5', '7', '0', '6', '1', '4', '2', '4', '6', '0', '8', '3', '8', '0', '4', '5', '2', '1', '9', '2', '8', '3', '8', '5', '5', '9', '0', '0', '7', '8', '4', '7', '2', '0', '8', '9', '1', '3', '7', '1', '0', '7', '1', '9', '0', '8', '3', '8', '9', '0', '3', '8', '2', '0', '6', '5', '4', '9', '6', '2', '6', '2', '6', '9', '0', '9', '8', '0', '9', '4', '6', '2', '0', '5', '6', '6', '3', '1', '3', '4', '3', '8', '3', '5', '1', '6', '1', '2', '7', '9', '5', '0', '0', '6', '6', '9', '4', '4', '9', '7', '2', '3', '2', '4', '0', '6', '2', '4', '8', '6', '0', '0', '3', '8', '3', '7', '1', '7', '3', '4', '1', '4', '6', '0', '7', '1', '5', '6', '3', '9', '2', '2', '3', '7', '8', '8', '0', '8', '1', '3', '0', '7', '8', '9', '2', '2', '7', '5', '3', '5', '1', '9', '8', '6', '6', '3', '1', '3', '3', '7', '6', '9', '8', '2', '0', '9', '9', '5', '9', '0', '5', '5', '3', '3', '2', '3', '8', '8', '1', '5', '6', '3', '7', '6', '8', '7', '3', '7', '0', '0', '1', '1', '2', '5', '3', '9', '5', '1', '2', '2', '0', '2', '7', '6', '5', '8', '1', '2', '5', '5', '1', '2', '9', '4', '3', '2', '1', '3', '0', '2', '2', '5', '5', '0', '2', '1', '0', '4', '5', '0', '7', '6', '5', '2', '6', '5', '8', '3', '1', '2', '3', '6', '0', '1', '2', '2', '5', '3', '3', '5', '1', '6', '5', '2', '2', '2', '8', '2', '5', '0', '3', '4', '7', '9', '5', '8', '1', '6', '2', '4', '5', '2', '0', '8', '7', '5', '7', '2', '8', '7', '1', '5', '8', '3', '7', '0', '7', '4', '9', '5', '1', '9', '7', '0', '9', '9', '5', '3', '4', '3', '0', '1', '7', '5', '6', '9', '6', '5', '5', '8', '3', '4', '5', '5', '9', '0', '3', '1', '0', '3', '1', '9', '5', '9', '7', '2', '7', '9', '7', '8', '2', '8', '7', '6', '4', '9', '0', '5', '1', '6', '7', '3', '3', '0', '9', '2', '2', '0', '5', '1', '8', '9', '6', '5', '7', '7', '7', '0', '5', '6', '3', '8', '8', '2', '4', '8', '8', '6', '6', '8', '8', '2', '2', '2', '4', '2', '5', '0', '1', '0', '6', '2', '9', '3', '8', '1', '4', '8', '4', '0', '9', '9', '6', '4', '0', '8', '5', '9', '6', '3', '8', '0', '2', '8', '4', '8', '4', '4', '7', '0', '2', '9', '1', '7', '9', '3', '5', '4', '6', '9', '1', '5', '3', '1', '0', '7', '6', '7', '4', '9', '6', '5', '7', '1', '3', '2', '2', '1', '3', '3', '7', '4', '1', '8', '2', '5', '6', '7', '4', '1', '8', '2', '1', '5', '7', '3', '1', '0', '4', '9', '9', '1', '2', '9', '8', '7', '9', '3', '2', '9', '5', '6', '9', '7', '1', '7', '3', '0', '6', '1', '8', '4', '9', '0', '9', '5', '7', '8', '0', '2', '8', '1', '4', '5', '7', '6', '2', '8', '6', '0', '7', '5', '4', '8', '5', '0', '1', '8', '5', '5', '3', '2', '6', '2', '5', '3', '8', '5', '7', '5', '3', '2', '3', '1', '9', '0', '5', '6', '7', '0', '0', '9', '0', '5', '9', '8', '3', '6', '6', '7', '9', '8', '5', '5', '0', '0', '3', '5', '8', '1', '2', '8', '6', '7', '9', '0', '0', '9', '3', '6', '0', '3', '7', '3', '6', '0', '4', '5', '6', '3', '4', '7', '0', '9', '9', '4', '0', '1', '5', '7', '3', '4', '9', '0', '6', '3', '1', '2', '5', '8', '4', '9', '0', '3', '2', '1', '0', '8', '2', '7', '4', '7', '6', '3', '2', '0', '8', '6', '8', '2', '7', '7', '4', '3', '2', '7', '0', '8', '0', '8', '4', '1', '9', '0', '8', '2', '1', '7', '0', '8', '2', '5', '7', '3', '2', '0', '6', '3', '8', '4', '7', '2', '9', '5', '9', '1', '1', '2', '3', '6', '3', '9', '2', '2', '7', '6', '5', '5', '9', '0', '6', '4', '3', '8', '7', '3', '5', '1', '8', '7', '8', '1', '7', '4', '5', '0', '2', '1', '3', '4', '1', '8', '0', '2', '8', '0', '7', '0', '2', '6', '5', '2', '0', '4', '5', '0', '5', '4', '0', '2', '7', '3', '8', '7', '7', '6', '6', '0', '2', '7', '3', '5', '6', '0', '1', '9', '1', '1', '7', '3', '8', '7', '9', '2', '4', '2', '2', '3', '8', '7', '7', '3', '8', '6', '9', '1', '1', '6', '6', '6', '8', '2', '5', '2', '4', '4', '5', '7', '7', '6', '0', '4', '1', '8', '3', '4', '4', '5', '4', '7', '6', '6', '1', '2', '1', '1', '6', '3', '0', '5', '1', '2', '0', '4', '5', '9', '1', '1', '6', '3', '2', '4', '6', '1', '6', '0', '1', '6', '3', '8', '3', '8', '0', '7', '4', '1', '6', '4', '8', '5', '3', '6', '4', '5', '7', '3', '6', '8', '3', '2', '6', '6', '0', '0', '4', '3', '5', '6', '6', '2', '0', '3', '7', '5', '1', '2', '4', '1', '1', '8', '6', '4', '6', '5', '7', '4', '9', '1', '5', '2', '7', '6', '2', '7', '7', '8', '4', '7', '5', '1', '7', '9', '0', '8', '1', '9', '8', '8', '1', '2', '9', '2', '6', '5', '8', '2', '9', '1', '3', '0', '7', '3', '1', '6', '7', '6', '9', '5', '5', '3', '4', '2', '6', '0', '7', '1', '7', '8', '5', '5', '6', '5', '8', '3', '9', '7', '9', '9', '8', '0', '1', '0', '7', '3', '6', '2', '9', '1', '3', '3', '4', '0', '9', '0', '3', '0', '3', '8', '9', '6', '9', '5', '3', '3', '5', '1', '5', '9', '1', '4', '9', '2', '4', '1', '0', '0', '0', '2', '8', '3', '0', '7', '3', '4', '5', '3', '2', '0', '3', '9', '9', '0', '5', '7', '2', '6', '2', '0', '6', '2', '3', '3', '5', '9', '1', '2', '4', '9', '9', '7', '8', '3', '1', '3', '1', '7', '7', '8', '5', '2', '1', '5', '9', '7', '8', '3', '7', '5', '4', '1', '6', '6', '5', '6', '5', '2', '2', '9', '9', '5', '3', '1', '7', '0', '2', '9', '6', '1', '6', '3', '6', '7', '1', '5', '1', '6', '0', '7', '4', '8', '1', '3', '5', '7', '3', '8', '6', '4', '2', '2', '2', '7', '2', '1', '6', '6', '3', '6', '4', '5', '9', '2', '7', '5', '3', '8', '3', '6', '5', '2', '3', '7', '1', '9', '1', '3', '5', '6', '5', '2', '2', '1', '6', '2', '8', '8', '9', '6', '2', '2', '6', '4', '1', '5', '2', '4', '6', '2', '5', '1', '1', '3', '6', '5', '1', '0', '1', '8', '8', '4', '2', '6', '3', '2', '4', '3', '1', '6', '1', '0', '4', '8', '3', '0', '1', '2', '4', '3', '2', '4', '5', '7', '5', '8', '9', '9', '6', '4', '8', '4', '0', '6', '1', '3', '2', '4', '2', '9', '8', '3', '9', '9', '5', '3', '7', '6', '6', '0', '6', '2', '0', '3', '6', '8', '5', '5', '1', '4', '5', '0', '7', '2', '1', '4', '5', '4', '3', '6', '0', '8', '0', '6', '1', '6', '0', '2', '5', '6', '2', '5', '2', '3', '0', '7', '1', '2', '9', '0', '5', '3', '2', '5', '9', '9', '4', '3', '0', '9', '8', '6', '6', '7', '3', '9', '0', '3', '8', '9', '8', '6', '6', '1', '8', '1', '5', '8', '4', '1', '1', '2', '4', '9', '7', '8', '7', '2', '7', '4', '1', '5', '3', '6', '0', '3', '3', '5', '4', '5', '1', '1', '9', '8', '9', '3', '2', '7', '4', '8', '8', '5', '8', '1', '4', '3', '3', '0', '2', '0', '6', '2', '0', '7', '1', '6', '3', '0', '8', '8', '2', '0', '5', '3', '6', '3', '8', '3', '3', '7', '8', '5', '7', '7', '2', '7', '4', '9', '8', '2', '5', '2', '2', '4', '2', '0', '7', '4', '0', '1', '4', '8', '0', '3', '6', '2', '1', '1', '9', '4', '4', '5', '5', '0', '0', '6', '5', '9', '6', '0', '8', '5', '3', '9', '1', '1', '3', '9', '8', '0', '4', '5', '4', '1', '8', '8', '9', '7', '1', '5', '5', '7', '9', '5', '1', '0', '8', '3', '4', '6', '4', '7', '4', '3', '0', '9', '9', '1', '9', '2', '9', '8', '7', '2', '3', '7', '6', '6', '6', '1', '1', '2', '4', '2', '7', '6', '7', '8', '8', '9', '4', '3', '5', '3', '7', '3', '6', '0', '3', '0', '0', '6', '5', '7', '0', '5', '9', '5', '9', '5', '0', '0', '4', '7', '2', '2', '4', '5', '1', '0', '8', '4', '6', '5', '9', '3', '3', '3', '5', '1', '1', '3', '5', '6', '2', '4', '6', '5', '8', '3', '0', '4', '3', '1', '5', '8', '1', '5', '7', '3', '6', '2', '0', '9', '1', '4', '1', '0', '3', '0', '1', '2', '4', '5', '1', '7', '6', '0', '8', '0', '4', '8', '6', '6', '8', '2', '6', '6', '0', '2', '3', '3', '0', '1', '0', '7', '3', '6', '2', '8', '7', '4', '3', '5', '5', '8', '1', '0', '2', '4', '3', '1', '4', '7', '1', '5', '2', '3', '4', '5', '8', '9', '3', '7', '4', '1', '2', '1', '3', '6', '2', '2', '5', '7', '9', '1', '6', '2', '6', '1', '6', '1', '9', '0', '4', '3', '5', '2', '5', '0', '4', '1', '1', '9', '2', '8', '5', '7', '9', '9', '4', '3', '2', '8', '3', '4', '2', '0', '0', '8', '5', '5', '3', '9', '0', '6', '4', '4', '9', '2', '2', '0', '3', '0', '9', '3', '9', '1', '7', '1', '9', '0', '5', '2', '3', '2', '4', '8', '6', '6', '3', '9', '1', '2', '7', '1', '6', '0', '6', '6', '2', '2', '7', '7', '5', '2', '1', '7', '6', '4', '2', '6', '4', '7', '3', '6', '5', '1', '9', '4', '6', '1', '0', '1', '8', '9', '7', '3', '0', '0', '3', '2', '2', '1', '4', '9', '6', '8', '2', '3', '9', '2', '4', '1', '2', '5', '2', '9', '0', '4', '8', '4', '2', '2', '2', '1', '1', '1', '1', '0', '8', '7', '1', '6', '9', '8', '5', '2', '6', '1', '2', '0', '9', '6', '6', '6', '2', '8', '0', '7', '2', '5', '1', '6', '9', '1', '5', '0', '4', '1', '4', '3', '6', '6', '6', '3', '5', '3', '6', '0', '7', '8', '6', '1', '3', '3', '9', '8', '3', '7', '9', '8', '3', '4', '2', '4', '3', '5', '3', '6', '3', '0', '3', '4', '9', '5', '1', '8', '3', '4', '3', '1', '3', '5', '0', '9', '7', '5', '9', '1', '5', '2', '7', '1', '6', '6', '0', '6', '4', '0', '6', '9', '7', '0', '2', '1', '9', '3', '8', '7', '1', '0', '9', '0', '7', '0', '7', '9', '8', '4', '5', '7', '2', '8', '8', '3', '1', '5', '6', '8', '6', '6', '5', '5', '1', '3', '9', '5', '7', '6', '3', '3', '6', '8', '3', '9', '8', '8', '7', '5', '2', '5', '9', '8', '3', '3', '8', '4', '6', '0', '7', '4', '2', '4', '4', '5', '9', '0', '2', '3', '1', '6', '6', '4', '4', '1', '1', '1', '3', '9', '5', '0', '6', '2', '2', '2', '0', '6', '0', '8', '1', '0', '6', '4', '2', '0', '7', '0', '9', '7', '6', '9', '4', '2', '5', '5', '9', '7', '1', '2', '4', '4', '5', '3', '0', '9', '9', '5', '1', '9', '7', '7', '7', '7', '4', '6', '5', '6', '2', '3', '5', '9', '7', '2', '5', '9', '8', '2', '2', '2', '1', '8', '0', '6', '4', '9', '8', '2', '6', '4', '3', '4', '6', '0', '8', '1', '7', '3', '5', '4', '4', '4', '2', '2', '7', '5', '4', '7', '8', '0', '2', '4', '3', '7', '6', '6', '4', '4', '4', '9', '7', '8', '4', '2', '8', '5', '6', '7', '9', '7', '3', '9', '0', '6', '4', '7', '2', '6', '1', '6', '9', '4', '2', '6', '8', '1', '3', '8', '7', '4', '7', '9', '6', '3', '3', '4', '9', '2', '0', '2', '6', '2', '2', '3', '3', '2', '1', '9', '8', '5', '7', '7', '9', '7', '8', '6', '5', '4', '7', '2', '0', '7', '1', '7', '1', '5', '3', '4', '0', '4', '6', '8', '6', '4', '8', '6', '1', '4', '1', '5', '6', '5', '2', '1', '5', '9', '7', '4', '7', '5', '1', '9', '4', '2', '0', '9', '1', '0', '9', '1', '4', '2', '5', '5', '5', '7', '6', '7', '7', '1', '4', '7', '4', '4', '1', '3', '0', '9', '9', '8', '6', '1', '3', '9', '3', '7', '4', '8', '6', '7', '5', '9', '5', '6', '3', '9', '2', '0', '7', '9', '9', '5', '9', '6', '9', '0', '1', '6', '3', '7', '2', '5', '9', '7', '0', '0', '1', '3', '8', '9', '9', '9', '3', '5', '3', '7', '4', '4', '8', '4', '9', '7', '7', '1', '7', '0', '5', '6', '3', '3', '7', '6', '0', '3', '5', '9', '4', '9', '4', '8', '9', '7', '1', '8', '5', '1', '6', '7', '4', '3', '7', '6', '4', '7', '6', '3', '1', '5', '5', '3', '0', '6', '8', '2', '4', '9', '8', '2', '0', '6', '3', '6', '8', '1', '5', '3', '0', '4', '4', '9', '1', '1', '8', '6', '1', '1', '7', '9', '1', '6', '0', '0', '8', '7', '1', '4', '7', '0', '0', '7', '6', '9', '6', '7', '4', '6', '6', '9', '7', '6', '0', '6', '5', '6', '4', '8', '1', '5', '0', '3', '8', '1', '5', '9', '4', '8', '0', '4', '2', '3', '2', '4', '8', '4', '4', '3', '0', '0', '1', '1', '4', '5', '3', '2', '1', '1', '8', '2', '2', '8', '9', '7', '9', '7', '2', '6', '9', '3', '2', '2', '8', '8', '4', '2', '8', '3', '2', '6', '9', '9', '7', '6', '5', '4', '2', '5', '0', '9', '0', '7', '7', '5', '8', '5', '2', '2', '7', '4', '5', '4', '3', '2', '2', '4', '1', '2', '3', '7', '9', '0', '8', '2', '1', '1', '1', '4', '4', '8', '7', '4', '5', '0', '8', '8', '5', '6', '6', '6', '1', '8', '2', '9', '1', '8', '7', '4', '7', '2', '8', '9', '4', '8', '4', '4', '9', '5', '8', '7', '4', '6', '6', '8', '0', '5', '1', '7', '1', '8', '3', '8', '9', '8', '7', '1', '7', '1', '9', '0', '1', '8', '8', '8', '4', '1', '2', '0', '6', '8', '3', '8', '0', '9', '1', '2', '8', '4', '6', '7', '9', '8', '3', '3', '9', '0', '7', '1', '7', '3', '6', '1', '0', '7', '7', '1', '4', '0', '5', '2', '2', '3', '6', '1', '1', '4', '3', '9', '3', '9', '7', '6', '1', '1', '1', '9', '9', '1', '9', '6', '1', '9', '5', '0', '1', '1', '9', '5', '7', '6', '5', '4', '8', '6', '8', '5', '7', '3', '2', '3', '3', '5', '6', '4', '1', '9', '1', '5', '8', '1', '3', '8', '2', '0', '0', '3', '0', '8', '5', '0', '5', '6', '8', '2', '1', '1', '7', '5', '6', '8', '1', '9', '5', '0', '8', '6', '1', '2', '4', '3', '0', '6', '1', '5', '5', '3', '9', '4', '5', '0', '3', '5', '6', '2', '3', '7', '9', '2', '4', '3', '3', '0', '2', '2', '7', '1', '3', '5', '5', '3', '7', '2', '2', '6', '7', '8', '1', '9', '9', '8', '0', '4', '4', '9', '5', '7', '3', '7', '0', '6', '1', '5', '6', '4', '3', '2', '4', '6', '1', '6', '3', '9', '4', '9', '8', '1', '3', '7', '9', '2', '3', '5', '7', '0', '8', '3', '7', '9', '5', '2', '5', '7', '7', '2', '4', '2', '9', '6', '7', '8', '7', '5', '8', '3', '3', '4', '1', '1', '7', '9', '3', '1', '0', 'C', 'Q', 'U', 'I', 'I', 'Y', 'C', 'S', 'O', 'H', 'A', 'N', 'U', 'L', 'U', 'B', 'I', 'B', 'D', 'A', 'S', 'N', 'N', 'T', 'U', 'Y', 'R', 'G', 'P', 'F', 'R', 'E', 'U', 'I', 'B', 'G', 'I', 'U', 'U', 'A', 'R', 'D', 'O', 'G', 'U', 'B', 'K', 'J', 'Y', 'M', 'H', 'G', 'P', 'B', 'C', 'Q', 'T', 'H', 'W', 'H', 'H', 'O', 'N', 'P', 'R', 'T', 'M', 'O', 'Y', 'G', 'A', 'T', 'V', 'A', 'D', 'K', 'G', 'E', 'L', 'D', 'E', 'N', 'C', 'C', 'A', 'L', 'Y', 'I', 'O', 'E', 'R', 'R', 'P', 'V', 'S', 'C', 'P', 'P', 'T', 'R', 'D', 'G', 'E', 'D', 'O', 'X', 'O', 'H', 'O', 'S', 'D', 'A', 'A', 'F', 'X', 'I', 'L', 'N', 'A', 'R', 'L', 'K', 'D', 'G', 'N', 'I', 'J', 'B', 'O', 'S', 'V', 'M', 'H', 'W', 'E', 'G', 'G', 'O', 'I', 'V', 'E', 'G', 'B', 'U', 'T', 'V', 'F', 'B', 'H', 'K', 'U', 'N', 'C', 'I', 'I', 'D', 'V', 'P', 'X', 'J', 'H', 'D', 'G', 'S', 'C', 'N', 'V', 'D', 'V', 'D', 'R', 'G', 'T', 'Y', 'T', 'W', 'Y', 'S', 'M', 'X', 'S', 'E', 'X', 'C', 'C', 'E', 'G', 'I', 'P', 'W', 'E', 'Q', 'H', 'S', 'M', 'B', 'T', 'V', 'T', 'O', 'F', 'B', 'S', 'I', 'C', 'W', 'A', 'X', 'F', 'O', 'M', 'H', 'O', 'J', 'Q', 'F', 'W', 'J', 'M', 'E', 'K', 'Y', 'B', 'M', 'R', 'F', 'O', 'C', 'H', 'Y', 'I', 'D', 'B', 'M', 'C', 'C', 'X', 'Y', 'N', 'C', 'J', 'H', 'H', 'F', 'P', 'F', 'O', 'O', 'F', 'F', 'P', 'R', 'R', 'L', 'K', 'Q', 'O', 'N', 'V', 'X', 'D', 'W', 'S', 'N', 'P', 'P', 'F', 'L', 'J', 'R', 'T', 'X', 'G', 'H', 'B', 'X', 'S', 'Q', 'K', 'Y', 'F', 'H', 'D', 'K', 'C', 'M', 'L', 'C', 'Q', 'I', 'R', 'I', 'K', 'V', 'J', 'W', 'Y', 'U', 'Y', 'C', 'M', 'S', 'N', 'O', 'X', 'J', 'I', 'A', 'G', 'S', 'U', 'V', 'O', 'F', 'W', 'A', 'L', 'T', 'O', 'T', 'L', 'J', 'J', 'O', 'P', 'N', 'K', 'F', 'O', 'H', 'F', 'D', 'K', 'M', 'C', 'N', 'Q', 'M', 'A', 'L', 'H', 'R', 'F', 'Y', 'E', 'B', 'E', 'X', 'M', 'W', 'T', 'W', 'U', 'J', 'E', 'O', 'B', 'C', 'L', 'W', 'U', 'Q', 'P', 'A', 'J', 'H', 'C', 'H', 'K', 'S', 'X', 'D', 'Y', 'S', 'X', 'C', 'Y', 'C', 'I', 'R', 'N', 'W', 'W', 'S', 'N', 'S', 'E', 'M', 'N', 'T', 'F', 'B', 'H', 'I', 'H', 'V', 'K', 'J', 'V', 'T', 'R', 'V', 'G', 'J', 'D', 'M', 'T', 'C', 'S', 'U', 'L', 'O', 'E', 'K', 'K', 'K', 'A', 'I', 'C', 'J', 'J', 'P', 'Q', 'V', 'K', 'D', 'O', 'A', 'X', 'W', 'S', 'T', 'P', 'S', 'U', 'M', 'U', 'G', 'G', 'M', 'A', 'L', 'L', 'B', 'J', 'H', 'L', 'N', 'S', 'F', 'G', 'S', 'N', 'A', 'G', 'K', 'L', 'L', 'O', 'U', 'O', 'C', 'L', 'N', 'N', 'B', 'I', 'H', 'L', 'H', 'J', 'H', 'N', 'M', 'A', 'L', 'I', 'V', 'Q', 'S', 'D', 'M', 'I', 'P', 'G', 'I', 'Y', 'L', 'U', 'V', 'C', 'A', 'R', 'B', 'G', 'Q', 'M', 'E', 'C', 'I', 'V', 'W', 'M', 'P', 'D', 'M', 'V', 'A', 'G', 'B', 'Y', 'T', 'M', 'F', 'P', 'V', 'W', 'X', 'C', 'E', 'B', 'F', 'U', 'G', 'B', 'X', 'F', 'B', 'O', 'K', 'G', 'Q', 'C', 'B', 'W', 'W', 'C', 'R', 'F', 'R', 'V', 'V', 'J', 'Y', 'K', 'K', 'V', 'K', 'A', 'C', 'A', 'Q', 'C', 'X', 'O', 'D', 'H', 'B', 'J', 'K', 'H', 'X', 'G', 'F', 'E', 'V', 'T', 'V', 'H', 'M', 'O', 'G', 'C', 'D', 'O', 'G', 'L', 'L', 'I', 'Q', 'Y', 'L', 'U', 'U', 'S', 'I', 'O', 'J', 'C', 'P', 'L', 'C', 'J', 'N', 'C', 'H', 'G', 'G', 'T', 'E', 'H', 'I', 'K', 'M', 'I', 'P', 'T', 'L', 'D', 'P', 'V', 'F', 'O', 'Y', 'S', 'I', 'R', 'O', 'A', 'H', 'P', 'P', 'I', 'E', 'K', 'G', 'H', 'V', 'J', 'D', 'C', 'E', 'P', 'T', 'D', 'W', 'Y', 'L', 'E', 'K', 'Y', 'A', 'G', 'P', 'X', 'Y', 'E', 'N', 'I', 'E', 'O', 'L', 'J', 'H', 'B', 'D', 'U', 'P', 'T', 'T', 'M', 'C', 'R', 'J', 'Q', 'K', 'X', 'X', 'M', 'Y', 'O', 'C', 'O', 'E', 'S', 'T', 'C', 'C', 'G', 'O', 'O', 'I', 'M', 'V', 'S', 'F', 'T', 'H', 'K', 'S', 'H', 'V', 'S', 'C', 'W', 'R', 'D', 'C', 'G', 'I', 'J', 'A', 'Y', 'F', 'F', 'N', 'G', 'K', 'Y', 'U', 'N', 'B', 'M', 'A', 'L', 'E', 'V', 'V', 'F', 'R', 'D', 'J', 'M', 'V', 'U', 'U', 'C', 'L', 'J', 'B', 'S', 'B', 'V', 'D', 'G', 'D', 'V', 'G', 'Q', 'F', 'R', 'C', 'M', 'M', 'L', 'U', 'N', 'U', 'P', 'A', 'O', 'E', 'A', 'W', 'M', 'L', 'X', 'W', 'Y', 'J', 'H', 'U', 'V', 'X', 'Y', 'M', 'N', 'C', 'K', 'N', 'A', 'E', 'T', 'O', 'P', 'T', 'W', 'I', 'M', 'I', 'B', 'W', 'J', 'H', 'F', 'P', 'X', 'H', 'A', 'A', 'R', 'J', 'T', 'K', 'Y', 'P', 'U', 'T', 'I', 'M', 'T', 'M', 'C', 'J', 'O', 'B', 'N', 'K', 'A', 'E', 'C', 'C', 'C', 'T', 'B', 'D', 'T', 'K', 'Q', 'P', 'B', 'V', 'B', 'D', 'X', 'J', 'K', 'H', 'C', 'P', 'Y', 'E', 'X', 'Q', 'B', 'K', 'R', 'D', 'N', 'F', 'C', 'H', 'P', 'G', 'O', 'J', 'D', 'Q', 'F', 'H', 'B', 'S', 'G', 'D', 'Y', 'G', 'T', 'Y', 'O', 'R', 'O', 'X', 'J', 'C', 'E', 'Y', 'H', 'R', 'X', 'S', 'S', 'N', 'K', 'M', 'D', 'M', 'Y', 'Q', 'S', 'E', 'M', 'F', 'V', 'F', 'N', 'G', 'R', 'P', 'Q', 'O', 'H', 'O', 'Y', 'I', 'R', 'X', 'I', 'W', 'U', 'E', 'L', 'F', 'A', 'F', 'A', 'C', 'K', 'L', 'K', 'A', 'T', 'U', 'T', 'C', 'E', 'Q', 'P', 'B', 'X', 'V', 'G', 'B', 'C', 'C', 'T', 'B', 'K', 'Q', 'B', 'V', 'U', 'O', 'Q', 'K', 'H', 'O', 'O', 'I', 'N', 'S', 'L', 'C', 'H', 'U', 'A', 'R', 'V', 'T', 'O', 'L', 'Y', 'K', 'J', 'G', 'P', 'H', 'E', 'E', 'X', 'I', 'D', 'B', 'Q', 'O', 'B', 'I', 'I', 'R', 'R', 'C', 'C', 'X', 'E', 'L', 'Y', 'Q', 'B', 'W', 'I', 'C', 'C', 'G', 'S', 'L', 'O', 'T', 'B', 'E', 'C', 'L', 'N', 'L', 'V', 'I', 'L', 'L', 'L', 'C', 'H', 'B', 'U', 'S', 'F', 'G', 'A', 'B', 'I', 'P', 'A', 'Y', 'E', 'N', 'A', 'Y', 'M', 'V', 'V', 'M', 'E', 'V', 'E', 'R', 'I', 'H', 'S', 'K', 'Q', 'F', 'B', 'P', 'I', 'A', 'M', 'Y', 'Y', 'S', 'K', 'M', 'I', 'P', 'I', 'I', 'C', 'N', 'M', 'B', 'I', 'D', 'D', 'E', 'S', 'U', 'E', 'K', 'T', 'T', 'S', 'T', 'V', 'G', 'H', 'L', 'X', 'H', 'J', 'W', 'A', 'M', 'L', 'N', 'H', 'A', 'S', 'C', 'H', 'R', 'A', 'H', 'J', 'B', 'E', 'D', 'I', 'B', 'E', 'D', 'F', 'Y', 'A', 'M', 'T', 'T', 'A', 'A', 'I', 'I', 'S', 'M', 'I', 'O', 'T', 'G', 'H', 'R', 'L', 'Y', 'H', 'A', 'S', 'I', 'N', 'E', 'T', 'I', 'A', 'E', 'W', 'B', 'E', 'Q', 'L', 'E', 'U', 'L', 'N', 'S', 'N', 'A', 'J', 'I', 'E', 'U', 'L', 'U', 'P', 'E', 'E', 'W', 'J', 'B', 'G', 'U', 'K', 'E', 'G', 'L', 'L', 'L', 'Y', 'U', 'Y', 'D', 'I', 'R', 'W', 'V', 'H', 'C', 'D', 'I', 'K', 'B', 'X', 'C', 'O', 'T', 'L', 'G', 'X', 'R', 'V', 'X', 'Y', 'K', 'W', 'F', 'I', 'I', 'R', 'I', 'S', 'F', 'V', 'M', 'D', 'A', 'W', 'S', 'K', 'I', 'M', 'K', 'S', 'O', 'W', 'F', 'O', 'L', 'P', 'N', 'B', 'P', 'M', 'J', 'J', 'E', 'N', 'F', 'S', 'Q', 'H', 'L', 'V', 'C', 'T', 'I', 'F', 'K', 'A', 'U', 'V', 'S', 'S', 'I', 'S', 'P', 'Q', 'N', 'S', 'B', 'N', 'G', 'V', 'S', 'V', 'H', 'B', 'U', 'C', 'M', 'M', 'M', 'U', 'R', 'D', 'L', 'C', 'L', 'O', 'S', 'C', 'T', 'U', 'X', 'B', 'U', 'A', 'F', 'I', 'A', 'S', 'I', 'X', 'O', 'V', 'B', 'G', 'C', 'I', 'O', 'H', 'T', 'I', 'Y', 'N', 'Y', 'F', 'I', 'S', 'E', 'S', 'N', 'F', 'Y', 'N', 'X', 'O', 'C', 'B', 'U', 'T', 'T', 'S', 'W', 'I', 'H', 'D', 'X', 'D', 'C', 'D', 'N', 'K', 'A', 'F', 'I', 'M', 'I', 'A', 'O', 'Q', 'T', 'V', 'O', 'L', 'W', 'O', 'J', 'L', 'L', 'A', 'R', 'O', 'H', 'L', 'K', 'Y', 'X', 'I', 'M', 'B', 'S', 'I', 'A', 'I', 'Q', 'M', 'D', 'M', 'N', 'J', 'H', 'X', 'F', 'M', 'H', 'P', 'D', 'V', 'O', 'H', 'C', 'X', 'C', 'H', 'M', 'C', 'T', 'B', 'I', 'W', 'A', 'T', 'V', 'G', 'I', 'G', 'X', 'A', 'K', 'W', 'T', 'M', 'U', 'Q', 'S', 'F', 'Y', 'P', 'G', 'C', 'J', 'O', 'I', 'U', 'H', 'I', 'T', 'P', 'L', 'A', 'H', 'H', 'P', 'T', 'I', 'S', 'S', 'X', 'V', 'F', 'F', 'O', 'D', 'O', 'C', 'E', 'J', 'Y', 'R', 'C', 'O', 'T', 'P', 'P', 'N', 'G', 'X', 'P', 'F', 'X', 'M', 'F', 'I', 'G', 'X', 'X', 'B', 'D', 'O', 'U', 'E', 'Y', 'O', 'W', 'W', 'T', 'L', 'X', 'C', 'W', 'F', 'M', 'Y', 'G', 'L', 'H', 'C', 'V', 'X', 'O', 'M', 'F', 'A', 'P', 'O', 'U', 'K', 'I', 'L', 'N', 'V', 'B', 'V', 'J', 'J', 'V', 'A', 'F', 'G', 'W', 'R', 'X', 'J', 'M', 'N', 'B', 'H', 'Q', 'R', 'C', 'E', 'J', 'W', 'G', 'P', 'Q', 'W', 'S', 'V', 'H', 'Q', 'I', 'V', 'K', 'P', 'D', 'N', 'R', 'J', 'N', 'I', 'V', 'N', 'W', 'B', 'B', 'H', 'J', 'W', 'G', 'C', 'X', 'W', 'H', 'L', 'S', 'A', 'X', 'T', 'S', 'U', 'N', 'U', 'D', 'F', 'J', 'T', 'C', 'S', 'L', 'F', 'V', 'W', 'L', 'B', 'J', 'L', 'L', 'J', 'O', 'B', 'I', 'W', 'G', 'W', 'Y', 'Q', 'M', 'O', 'O', 'I', 'N', 'M', 'I', 'N', 'L', 'S', 'S', 'C', 'F', 'G', 'I', 'I', 'J', 'C', 'Y', 'U', 'A', 'P', 'L', 'O', 'Y', 'M', 'P', 'R', 'H', 'W', 'D', 'R', 'A', 'F', 'R', 'K', 'N', 'G', 'F', 'K', 'E', 'R', 'I', 'U', 'W', 'N', 'T', 'Q', 'F', 'M', 'G', 'S', 'M', 'S', 'Y', 'K', 'J', 'V', 'J', 'X', 'N', 'P', 'D', 'L', 'S', 'N', 'Q', 'A', 'I', 'A', 'A', 'J', 'B', 'V', 'P', 'E', 'Q', 'L', 'A', 'N', 'P', 'N', 'I', 'O', 'X', 'L', 'Y', 'U', 'D', 'K', 'J', 'F', 'E', 'C', 'M', 'I', 'E', 'Q', 'Q', 'X', 'E', 'S', 'A', 'H', 'L', 'A', 'I', 'B', 'B', 'B', 'W', 'W', 'Y', 'E', 'W', 'A', 'G', 'J', 'X', 'W', 'U', 'K', 'A', 'U', 'J', 'U', 'C', 'T', 'X', 'J', 'M', 'L', 'V', 'Y', 'G', 'J', 'A', 'R', 'I', 'G', 'I', 'N', 'J', 'T', 'N', 'I', 'I', 'P', 'K', 'Q', 'V', 'J', 'C', 'I', 'I', 'O', 'S', 'C', 'J', 'X', 'Q', 'X', 'Q', 'I', 'T', 'J', 'L', 'R', 'Q', 'X', 'N', 'H', 'K', 'V', 'Y', 'G', 'F', 'X', 'P', 'E', 'K', 'G', 'F', 'N', 'S', 'N', 'E', 'V', 'H', 'F', 'C', 'B', 'R', 'A', 'L', 'E', 'H', 'O', 'C', 'C', 'U', 'X', 'L', 'A', 'Q', 'W', 'T', 'D', 'U', 'O', 'H', 'G', 'R', 'V', 'C', 'O', 'C', 'X', 'U', 'U', 'X', 'J', 'I', 'C', 'J', 'Y', 'T', 'K', 'D', 'K', 'A', 'V', 'I', 'W', 'I', 'Y', 'H', 'Q', 'L', 'R', 'E', 'F', 'R', 'Y', 'T', 'V', 'U', 'I', 'H', 'K', 'K', 'U', 'D', 'V', 'R', 'C', 'N', 'F', 'E', 'T', 'D', 'R', 'W', 'U', 'L', 'I', 'V', 'C', 'A', 'Q', 'T', 'C', 'O', 'T', 'N', 'F', 'L', 'U', 'U', 'F', 'D', 'V', 'H', 'L', 'O', 'S', 'H', 'W', 'O', 'K', 'R', 'D', 'U', 'C', 'W', 'C', 'A', 'C', 'N', 'J', 'I', 'Q', 'C', 'E', 'R', 'B', 'K', 'Y', 'F', 'W', 'D', 'W', 'Y', 'R', 'E', 'F', 'Q', 'P', 'J', 'M', 'O', 'Y', 'B', 'F', 'A', 'Q', 'U', 'J', 'J', 'R', 'G', 'M', 'Q', 'A', 'H', 'A', 'Y', 'B', 'V', 'N', 'H', 'D', 'K', 'F', 'V', 'L', 'U', 'W', 'N', 'J', 'Y', 'K', 'A', 'J', 'J', 'W', 'O', 'G', 'E', 'N', 'K', 'T', 'F', 'M', 'H', 'C', 'G', 'A', 'L', 'F', 'B', 'E', 'C', 'L', 'J', 'F', 'K', 'Y', 'O', 'M', 'E', 'C', 'H', 'E', 'D', 'E', 'C', 'H', 'P', 'J', 'F', 'Q', 'D', 'N', 'X', 'Q', 'Q', 'E', 'Q', 'D', 'U', 'X', 'B', 'V', 'M', 'K', 'G', 'N', 'K', 'S', 'W', 'T', 'N', 'U', 'S', 'N', 'O', 'S', 'K', 'P', 'J', 'X', 'B', 'B', 'W', 'O', 'B', 'D', 'E', 'C', 'G', 'X', 'F', 'C', 'E', 'M', 'G', 'L', 'J', 'Y', 'O', 'Q', 'C', 'F', 'J', 'I', 'I', 'Y', 'W', 'I', 'H', 'N', 'R', 'E', 'U', 'J', 'G', 'R', 'B', 'X', 'Y', 'Q', 'B', 'F', 'H', 'L', 'W', 'L', 'V', 'I', 'V', 'H', 'B', 'M', 'U', 'X', 'P', 'G', 'A', 'D', 'C', 'G', 'U', 'O', 'F', 'U', 'A', 'M', 'V', 'G', 'G', 'K', 'R', 'H', 'L', 'O', 'J', 'I', 'Y', 'B', 'R', 'L', 'H', 'X', 'G', 'O', 'T', 'J', 'B', 'K', 'T', 'Q', 'E', 'K', 'A', 'I', 'J', 'N', 'H', 'B', 'N', 'P', 'K', 'H', 'X', 'O', 'C', 'E', 'I', 'T', 'E', 'G', 'R', 'I', 'O', 'D', 'J', 'I', 'U', 'H', 'F', 'L', 'R', 'B', 'U', 'G', 'L', 'G', 'D', 'X', 'B', 'I', 'C', 'M', 'H', 'G', 'U', 'I', 'O', 'R', 'E', 'T', 'D', 'Q', 'I', 'R', 'B', 'K', 'J', 'M', 'H', 'O', 'M', 'B', 'B', 'C', 'F', 'A', 'N', 'G', 'M', 'S', 'X', 'M', 'W', 'X', 'W', 'X', 'H', 'U', 'F', 'P', 'W', 'L', 'L', 'Q', 'O', 'X', 'H', 'B', 'K', 'K', 'S', 'E', 'P', 'X', 'A', 'K', 'P', 'M', 'R', 'F', 'P', 'F', 'G', 'F', 'J', 'R', 'V', 'T', 'Q', 'G', 'O', 'C', 'D', 'V', 'P', 'O', 'U', 'G', 'S', 'X', 'U', 'D', 'E', 'K', 'B', 'G', 'V', 'E', 'B', 'L', 'W', 'B', 'U', 'R', 'I', 'W', 'T', 'S', 'R', 'L', 'A', 'X', 'W', 'C', 'B', 'A', 'O', 'S', 'J', 'R', 'W', 'O', 'C', 'O', 'I', 'F', 'P', 'E', 'K', 'F', 'V', 'F', 'A', 'L', 'F', 'M', 'X', 'A', 'U', 'C', 'I', 'D', 'V', 'A', 'D', 'G', 'R', 'B', 'G', 'J', 'G', 'T', 'X', 'J', 'I', 'B', 'W', 'D', 'G', 'X', 'G', 'C', 'G', 'K', 'J', 'Y', 'P', 'U', 'P', 'F', 'B', 'B', 'H', 'X', 'N', 'L', 'M', 'D', 'W', 'N', 'J', 'U', 'A', 'I', 'I', 'A', 'W', 'L', 'B', 'K', 'P', 'Q', 'G', 'C', 'P', 'Y', 'I', 'P', 'U', 'D', 'R', 'J', 'W', 'P', 'R', 'S', 'V', 'H', 'W', 'M', 'X', 'R', 'J', 'E', 'O', 'N', 'E', 'V', 'T', 'S', 'F', 'T', 'O', 'Y', 'N', 'C', 'T', 'E', 'E', 'O', 'M', 'T', 'I', 'T', 'P', 'Q', 'Y', 'L', 'V', 'Y', 'M', 'G', 'H', 'D', 'I', 'Y', 'T', 'B', 'K', 'A', 'D', 'T', 'D', 'B', 'D', 'H', 'J', 'A', 'L', 'F', 'R', 'W', 'E', 'A', 'U', 'Q', 'U', 'X', 'E', 'K', 'Y', 'U', 'D', 'H', 'U', 'C', 'A', 'J', 'G', 'T', 'G', 'V', 'K', 'O', 'Q', 'U', 'H', 'Y', 'V', 'S', 'W', 'Q', 'B', 'O', 'E', 'D', 'B', 'X', 'V', 'A', 'D', 'L', 'W', 'V', 'F', 'I', 'Q', 'Q', 'T', 'T', 'X', 'C', 'V', 'D', 'K', 'L', 'Q', 'D', 'D', 'S', 'H', 'D', 'O', 'D', 'G', 'B', 'X', 'Y', 'I', 'K', 'N', 'G', 'X', 'T', 'P', 'S', 'H', 'T', 'Q', 'Q', 'M', 'J', 'T', 'N', 'Q', 'V', 'D', 'M', 'D', 'W', 'T', 'R', 'B', 'G', 'W', 'O', 'H', 'O', 'I', 'I', 'T', 'E', 'E', 'B', 'Y', 'Q', 'L', 'N', 'N', 'Y', 'W', 'U', 'E', 'B', 'D', 'F', 'J', 'H', 'W', 'N', 'X', 'T', 'N', 'K', 'C', 'V', 'R', 'P', 'L', 'N', 'M', 'R', 'A', 'A', 'L', 'J', 'F', 'O', 'J', 'Y', 'F', 'E', 'K', 'T', 'E', 'Y', 'Q', 'S', 'Y', 'Y', 'I', 'T', 'C', 'L', 'I', 'A', 'H', 'T', 'K', 'F', 'Y', 'P', 'N', 'Y', 'D', 'Y', 'A', 'D', 'A', 'V', 'R', 'T', 'O', 'L', 'P', 'D', 'K', 'L', 'E', 'Y', 'R', 'D', 'S', 'Q', 'F', 'I', 'Q', 'E', 'H', 'X', 'Q', 'M', 'X', 'O', 'B', 'C', 'J', 'L', 'M', 'W', 'S', 'J', 'K', 'V', 'W', 'J', 'G', 'Y', 'H', 'B', 'S', 'E', 'H', 'C', 'R', 'H', 'E', 'R', 'Q', 'T', 'P', 'G', 'Y', 'R', 'X', 'D', 'Y', 'M', 'L', 'F', 'W', 'V', 'M', 'S', 'J', 'S', 'S', 'K', 'I', 'I', 'V', 'C', 'J', 'J', 'S', 'E', 'L', 'B', 'N', 'Y', 'N', 'E', 'P', 'M', 'K', 'E', 'B', 'E', 'R', 'U', 'R', 'N', 'I', 'G', 'U', 'S', 'E', 'A', 'U', 'X', 'B', 'Y', 'X', 'P', 'H', 'W', 'X', 'G', 'J', 'V', 'K', 'P', 'P', 'L', 'B', 'D', 'O', 'F', 'X', 'C', 'P', 'J', 'D', 'L', 'L', 'H', 'C', 'T', 'X', 'B', 'E', 'J', 'C', 'F', 'M', 'I', 'M', 'C', 'I', 'V', 'K', 'I', 'G', 'U', 'J', 'V', 'M', 'P', 'V', 'W', 'L', 'C', 'A', 'N', 'F', 'R', 'E', 'O', 'L', 'R', 'R', 'V', 'W', 'F', 'J', 'G', 'J', 'M', 'I', 'H', 'T', 'R', 'W', 'L', 'F', 'I', 'F', 'J', 'K', 'I', 'I', 'X', 'H', 'Y', 'I', 'H', 'I', 'S', 'C', 'Q', 'V', 'I', 'U', 'C', 'Q', 'P', 'V', 'U', 'R', 'E', 'Y', 'F', 'F', 'W', 'F', 'M', 'E', 'B', 'Y', 'S', 'O', 'H', 'A', 'M', 'G', 'D', 'A', 'T', 'S', 'V', 'H', 'U', 'C', 'J', 'L', 'Y', 'I', 'P', 'I', 'U', 'E', 'D', 'S', 'A', 'J', 'J', 'G', 'S', 'B', 'G', 'L', 'C', 'E', 'U', 'S', 'U', 'L', 'R', 'W', 'K', 'J', 'K', 'G', 'S', 'V', 'P', 'S', 'A', 'L', 'S', 'Q', 'O', 'D', 'V', 'R', 'H', 'F', 'T', 'M', 'C', 'W', 'O', 'A', 'L', 'J', 'J', 'K', 'O', 'L', 'J', 'S', 'Q', 'L', 'D', 'L', 'D', 'E', 'K', 'V', 'E', 'K', 'E', 'G', 'B', 'X', 'D', 'M', 'A', 'N', 'H', 'C', 'T', 'X', 'L', 'D', 'C', 'J', 'E', 'R', 'Y', 'G', 'B', 'O', 'C', 'U', 'J', 'Y', 'F', 'I', 'L', 'H', 'Y', 'V', 'E', 'G', 'H', 'D', 'N', 'N', 'I', 'U', 'C', 'T', 'V', 'L', 'D', 'I', 'D', 'M', 'A', 'Q', 'T', 'O', 'J', 'B', 'T', 'E', 'S', 'X', 'I', 'S', 'U', 'A', 'S', 'G', 'I', 'F', 'C', 'S', 'J', 'X', 'K', 'L', 'D', 'X', 'D', 'A', 'P', 'H', 'O', 'G', 'I', 'B', 'I', 'P', 'H', 'B', 'G', 'K', 'E', 'N', 'U', 'E', 'K', 'B', 'B', 'P', 'J', 'O', 'O', 'M', 'K', 'M', 'C', 'O', 'T', 'N', 'X', 'G', 'S', 'F', 'P', 'E', 'W', 'Q', 'T', 'V', 'S', 'P', 'W', 'T', 'S', 'G', 'O', 'H', 'N', 'K', 'S', 'C', 'F', 'T', 'E', 'M', 'N', 'O', 'B', 'H', 'J', 'I', 'P', 'I', 'B', 'E', 'H', 'W', 'O', 'R', 'W', 'I', 'S', 'E', 'Y', 'O', 'Q', 'E', 'A', 'T', 'A', 'N', 'V', 'Q', 'J', 'A', 'P', 'C', 'I', 'W', 'B', 'K', 'G', 'L', 'G', 'L', 'J', 'J', 'X', 'P', 'E', 'J', 'I', 'R', 'T', 'E', 'B', 'P', 'I', 'E', 'K', 'D', 'O', 'J', 'J', 'U', 'N', 'G', 'U', 'E', 'L', 'W', 'P', 'J', 'J', 'U', 'A', 'B', 'K', 'S', 'O', 'X', 'W', 'S', 'X', 'F', 'X', 'G', 'T', 'J', 'R', 'B', 'G', 'T', 'T', 'D', 'I', 'X', 'O', 'J', 'Q', 'H', 'E', 'C', 'G', 'E', 'M', 'M', 'K', 'R', 'B', 'X', 'P', 'F', 'V', 'H', 'S', 'S', 'C', 'B', 'A', 'B', 'E', 'C', 'V', 'F', 'I', 'L', 'X', 'R', 'O', 'N', 'V', 'G', 'D', 'W', 'T', 'I', 'H', 'D', 'G', 'Q', 'P', 'I', 'D', 'P', 'E', 'X', 'J', 'B', 'C', 'E', 'G', 'L', 'A', 'J', 'H', 'A', 'G', 'L', 'X', 'F', 'E', 'D', 'D', 'X', 'P', 'H', 'H', 'O', 'X', 'N', 'W', 'M', 'S', 'F', 'V', 'H', 'A', 'C', 'N', 'Q', 'R', 'V', 'M', 'B', 'H', 'G', 'A', 'G', 'P', 'G', 'B', 'J', 'F', 'M', 'O', 'L', 'F', 'M', 'G', 'T', 'T', 'S', 'C', 'M', 'M', 'R', 'B', 'K', 'R', 'A', 'N', 'N', 'E', 'M', 'A', 'M', 'I', 'F', 'A', 'X', 'D', 'H', 'E', 'M', 'L', 'J', 'E', 'P', 'Q', 'G', 'L', 'I', 'T', 'W', 'W', 'D', 'G', 'P', 'H', 'P', 'R', 'C', 'K', 'O', 'Y', 'I', 'X', 'X', 'Q', 'J', 'E', 'W', 'B', 'R', 'F', 'N', 'D', 'I', 'T', 'M', 'Y', 'J', 'M', 'O', 'L', 'F', 'X', 'R', 'U', 'M', 'M', 'W', 'K', 'N', 'D', 'K', 'N', 'U', 'J', 'H', 'J', 'Q', 'D', 'M', 'K', 'F', 'D', 'B', 'F', 'U', 'C', 'B', 'E', 'G', 'E', 'T', 'R', 'D', 'H', 'C', 'V', 'J', 'Q', 'F', 'N', 'J', 'B', 'T', 'V', 'Q', 'G', 'O', 'O', 'A', 'S', 'M', 'X', 'U', 'E', 'N', 'F', 'D', 'V', 'M', 'J', 'K', 'C', 'K', 'B', 'A', 'S', 'G', 'Y', 'A', 'I', 'F', 'O', 'R', 'S', 'C', 'M', 'I', 'N', 'M', 'R', 'O', 'J', 'Y', 'T', 'B', 'X', 'G', 'M', 'H', 'Y', 'D', 'Y', 'P', 'D', 'K', 'R', 'X', 'T', 'W', 'V', 'C', 'W', 'B', 'U', 'Q', 'I', 'H', 'X', 'I', 'P', 'G', 'Q', 'F', 'T', 'T', 'E', 'S', 'X', 'H', 'C', 'Q', 'J', 'W', 'K', 'C', 'R', 'Q', 'G', 'O', 'D', 'X', 'H', 'W', 'C', 'C', 'B', 'M', 'J', 'C', 'U', 'K', 'H', 'K', 'W', 'M', 'V', 'E', 'I', 'X', 'J', 'X', 'E', 'K', 'E', 'Y', 'Y', 'X', 'M', 'V', 'R', 'E', 'Y', 'L', 'V', 'A', 'C', 'L', 'P', 'H', 'P', 'C', 'H', 'R', 'J', 'T', 'M', 'T', 'W', 'K', 'E', 'L', 'N', 'H', 'I', 'Y', 'Y', 'C', 'X', 'Y', 'A', 'I', 'G', 'O', 'C', 'O', 'D', 'R', 'E', 'H', 'T', 'L', 'C', 'I', 'V', 'P', 'O', 'D', 'W', 'H', 'U', 'T', 'X', 'J', 'L', 'M', 'X', 'B', 'C', 'T', 'J', 'A', 'E', 'N', 'I', 'Y', 'S', 'V', 'R', 'S', 'P', 'S', 'X', 'T', 'D', 'I', 'B', 'T', 'I', 'F', 'C', 'B', 'Q', 'L', 'E', 'S', 'O', 'F', 'C', 'N', 'O', 'G', 'T', 'C', 'X', 'O', 'I', 'G', 'K', 'P', 'R', 'G', 'J', 'S', 'O', 'Y', 'A', 'O', 'R', 'B', 'L', 'H', 'A', 'G', 'X', 'N', 'T', 'X', 'J', 'R', 'I', 'B', 'B', 'M', 'U', 'A', 'R', 'W', 'D', 'N', 'B', 'M', 'L', 'P', 'A', 'P', 'J', 'M', 'O', 'A', 'O', 'R', 'P', 'N', 'B', 'F', 'Y', 'M', 'G', 'C', 'B', 'D', 'K', 'N', 'U', 'Q', 'S', 'C', 'Y', 'L', 'K', 'X', 'N', 'J', 'K', 'O', 'I', 'K', 'B', 'K', 'Q', 'B', 'Q', 'I', 'E', 'O', 'N', 'R', 'R', 'E', 'O', 'F', 'M', 'Y', 'S', 'G', 'V', 'L', 'D', 'Q', 'Y', 'U', 'E', 'P', 'H', 'E', 'R', 'A', 'Q', 'W', 'M', 'J', 'N', 'G', 'E', 'G', 'L', 'E', 'L', 'F', 'A', 'K', 'D', 'H', 'M', 'B', 'H', 'G', 'F', 'T', 'O', 'Q', 'W', 'P', 'E', 'D', 'W', 'U', 'Q', 'X', 'J', 'P', 'H', 'Y', 'T', 'E', 'X', 'D', 'X', 'G', 'W', 'Y', 'O', 'S', 'N', 'J', 'H', 'H', 'E', 'S', 'B', 'Q', 'P', 'H', 'X', 'I', 'P', 'A', 'W', 'M', 'N', 'E', 'A', 'J', 'E', 'I', 'K', 'G', 'Y', 'H', 'M', 'L', 'C', 'A', 'H', 'G', 'J', 'F', 'T', 'G', 'C', 'U', 'M', 'S', 'P', 'N', 'X', 'I', 'Y', 'T', 'S', 'N', 'D', 'A', 'G', 'W', 'B', 'P', 'K', 'B', 'N', 'J', 'V', 'V', 'T', 'C', 'Y', 'R', 'Y', 'I', 'M', 'O', 'O', 'V', 'W', 'V', 'F', 'X', 'G', 'S', 'K', 'H', 'N', 'X', 'E', 'H', 'X', 'Y', 'A', 'Y', 'E', 'I', 'B', 'B', 'D', 'V', 'J', 'V', 'Q', 'H', 'N', 'D', 'E', 'B', 'K', 'C', 'D', 'O', 'F', 'K', 'T', 'N', 'D', 'I', 'T', 'E', 'D', 'Q', 'C', 'D', 'W', 'H', 'H', 'J', 'C', 'S', 'Q', 'T', 'X', 'P', 'A', 'E', 'O', 'R', 'L', 'U', 'T', 'D', 'P', 'H', 'P', 'H', 'Y', 'W', 'D', 'M', 'D', 'X', 'H', 'I', 'D', 'G', 'T', 'Q', 'B', 'C', 'N', 'H', 'J', 'M', 'A', 'W', 'H', 'O', 'V', 'T', 'K', 'X', 'I', 'T', 'K', 'X', 'K', 'K', 'M', 'X', 'H', 'I', 'Y', 'L', 'G', 'L', 'N', 'U', 'B', 'M', 'A', 'L', 'B', 'Y', 'T', 'M', 'L', 'O', 'H', 'B', 'J', 'M', 'L', 'E', 'P', 'O', 'H', 'D', 'V', 'F', 'Q', 'O', 'N', 'I', 'E', 'Q', 'K', 'H', 'S', 'J', 'C', 'E', 'K', 'P', 'A', 'N', 'B', 'C', 'I', 'C', 'N', 'G', 'L', 'D', 'F', 'T', 'I', 'X', 'H', 'V', 'W', 'P', 'D', 'H', 'R', 'V', 'C', 'N', 'K', 'I', 'N', 'X', 'W', 'Q', 'T', 'E', 'R', 'T', 'H', 'E', 'F', 'G', 'R', 'B', 'I', 'K', 'G', 'O', 'D', 'C', 'P', 'B', 'E', 'G', 'N', 'C', 'X', 'B', 'Y', 'E', 'Q', 'O', 'J', 'Q', 'A', 'V', 'E', 'O', 'J', 'K', 'R', 'I', 'Q', 'U', 'N', 'S', 'C', 'S', 'E', 'H', 'V', 'T', 'R', 'J', 'E', 'L', 'W', 'E', 'D', 'H', 'A', 'P', 'M', 'Q', 'D', 'T', 'D', 'G', 'M', 'V', 'H', 'M', 'K', 'A', 'D', 'G', 'H', 'H', 'H', 'A', 'P', 'K', 'R', 'C', 'E', 'M', 'B', 'J', 'V', 'K', 'I', 'F', 'U', 'K', 'U', 'V', 'I', 'B', 'E', 'V', 'W', 'A', 'G', 'R', 'W', 'D', 'G', 'V', 'C', 'J', 'J', 'M', 'M', 'J', 'C', 'Q', 'V', 'R', 'G', 'X', 'X', 'N', 'D', 'C', 'W', 'B', 'G', 'Q', 'T', 'E', 'N', 'E', 'K', 'J', 'C', 'V', 'I', 'X', 'O', 'E', 'U', 'A', 'A', 'A', 'U', 'L', 'L', 'D', 'Q', 'Q', 'M', 'M', 'D', 'Y', 'O', 'T', 'O', 'R', 'V', 'G', 'M', 'Q', 'O', 'D', 'U', 'E', 'J', 'T', 'S', 'U', 'S', 'F', 'P', 'Y', 'G', 'K', 'F', 'O', 'B', 'B', 'N', 'G', 'I', 'C', 'O', 'D', 'N', 'K', 'J', 'P', 'K', 'D', 'I', 'J', 'V', 'B', 'U', 'N', 'J', 'D', 'C', 'K', 'L', 'L', 'D', 'E', 'T', 'H', 'Q', 'N', 'X', 'X', 'F', 'P', 'L', 'X', 'Q', 'D', 'J', 'C', 'Y', 'F', 'I', 'X', 'D', 'V', 'D', 'F', 'I', 'X', 'D', 'S', 'H', 'D', 'A', 'V', 'C', 'S', 'B', 'I', 'T', 'E', 'C', 'Y', 'C', 'X', 'L', 'L', 'F', 'R', 'C', 'B', 'N', 'G', 'W', 'G', 'V', 'D', 'H', 'H', 'L', 'S', 'J', 'U', 'I', 'A', 'P', 'Q', 'V', 'D', 'K', 'N', 'I', 'R', 'D', 'A', 'D', 'G', 'O', 'J', 'Q', 'E', 'X', 'F', 'A', 'X', 'C', 'D', 'F', 'E', 'E', 'A', 'H', 'D', 'C', 'G', 'V', 'V', 'R', 'V', 'B', 'T', 'I', 'I', 'C', 'Q', 'A', 'H', 'I', 'F', 'Q', 'T', 'W', 'G', 'F', 'A', 'A', 'U', 'C', 'O', 'B', 'G', 'K', 'I', 'Y', 'O', 'X', 'D', 'A', 'I', 'O', 'B', 'E', 'F', 'Y', 'O', 'T', 'P', 'K', 'R', 'Y', 'S', 'W', 'C', 'R', 'V', 'Q', 'A', 'Q', 'N', 'K', 'G', 'T', 'J', 'Q', 'M', 'G', 'C', 'G', 'W', 'T', 'W', 'J', 'P', 'M', 'F', 'C', 'B', 'J', 'R', 'V', 'P', 'I', 'V', 'R', 'O', 'B', 'L', 'Q', 'I', 'T', 'F', 'W', 'T', 'D', 'O', 'O', 'N', 'B', 'B', 'S', 'A', 'U', 'Y', 'T', 'L', 'L', 'V', 'E', 'G', 'M', 'W', 'E', 'L', 'X', 'V', 'S', 'A', 'W', 'Y', 'N', 'N', 'G', 'T', 'E', 'P', 'N', 'K', 'I', 'C', 'F', 'D', 'I', 'D', 'J', 'U', 'E', 'A', 'Y', 'R', 'Q', 'G', 'P', 'N', 'F', 'T', 'I', 'D', 'K', 'S', 'S', 'F', 'H', 'S', 'H', 'Q', 'L', 'Y', 'N', 'I', 'D', 'V', 'D', 'T', 'I', 'H', 'A', 'W', 'C', 'C', 'K', 'X', 'F', 'R', 'R', 'V', 'I', 'E', 'W', 'B', 'Y', 'Q', 'Y', 'B', 'O', 'D', 'T', 'E', 'M', 'F', 'U', 'B', 'X', 'Y', 'X', 'O', 'L', 'P', 'T', 'D', 'G', 'U', 'Y', 'K', 'E', 'C', 'M', 'B', 'Y', 'A', 'Y', 'K', 'S', 'C', 'T', 'F', 'A', 'X', 'S', 'K', 'I', 'R', 'X', 'C', 'D', 'H', 'C', 'H', 'F', 'T', 'O', 'K', 'X', 'P', 'P', 'N', 'V', 'U', 'L', 'G', 'Q', 'T', 'M', 'I', 'L', 'I', 'I', 'J', 'P', 'B', 'E', 'K', 'J', 'I', 'H', 'T', 'E', 'L', 'U', 'Y', 'H', 'Q', 'F', 'I', 'B', 'G', 'M', 'G', 'R', 'Q', 'T', 'X', 'B', 'K', 'T', 'I', 'L', 'H', 'N', 'I', 'K', 'D', 'H', 'H', 'B', 'P', 'C', 'I', 'S', 'A', 'H', 'H', 'A', 'J', 'B', 'V', 'L', 'A', 'H', 'K', 'B', 'W', 'Q', 'F', 'J', 'W', 'Y', 'D', 'X', 'P', 'C', 'N', 'V', 'W', 'U', 'N', 'W', 'F', 'X', 'G', 'Q', 'O', 'X', 'T', 'R', 'X', 'H', 'J', 'O', 'B', 'H', 'H', 'I', 'H', 'F', 'F', 'O', 'I', 'P', 'S', 'Q', 'C', 'V', 'R', 'H', 'O', 'E', 'M', 'I', 'C', 'B', 'H', 'W', 'I', 'V', 'M', 'C', 'H', 'T', 'L', 'V', 'E', 'H', 'U', 'R', 'B', 'G', 'I', 'J', 'V', 'U', 'D', 'K', 'U', 'U', 'P', 'I', 'F', 'J', 'I', 'X', 'A', 'D', 'I', 'J', 'X', 'A', 'I', 'S', 'D', 'U', 'J', 'M', 'O', 'H', 'H', 'F', 'A', 'R', 'A', 'W', 'J', 'O', 'H', 'F', 'C', 'S', 'K', 'O', 'W', 'C', 'S', 'Y', 'Q', 'O', 'J', 'B', 'M', 'B', 'H', 'E', 'F', 'M', 'X', 'B', 'I', 'Q', 'C', 'E', 'E', 'X', 'K', 'K', 'S', 'N', 'G', 'D', 'S', 'M', 'V', 'F', 'P', 'G', 'N', 'I', 'J', 'C', 'V', 'M', 'A', 'H', 'X', 'G', 'B', 'N', 'N', 'H', 'D', 'H', 'K', 'U', 'N', 'T', 'E', 'I', 'W', 'V', 'C', 'J', 'X', 'X', 'R', 'Q', 'G', 'Y', 'E', 'Q', 'P', 'H', 'P', 'N', 'V', 'S', 'V', 'W', 'I', 'K', 'L', 'Q', 'W', 'Q', 'O', 'F', 'J', 'W', 'B', 'P', 'K', 'T', 'V', 'I', 'M', 'B', 'V', 'D', 'C', 'U', 'I', 'P', 'A', 'F', 'Y', 'Q', 'F', 'X', 'F', 'U', 'G', 'Q', 'B', 'U', 'C', 'N', 'G', 'X', 'M', 'S', 'E', 'P', 'O', 'A', 'W', 'D', 'T', 'X', 'G', 'E', 'O', 'O', 'I', 'K', 'M', 'J', 'O', 'B', 'L', 'P', 'U', 'M', 'V', 'T', 'G', 'E', 'D', 'J', 'S', 'B', 'V', 'V', 'H', 'G', 'L', 'O', 'I', 'I', 'L', 'X', 'O', 'D', 'A', 'R', 'Q', 'R', 'A', 'G', 'K', 'Y', 'E', 'G', 'L', 'J', 'N', 'C', 'U', 'A', 'Q', 'S', 'S', 'L', 'A', 'L', 'J', 'U', 'R', 'P', 'K', 'C', 'B', 'X', 'Y', 'Q', 'T', 'D', 'J', 'V', 'D', 'B', 'K', 'U', 'F', 'R', 'O', 'G', 'B', 'N', 'V', 'T', 'W', 'N', 'S', 'G', 'D', 'K', 'L', 'L', 'T', 'S', 'J', 'H', 'T', 'H', 'M', 'U', 'E', 'A', 'H', 'P', 'Q', 'C', 'U', 'H', 'Y', 'B', 'B', 'T', 'S', 'R', 'W', 'V', 'I', 'W', 'H', 'R', 'D', 'U', 'W', 'H', 'E', 'P', 'K', 'I', 'U', 'E', 'W', 'P', 'H', 'W', 'U', 'F', 'M', 'I', 'N', 'P', 'F', 'J', 'P', 'D', 'D', 'T', 'E', 'X', 'J', 'R', 'G', 'O', 'Q', 'W', 'C', 'R', 'T', 'B', 'F', 'E', 'E', 'F', 'N', 'U', 'P', 'S', 'I', 'S', 'O', 'M', 'H', 'U', 'V', 'H', 'H', 'U', 'N', 'R', 'B', 'H', 'L', 'D', 'M', 'X', 'F', 'W', 'S', 'M', 'B', 'G', 'N', 'P', 'E', 'A', 'C', 'M', 'O', 'P', 'T', 'A', 'M', 'I', 'U', 'P', 'I', 'N', 'V', 'W', 'L', 'E', 'B', 'M', 'J', 'Y', 'S', 'B', 'C', 'W', 'S', 'P', 'N', 'D', 'I', 'C', 'C', 'U', 'W', 'H', 'C', 'C', 'Y', 'U', 'Y', 'R', 'B', 'U', 'N', 'M', 'A', 'U', 'Y', 'J', 'E', 'B', 'Q', 'J', 'N', 'C', 'T', 'N', 'P', 'Y', 'X', 'H', 'M', 'H', 'V', 'Q', 'A', 'P', 'P', 'M', 'W', 'D', 'L', 'H', 'V', 'I', 'A', 'I', 'L', 'K', 'O', 'W', 'D', 'S', 'Q', 'N', 'V', 'W', 'O', 'Q', 'T', 'B', 'B', 'P', 'Q', 'C', 'E', 'J', 'C', 'Y', 'E', 'F', 'V', 'M', 'G', 'I', 'W', 'Q', 'F', 'I', 'A', 'H', 'U', 'T', 'C', 'Q', 'F', 'A', 'R', 'V', 'I', 'X', 'W', 'D', 'T', 'R', 'X', 'H', 'L', 'M', 'R', 'Y', 'E', 'I', 'V', 'B', 'V', 'F', 'K', 'C', 'X', 'D', 'A', 'T', 'N', 'X', 'B', 'D', 'A', 'H', 'W', 'D', 'T', 'W', 'F', 'Y', 'P', 'I', 'D', 'K', 'M', 'A', 'G', 'F', 'Y', 'E', 'H', 'I', 'Y', 'E', 'V', 'F', 'T', 'H', 'B', 'C', 'I', 'B', 'A', 'C', 'X', 'L', 'H', 'S', 'Q', 'I', 'X', 'K', 'M', 'S', 'U', 'O', 'L', 'X', 'C', 'E', 'Q', 'E', 'F', 'I', 'W', 'U', 'J', 'W', 'E', 'D', 'Y', 'P', 'C', 'Y', 'T', 'M', 'N', 'F', 'B', 'C', 'Y', 'T', 'L', 'J', 'K', 'V', 'E', 'D', 'C', 'S', 'E', 'O', 'E', 'J', 'I', 'O', 'N', 'W', 'M', 'F', 'S', 'F', 'C', 'I', 'I', 'X', 'R', 'L', 'D', 'B', 'K', 'D', 'O', 'H', 'B', 'P', 'C', 'H', 'D', 'A', 'S', 'P', 'C', 'Q', 'L', 'K', 'E', 'H', 'L', 'U', 'J', 'F', 'I', 'T', 'G', 'V', 'P', 'H', 'E', 'E', 'X', 'J', 'U', 'R', 'X', 'R', 'V', 'G', 'X', 'N', 'U', 'Y', 'N', 'R', 'P', 'M', 'E', 'O', 'X', 'L', 'O', 'C', 'H', 'T', 'B', 'N', 'H', 'R', 'X', 'J', 'M', 'H', 'P', 'X', 'R', 'G', 'E', 'I', 'S', 'R', 'J', 'A', 'P', 'Q', 'R', 'T', 'J', 'F', 'F', 'D', 'E', 'B', 'G', 'J', 'G', 'R', 'V', 'A', 'M', 'X', 'F', 'N', 'H', 'N', 'L', 'R', 'O', 'U', 'Q', 'B', 'V', 'M', 'E', 'C', 'B', 'D', 'D', 'L', 'N', 'J', 'Y', 'A', 'D', 'H', 'C', 'D', 'J', 'D', 'C', 'R', 'W', 'X', 'M', 'T', 'O', 'X', 'A', 'G', 'X', 'F', 'C', 'L', 'L', 'C', 'U', 'D', 'X', 'E', 'A', 'K', 'V', 'J', 'S', 'U', 'N', 'S', 'A', 'G', 'X', 'P', 'C', 'Q', 'W', 'K', 'K', 'S', 'C', 'I', 'J', 'N', 'F', 'G', 'S', 'D', 'M', 'W', 'O', 'L', 'B', 'D', 'D', 'D', 'L', 'J', 'Q', 'P', 'O', 'J', 'O', 'T', 'P', 'V', 'S', 'O', 'P', 'J', 'E', 'Y', 'L', 'V', 'N', 'S', 'E', 'C', 'A', 'E', 'R', 'I', 'H', 'A', 'D', 'U', 'T', 'S', 'K', 'T', 'X', 'I', 'Y', 'F', 'I', 'S', 'L', 'Q', 'B', 'C', 'N', 'S', 'I', 'R', 'F', 'J', 'S', 'I', 'C', 'Q', 'A', 'V', 'C', 'P', 'Y', 'D', 'Q', 'K', 'F', 'N', 'G', 'B', 'Y', 'S', 'H', 'F', 'E', 'R', 'L', 'I', 'V', 'A', 'B', 'Q', 'C', 'U', 'T', 'J', 'P', 'L', 'A', 'J', 'B', 'E', 'B', 'P', 'X', 'B', 'X', 'C', 'N', 'R', 'H', 'F', 'H', 'L', 'Q', 'S', 'T', 'T', 'P', 'G', 'O', 'E', 'T', 'L', 'D', 'T', 'K', 'P', 'N', 'L', 'M', 'O', 'E', 'J', 'F', 'P', 'F', 'B', 'E', 'A', 'E', 'E', 'Y', 'M', 'B', 'S', 'L', 'U', 'E', 'C', 'V', 'E', 'G', 'I', 'P', 'N', 'J', 'K', 'N', 'V', 'U', 'Y', 'D', 'Q', 'U', 'H', 'B', 'G', 'N', 'R', 'E', 'K', 'S', 'K', 'H', 'B', 'J', 'L', 'J', 'H', 'G', 'K', 'Q', 'V', 'O', 'V', 'M', 'J', 'M', 'G', 'E', 'T', 'V', 'A', 'U', 'E', 'O', 'N', 'P', 'Q', 'J', 'N', 'I', 'O', 'C', 'L', 'D', 'X', 'J', 'P', 'L', 'J', 'F', 'E', 'O', 'C', 'H', 'W', 'R', 'Y', 'E', 'J', 'M', 'Y', 'D', 'U', 'Q', 'P', 'J', 'L', 'N', 'H', 'J', 'H', 'U', 'P', 'C', 'U', 'J', 'O', 'D', 'R', 'V', 'L', 'R', 'A', 'B', 'W', 'U', 'N', 'I', 'B', 'H', 'G', 'G', 'I', 'O', 'C', 'W', 'A', 'P', 'M', 'I', 'T', 'A', 'Y', 'E', 'I', 'X', 'D', 'S', 'X', 'O', 'T', 'C', 'E', 'S', 'N', 'P', 'I', 'A', 'B', 'V', 'Q', 'O', 'X', 'R', 'C', 'A', 'U', 'C', 'L', 'N', 'S', 'P', 'H', 'R', 'H', 'Y', 'I', 'N', 'N', 'T', 'X', 'A', 'N', 'I', 'O', 'P', 'E', 'A', 'P', 'H', 'M', 'X', 'J', 'X', 'B', 'S', 'G', 'Q', 'I', 'G', 'H', 'Y', 'S', 'T', 'H', 'Q', 'O', 'Q', 'K', 'E', 'W', 'O', 'M', 'Q', 'B', 'W', 'T', 'G', 'C', 'R', 'W', 'H', 'G', 'S', 'J', 'A', 'Y', 'N', 'K', 'V', 'W', 'B', 'W', 'W', 'H', 'F', 'P', 'A', 'G', 'S', 'X', 'H', 'D', 'K', 'W', 'U', 'K', 'C', 'K', 'G', 'P', 'N', 'P', 'K', 'M', 'X', 'E', 'J', 'H', 'H', 'R', 'Q', 'L', 'B', 'T', 'V', 'H', 'O', 'R', 'L', 'T', 'U', 'L', 'J', 'I', 'A', 'T', 'R', 'B', 'S', 'X', 'G', 'G', 'G', 'E', 'F', 'W', 'E', 'R', 'B', 'S', 'F', 'K', 'D', 'M', 'T', 'B', 'X', 'Y', 'H', 'P', 'S', 'H', 'O', 'W', 'K', 'G', 'L', 'S', 'H', 'C', 'O', 'G', 'I', 'I', 'E', 'M', 'E', 'B', 'I', 'J', 'Y', 'E', 'O', 'A', 'Y', 'L', 'Y', 'W', 'J', 'V', 'W', 'H', 'W', 'E', 'A', 'B', 'M', 'C', 'O', 'S', 'C', 'V', 'S', 'D', 'T', 'L', 'F', 'H', 'U', 'W', 'X', 'Y', 'M', 'R', 'F', 'X', 'I', 'B', 'I', 'C', 'J', 'U', 'J', 'R', 'S', 'M', 'K', 'K', 'D', 'Q', 'K', 'S', 'T', 'J', 'L', 'I', 'R', 'M', 'C', 'Q', 'W', 'L', 'L', 'L', 'W', 'C', 'B', 'A', 'B', 'X', 'A', 'U', 'P', 'S', 'K', 'O', 'B', 'V', 'U', 'H', 'F', 'O', 'X', 'D', 'R', 'D', 'N', 'D', 'F', 'L', 'N', 'Q', 'M', 'N', 'C', 'B', 'A', 'E', 'K', 'T', 'L', 'D', 'Q', 'L', 'I', 'F', 'D', 'E', 'U', 'J', 'X', 'M', 'I', 'O', 'Y', 'E', 'C', 'Q', 'F', 'O', 'U', 'U', 'O', 'I', 'D', 'I', 'A', 'U', 'O', 'L', 'U', 'H', 'K', 'O', 'D', 'B', 'U', 'A', 'L', 'W', 'Q', 'U', 'V', 'W', 'I', 'A', 'X', 'N', 'H', 'N', 'D', 'Q', 'K', 'K', 'Q', 'L', 'M', 'S', 'V', 'R', 'R', 'W', 'F', 'C', 'J', 'L', 'K', 'O', 'E', 'H', 'H', 'J', 'J', 'W', 'Q', 'A', 'O', 'T', 'D', 'N', 'Y', 'C', 'M', 'M', 'E', 'U', 'I', 'M', 'R', 'K', 'H', 'V', 'O', 'A', 'V', 'T', 'O', 'G', 'P', 'N', 'L', 'A', 'U', 'M', 'Q', 'G', 'K', 'E', 'C', 'H', 'U', 'Y', 'C', 'J', 'J', 'J', 'I', 'L', 'Q', 'X', 'X', 'I', 'R', 'N', 'M', 'L', 'F', 'P', 'E', 'J', 'M', 'G', 'E', 'I', 'P', 'U', 'N', 'Y', 'M', 'T', 'A', 'E', 'G', 'Y', 'T', 'A', 'V', 'L', 'L', 'A', 'O', 'V', 'S', 'O', 'W', 'A', 'V', 'P', 'D', 'F', 'O', 'R', 'X', 'P', 'F', 'J', 'S', 'A', 'Q', 'L', 'H', 'H', 'N', 'L', 'K', 'Y', 'E', 'E', 'C', 'A', 'F', 'F', 'I', 'Y', 'W', 'R', 'D', 'J', 'J', 'A', 'Q', 'H', 'D', 'O', 'E', 'C', 'X', 'L', 'X', 'P', 'D', 'W', 'T', 'F', 'N', 'P', 'V', 'I', 'J', 'R', 'C', 'B', 'M', 'B', 'P', 'R', 'D', 'R', 'O', 'L', 'B', 'H', 'J', 'B', 'H', 'G', 'N', 'P', 'U', 'L', 'N', 'L', 'K', 'K', 'F', 'I', 'E', 'B', 'J', 'J', 'A', 'I', 'N', 'H', 'C', 'T', 'J', 'W', 'S', 'J', 'D', 'Y', 'M', 'R', 'P', 'T', 'D', 'N', 'U', 'A', 'F', 'W', 'L', 'B', 'I', 'C', 'O', 'T', 'I', 'W', 'R', 'A', 'E', 'W', 'B', 'R', 'B', 'W', 'I', 'S', 'X', 'R', 'I', 'P', 'P', 'M', 'A', 'J', 'C', 'D', 'S', 'R', 'J', 'E', 'W', 'V', 'D', 'M', 'F', 'U', 'M', 'D', 'G', 'I', 'M', 'F', 'Y', 'I', 'G', 'V', 'L', 'D', 'Y', 'L', 'E', 'J', 'H', 'C', 'V', 'Q', 'H', 'G', 'W', 'S', 'R', 'W', 'S', 'V', 'G', 'Q', 'F', 'Q', 'O', 'D', 'B', 'G', 'E', 'C', 'F', 'X', 'X', 'P', 'V', 'R', 'X', 'K', 'N', 'C', 'T', 'Q', 'B', 'R', 'S', 'J', 'K', 'A', 'O', 'X', 'Q', 'I', 'I', 'F', 'V', 'A', 'E', 'D', 'L', 'H', 'D', 'Y', 'T', 'P', 'G', 'R', 'D', 'I', 'I', 'W', 'D', 'Q', 'Q', 'Y', 'P', 'P', 'I', 'E', 'R', 'B', 'S', 'P', 'G', 'R', 'I', 'Y', 'U', 'X', 'P', 'L', 'I', 'E', 'E', 'S', 'B', 'B', 'T', 'K', 'B', 'C', 'A', 'S', 'E', 'I', 'O', 'S', 'A', 'B', 'X', 'M', 'P', 'W', 'S', 'J', 'A', 'S', 'T', 'L', 'M', 'L', 'A', 'I', 'T', 'C', 'S', 'D', 'L', 'B', 'V', 'B', 'H', 'C', 'E', 'I', 'V', 'Y', 'V', 'E', 'R', 'Y', 'L', 'D', 'N', 'M', 'E', 'T', 'Y', 'J', 'T', 'O', 'A', 'F', 'X', 'W', 'D', 'B', 'N', 'S', 'M', 'C', 'I', 'U', 'V', 'N', 'C', 'L', 'B', 'Y', 'K', 'X', 'R', 'M', 'P', 'T', 'V', 'B', 'H', 'V', 'G', 'Q', 'H', 'G', 'G', 'D', 'A', 'X', 'L', 'S', 'C', 'W', 'N', 'A', 'D', 'J', 'W', 'I', 'M', 'H', 'C', 'C', 'K', 'U', 'A', 'B', 'F', 'V', 'B', 'A', 'W', 'S', 'N', 'A', 'R', 'P', 'T', 'K', 'W', 'R', 'S', 'P', 'O', 'U', 'E', 'E', 'Q', 'H', 'F', 'L', 'D', 'O', 'Q', 'U', 'I', 'V', 'F', 'Y', 'J', 'S', 'I', 'F', 'A', 'J', 'R', 'F', 'I', 'H', 'P', 'B', 'W', 'H', 'V', 'V', 'P', 'J', 'M', 'T', 'Y', 'H', 'N', 'D', 'L', 'H', 'N', 'J', 'E', 'K', 'S', 'H', 'R', 'V', 'E', 'M', 'S', 'S', 'O', 'I', 'D', 'V', 'G', 'M', 'B', 'L', 'B', 'K', 'C', 'F', 'C', 'A', 'E', 'R', 'F', 'A', 'L', 'T', 'V', 'J', 'B', 'B', 'L', 'C', 'J', 'T', 'K', 'S', 'N', 'D', 'W', 'E', 'L', 'G', 'S', 'S', 'A', 'S', 'G', 'S', 'R', 'A', 'M', 'G', 'Q', 'Y', 'M', 'X', 'W', 'J', 'C', 'P', 'D', 'L', 'J', 'B', 'J', 'T', 'X', 'F', 'F', 'F', 'M', 'H', 'O', 'N', 'M', 'M', 'K', 'D', 'C', 'K', 'F', 'I', 'V', 'F', 'I', 'K', 'Y', 'Y', 'Q', 'T', 'H', 'Y', 'R', 'K', 'E', 'Y', 'V', 'J', 'D', 'N', 'V', 'V', 'X', 'B', 'Q', 'F', 'L', 'K', 'G', 'P', 'O', 'E', 'S', 'C', 'J', 'T', 'K', 'G', 'L', 'B', 'J', 'L', 'Q', 'L', 'N', 'D', 'P', 'X', 'S', 'S', 'J', 'Q', 'P', 'W', 'G', 'T', 'B', 'H', 'N', 'N', 'Q', 'W', 'U', 'A', 'C', 'P', 'I', 'B', 'S', 'L', 'A', 'T', 'K', 'N', 'P', 'H', 'G', 'F', 'G', 'M', 'R', 'S', 'R', 'L', 'I', 'P', 'I', 'P', 'B', 'B', 'J', 'R', 'V', 'U', 'M', 'I', 'Q', 'H', 'J', 'U', 'N', 'H', 'B', 'F', 'K', 'L', 'R', 'R', 'F', 'K', 'L', 'Q', 'G', 'I', 'D', 'Y', 'U', 'U', 'B', 'S', 'B', 'X', 'J', 'O', 'Q', 'T', 'T', 'M', 'K', 'E', 'X', 'Y', 'B', 'S', 'E', 'T', 'X', 'B', 'S', 'M', 'O', 'Q', 'H', 'J', 'C', 'N', 'K', 'E', 'T', 'B', 'L', 'A', 'Q', 'W', 'Y', 'T', 'Q', 'B', 'G', 'C', 'E', 'T', 'A', 'B', 'Q', 'W', 'Y', 'K', 'M', 'I', 'Q', 'T', 'S', 'I', 'Q', 'T', 'B', 'A', 'J', 'U', 'E', 'W', 'O', 'C', 'Y', 'U', 'G', 'C', 'H', 'I', 'E', 'B', 'O', 'F', 'T', 'F', 'V', 'W', 'I', 'X', 'B', 'B', 'T', 'L', 'N', 'P', 'E', 'I', 'W', 'V', 'I', 'L', 'R', 'X', 'Q', 'V', 'R', 'G', 'Y', 'P', 'X', 'L', 'S', 'O', 'D', 'U', 'X', 'A', 'Y', 'I', 'M', 'B', 'A', 'T', 'Y', 'K', 'Q', 'G', 'B', 'O', 'M', 'Y', 'U', 'Y', 'O', 'J', 'M', 'H', 'I', 'J', 'N', 'K', 'U', 'Q', 'B', 'I', 'K', 'H', 'S', 'I', 'C', 'F', 'A', 'Q', 'V', 'S', 'H', 'T', 'H', 'I', 'K', 'Y', 'E', 'K', 'F', 'A', 'N', 'R', 'B', 'H', 'L', 'N', 'D', 'A', 'P', 'Y', 'Q', 'G', 'I', 'C', 'W', 'A', 'X', 'D', 'H', 'X', 'V', 'V', 'E', 'P', 'G', 'F', 'P', 'R', 'Y', 'F', 'A', 'B', 'K', 'C', 'A', 'I', 'C', 'H', 'R', 'K', 'Q', 'R', 'E', 'C', 'X', 'I', 'V', 'G', 'X', 'F', 'M', 'L', 'M', 'L', 'H', 'W', 'A', 'V', 'E', 'L', 'F', 'Q', 'R', 'W', 'W', 'D', 'M', 'P', 'B', 'I', 'F', 'M', 'G', 'B', 'K', 'L', 'G', 'Y', 'M', 'G', 'U', 'A', 'B', 'W', 'V', 'D', 'F', 'U', 'Q', 'R', 'P', 'B', 'W', 'P', 'K', 'H', 'L', 'V', 'X', 'R', 'R', 'S', 'D', 'T', 'J', 'B', 'H', 'Q', 'U', 'B', 'K', 'C', 'I', 'B', 'P', 'E', 'D', 'X', 'K', 'D', 'T', 'S', 'E', 'Q', 'L', 'D', 'U', 'I', 'T', 'L', 'A', 'M', 'T', 'V', 'D', 'U', 'V', 'U', 'V', 'F', 'K', 'K', 'J', 'I', 'C', 'V', 'Y', 'Y', 'A', 'T', 'Q', 'B', 'L', 'P', 'O', 'A', 'B', 'N', 'T', 'B', 'X', 'N', 'W', 'W', 'J', 'O', 'E', 'S', 'A', 'M', 'L', 'Y', 'G', 'F', 'O', 'O', 'J', 'I', 'Q', 'L', 'M', 'T', 'N', 'D', 'V', 'F', 'Y', 'K', 'B', 'P', 'U', 'G', 'C', 'S', 'K', 'S', 'N', 'Y', 'C', 'X', 'U', 'C', 'F', 'S', 'I', 'H', 'R', 'J', 'W', 'V', 'V', 'D', 'U', 'C', 'G', 'M', 'O', 'J', 'W', 'I', 'D', 'J', 'I', 'I', 'V', 'W', 'G', 'L', 'J', 'U', 'R', 'F', 'B', 'Y', 'E', 'N', 'R', 'G', 'H', 'T', 'V', 'I', 'Y', 'B', 'J', 'W', 'G', 'X', 'U', 'B', 'C', 'O', 'I', 'Q', 'K', 'L', 'C', 'L', 'O', 'Q', 'P', 'H', 'K', 'W', 'K', 'L', 'L', 'O', 'D', 'F', 'L', 'A', 'C', 'J', 'B', 'Q', 'P', 'W', 'B', 'M', 'E', 'K', 'D', 'T', 'I', 'C', 'Q', 'E', 'J', 'T', 'P', 'X', 'H', 'E', 'M', 'G', 'E', 'A', 'A', 'O', 'W', 'E', 'M', 'D', 'K', 'F', 'J', 'O', 'U', 'C', 'J', 'C', 'V', 'M', 'M', 'F', 'V', 'W', 'T', 'L', 'W', 'Y', 'M', 'J', 'D', 'L', 'A', 'S', 'C', 'B', 'H', 'K', 'S', 'M', 'Q', 'L', 'L', 'R', 'J', 'N', 'T', 'M', 'Y', 'A', 'A', 'Q', 'R', 'L', 'A', 'U', 'H', 'K', 'R', 'B', 'E', 'E', 'V', 'B', 'S', 'I', 'N', 'M', 'Y', 'A', 'X', 'A', 'J', 'R', 'C', 'F', 'T', 'M', 'R', 'C', 'Q', 'H', 'E', 'L', 'J', 'N', 'Q', 'S', 'A', 'N', 'A', 'O', 'H', 'E', 'K', 'F', 'L', 'W', 'F', 'V', 'E', 'U', 'I', 'U', 'A', 'X', 'K', 'G', 'O', 'U', 'W', 'Q', 'F', 'T', 'C', 'P', 'S', 'F', 'M', 'W', 'T', 'C', 'S', 'E', 'E', 'C', 'S', 'G', 'H', 'G', 'I', 'G', 'W', 'A', 'H', 'L', 'J', 'F', 'J', 'I', 'F', 'O', 'J', 'M', 'L', 'A', 'R', 'U', 'N', 'D', 'U', 'R', 'J', 'R', 'Y', 'T', 'S', 'O', 'T', 'U', 'G', 'C', 'F', 'B', 'R', 'M', 'J', 'K', 'Q', 'H', 'I', 'W', 'E', 'N', 'S', 'B', 'L', 'I', 'Y', 'P', 'C', 'F', 'S', 'H', 'K', 'J', 'Q', 'Y', 'L', 'Q', 'F', 'P', 'X', 'D', 'W', 'R', 'J', 'L', 'L', 'K', 'M', 'J', 'H', 'Y', 'M', 'Q', 'J', 'D', 'Y', 'S', 'K', 'H', 'K', 'O', 'Q', 'B', 'E', 'I', 'N', 'N', 'B', 'V', 'I', 'U', 'V', 'D', 'A', 'K', 'Y', 'P', 'D', 'F', 'N', 'C', 'I', 'V', 'X', 'J', 'V', 'H', 'K', 'M', 'D', 'S', 'A', 'G', 'X', 'O', 'I', 'V', 'L', 'X', 'F', 'P', 'E', 'E', 'C', 'R', 'N', 'V', 'Q', 'U', 'V', 'D', 'J', 'E', 'F', 'G', 'I', 'F', 'I', 'N', 'Y', 'L', 'F', 'Q', 'L', 'Q', 'K', 'E', 'U', 'A', 'B', 'J', 'Y', 'Q', 'U', 'L', 'T', 'N', 'E', 'F', 'D', 'N', 'E', 'H', 'G', 'L', 'U', 'Y', 'M', 'I', 'I', 'H', 'S', 'M', 'O', 'K', 'M', 'T', 'L', 'L', 'N', 'A', 'L', 'X', 'N', 'J', 'C', 'Q', 'O', 'D', 'I', 'D', 'L', 'N', 'T', 'X', 'D', 'B', 'X', 'T', 'P', 'B', 'W', 'F', 'T', 'C', 'L', 'R', 'I', 'C', 'F', 'I', 'G', 'B', 'E', 'P', 'Y', 'G', 'U', 'H', 'J', 'D', 'V', 'A', 'I', 'V', 'S', 'X', 'Q', 'J', 'K', 'M', 'A', 'E', 'H', 'X', 'B', 'T', 'K', 'P', 'R', 'I', 'E', 'H', 'B', 'C', 'V', 'P', 'E', 'A', 'M', 'U', 'X', 'J', 'X', 'A', 'L', 'F', 'I', 'Q', 'A', 'L', 'P', 'P', 'N', 'N', 'J', 'J', 'Y', 'V', 'K', 'V', 'B', 'O', 'B', 'X', 'U', 'G', 'D', 'M', 'E', 'G', 'R', 'G', 'C', 'X', 'L', 'X', 'V', 'T', 'U', 'T', 'J', 'R', 'J', 'L', 'S', 'H', 'P', 'I', 'J', 'D', 'G', 'P', 'N', 'A', 'D', 'I', 'M', 'U', 'Y', 'S', 'L', 'Y', 'V', 'C', 'O', 'T', 'T', 'U', 'A', 'T', 'F', 'P', 'N', 'L', 'O', 'N', 'E', 'C', 'Q', 'M', 'D', 'C', 'X', 'W', 'T', 'O', 'W', 'I', 'E', 'E', 'P', 'X', 'B', 'O', 'H', 'R', 'M', 'T', 'G', 'E', 'P', 'P', 'U', 'B', 'F', 'J', 'I', 'R', 'B', 'K', 'Q', 'P', 'A', 'S', 'B', 'F', 'H', 'M', 'C', 'F', 'H', 'R', 'Q', 'V', 'A', 'I', 'M', 'N', 'Q', 'B', 'C', 'K', 'W', 'X', 'W', 'L', 'E', 'L', 'F', 'G', 'H', 'Q', 'D', 'C', 'J', 'T', 'O', 'I', 'B', 'F', 'R', 'S', 'D', 'N', 'M', 'L', 'T', 'M', 'L', 'E', 'L', 'I', 'D', 'O', 'J', 'K', 'G', 'E', 'A', 'M', 'G', 'M', 'T', 'H', 'Q', 'L', 'Y', 'L', 'U', 'M', 'J', 'U', 'L', 'H', 'P', 'I', 'R', 'X', 'I', 'T', 'V', 'T', 'M', 'N', 'D', 'L', 'F', 'P', 'N', 'D', 'V', 'W', 'D', 'C', 'R', 'T', 'F', 'K', 'Y', 'C', 'I', 'H', 'P', 'L', 'Q', 'D', 'C', 'J', 'K', 'Q', 'D', 'A', 'U', 'A', 'W', 'A', 'R', 'U', 'I', 'L', 'G', 'M', 'C', 'E', 'G', 'O', 'Y', 'U', 'Y', 'F', 'S', 'E', 'S', 'Q', 'X', 'L', 'E', 'R', 'J', 'T', 'W', 'J', 'G', 'X', 'M', 'M', 'V', 'O', 'O', 'O', 'D', 'A', 'S', 'A', 'K', 'M', 'L', 'W', 'S', 'R', 'R', 'X', 'H', 'L', 'K', 'N', 'A', 'C', 'A', 'W', 'D', 'W', 'F', 'I', 'G', 'B', 'M', 'P', 'N', 'U', 'P', 'P', 'P', 'O', 'C', 'X', 'A', 'C', 'U', 'D', 'Q', 'B', 'G', 'J', 'U', 'B', 'C', 'U', 'B', 'D', 'K', 'U', 'K', 'G', 'F', 'N', 'F', 'O', 'X', 'W', 'P', 'L', 'A', 'T', 'P', 'C', 'H', 'P', 'L', 'B', 'I', 'T', 'J', 'U', 'U', 'V', 'H', 'N', 'M', 'D', 'E', 'U', 'A', 'P', 'A', 'L', 'S', 'O', 'G', 'O', 'J', 'Y', 'R', 'L', 'M', 'P', 'D', 'P', 'H', 'J', 'L', 'U', 'G', 'S', 'U', 'R', 'K', 'R', 'R', 'U', 'O', 'V', 'O', 'E', 'B', 'F', 'D', 'X', 'O', 'N', 'G', 'W', 'T', 'T', 'M', 'Q', 'D', 'V', 'U', 'Q', 'A', 'W', 'D', 'E', 'Y', 'W', 'J', 'B', 'U', 'I', 'N', 'T', 'S', 'D', 'P', 'K', 'R', 'P', 'V', 'O', 'C', 'R', 'A', 'B', 'L', 'W', 'Y', 'H', 'B', 'O', 'A', 'E', 'H', 'E', 'D', 'V', 'E', 'C', 'Y', 'I', 'K', 'M', 'B', 'U', 'E', 'C', 'W', 'W', 'N', 'S', 'B', 'B', 'C', 'B', 'Q', 'Y', 'D', 'Q', 'D', 'S', 'S', 'I', 'R', 'O', 'V', 'B', 'B', 'P', 'T', 'D', 'W', 'H', 'U', 'D', 'M', 'W', 'P', 'S', 'C', 'Y', 'T', 'W', 'A', 'F', 'W', 'O', 'D', 'E', 'Q', 'V', 'C', 'F', 'C', 'Q', 'N', 'L', 'G', 'Q', 'O', 'B', 'B', 'O', 'B', 'G', 'T', 'K', 'F', 'N', 'C', 'D', 'G', 'S', 'S', 'L', 'S', 'W', 'M', 'W', 'L', 'A', 'O', 'N', 'O', 'D', 'K', 'I', 'P', 'E', 'I', 'L', 'K', 'H', 'D', 'K', 'G', 'D', 'X', 'L', 'I', 'R', 'N', 'M', 'H', 'E', 'Q', 'V', 'E', 'F', 'F', 'U', 'P', 'S', 'L', 'K', 'T', 'Q', 'C', 'L', 'N', 'U', 'G', 'Y', 'K', 'F', 'O', 'Y', 'X', 'R', 'O', 'O', 'I', 'Y', 'I', 'S', 'R', 'N', 'D', 'H', 'X', 'F', 'J', 'C', 'G', 'P', 'H', 'W', 'E', 'C', 'U', 'X', 'I', 'O', 'I', 'I', 'T', 'O', 'D', 'S', 'W', 'J', 'K', 'E', 'V', 'M', 'T', 'X', 'M', 'G', 'K', 'A', 'A', 'A', 'H', 'A', 'L', 'S', 'J', 'W', 'S', 'A', 'O', 'G', 'O', 'L', 'A', 'K', 'A', 'C', 'Y', 'W', 'P', 'K', 'T', 'K', 'F', 'L', 'E', 'Q', 'H', 'U', 'X', 'O', 'S', 'P', 'H', 'H', 'L', 'P', 'Q', 'P', 'Y', 'N', 'B', 'V', 'R', 'D', 'O', 'V', 'A', 'A', 'V', 'V', 'O', 'V', 'N', 'D', 'I', 'K', 'U', 'Q', 'I', 'E', 'U', 'Q', 'I', 'X', 'F', 'H', 'A', 'L', 'I', 'W', 'H', 'M', 'H', 'V', 'I', 'E', 'G', 'K', 'J', 'Q', 'K', 'O', 'R', 'E', 'I', 'F', 'D', 'O', 'B', 'P', 'M', 'E', 'N', 'N', 'L', 'D', 'W', 'H', 'N', 'L', 'K', 'P', 'I', 'I', 'O', 'Y', 'I', 'C', 'J', 'L', 'M', 'G', 'H', 'W', 'M', 'I', 'V', 'T', 'J', 'C', 'Q', 'Y', 'L', 'O', 'H', 'Q', 'H', 'W', 'P', 'B', 'G', 'W', 'J', 'U', 'H', 'P', 'M', 'A', 'X', 'C', 'P', 'A', 'H', 'I', 'R', 'U', 'Q', 'H', 'G', 'Y', 'P', 'V', 'Y', 'T', 'W', 'D', 'V', 'J', 'E', 'F', 'S', 'H', 'Y', 'D', 'B', 'Y', 'U', 'A', 'I', 'S', 'W', 'A', 'N', 'F', 'A', 'K', 'K', 'A', 'C', 'V', 'E', 'X', 'E', 'L', 'U', 'C', 'Y', 'M', 'Q', 'F', 'I', 'U', 'L', 'U', 'S', 'I', 'K', 'D', 'P', 'G', 'J', 'N', 'X', 'G', 'R', 'N', 'Q', 'J', 'F', 'H', 'N', 'O', 'Q', 'G', 'L', 'R', 'I', 'C', 'P', 'M', 'Q', 'W', 'R', 'T', 'D', 'V', 'L', 'M', 'N', 'U', 'A', 'C', 'Y', 'J', 'J', 'M', 'N', 'W', 'F', 'J', 'X', 'A', 'M', 'T', 'E', 'U', 'D', 'I', 'J', 'F', 'G', 'Q', 'C', 'Q', 'T', 'C', 'A', 'J', 'M', 'M', 'V', 'D', 'A', 'K', 'A', 'M', 'X', 'A', 'T', 'F', 'W', 'M', 'Q', 'T', 'I', 'F', 'F', 'B', 'C', 'U', 'Y', 'A', 'O', 'P', 'A', 'U', 'G', 'H', 'D', 'F', 'K', 'I', 'D', 'P', 'D', 'W', 'N', 'J', 'N', 'T', 'R', 'W', 'T', 'V', 'E', 'F', 'E', 'J', 'Q', 'N', 'Y', 'U', 'E', 'X', 'F', 'E', 'A', 'J', 'V', 'G', 'B', 'H', 'V', 'U', 'P', 'N', 'W', 'S', 'E', 'S', 'R', 'E', 'D', 'C', 'F', 'D', 'C', 'C', 'B', 'B', 'W', 'R', 'B', 'Y', 'Q', 'W', 'G', 'Y', 'U', 'L', 'D', 'U', 'W', 'C', 'A', 'L', 'S', 'S', 'I', 'L', 'J', 'F', 'O', 'S', 'W', 'U', 'R', 'H', 'J', 'P', 'C', 'U', 'S', 'J', 'K', 'R', 'Y', 'O', 'E', 'E', 'V', 'H', 'B', 'G', 'L', 'R', 'T', 'T', 'P', 'V', 'T', 'A', 'I', 'I', 'H', 'J', 'H', 'R', 'H', 'V', 'A', 'G', 'Y', 'Y', 'T', 'Q', 'J', 'P', 'D', 'B', 'N', 'S', 'D', 'F', 'X', 'E', 'C', 'C', 'F', 'C', 'E', 'O', 'H', 'F', 'S', 'E', 'T', 'H', 'P', 'D', 'M', 'J', 'M', 'M', 'J', 'H', 'B', 'U', 'A', 'T', 'J', 'K', 'K', 'N', 'H', 'S', 'C', 'B', 'U', 'S', 'X', 'V', 'I', 'M', 'J', 'D', 'N', 'X', 'I', 'C', 'I', 'T', 'S', 'E', 'O', 'V', 'E', 'D', 'R', 'R', 'D', 'Y', 'K', 'C', 'W', 'P', 'E', 'W', 'W', 'O', 'D', 'O', 'H', 'P', 'L', 'W', 'E', 'E', 'N', 'M', 'H', 'Q', 'A', 'C', 'L', 'Q', 'E', 'A', 'N', 'T', 'Y', 'W', 'V', 'P', 'C', 'L', 'L', 'F', 'F', 'M', 'Y', 'J', 'V', 'G', 'N', 'Y', 'V', 'K', 'V', 'S', 'W', 'X', 'V', 'T', 'R', 'B', 'K', 'N', 'B', 'D', 'C', 'H', 'P', 'S', 'A', 'K', 'L', 'Q', 'O', 'N', 'T', 'M', 'S', 'T', 'W', 'L', 'H', 'T', 'Q', 'N', 'L', 'K', 'V', 'V', 'Q', 'H', 'T', 'J', 'U', 'H', 'Q', 'D', 'L', 'Y', 'N', 'N', 'O', 'G', 'C', 'S', 'S', 'A', 'P', 'N', 'L', 'D', 'W', 'H', 'F', 'V', 'E', 'U', 'X', 'X', 'T', 'I', 'I', 'E', 'U', 'C', 'V', 'K', 'C', 'I', 'O', 'O', 'O', 'I', 'N', 'D', 'H', 'H', 'H', 'U', 'V', 'M', 'R', 'D', 'S', 'J', 'K', 'V', 'D', 'F', 'I', 'X', 'G', 'K', 'P', 'A', 'N', 'T', 'C', 'X', 'P', 'J', 'H', 'E', 'N', 'D', 'U', 'G', 'Q', 'C', 'Q', 'T', 'E', 'D', 'M', 'D', 'V', 'Q', 'B', 'O', 'C', 'Q', 'V', 'N', 'Y', 'U', 'Q', 'Y', 'V', 'V', 'I', 'H', 'B', 'L', 'C', 'S', 'M', 'G', 'G', 'I', 'O', 'B', 'U', 'O', 'O', 'D', 'E', 'Y', 'W', 'W', 'R', 'Y', 'Q', 'R', 'J', 'G', 'L', 'Y', 'Q', 'D', 'E', 'Q', 'U', 'S', 'H', 'E', 'F', 'J', 'O', 'B', 'Q', 'P', 'Y', 'F', 'F', 'N', 'S', 'T', 'Y', 'K', 'P', 'A', 'P', 'X', 'B', 'C', 'A', 'T', 'W', 'K', 'F', 'X', 'A', 'W', 'U', 'D', 'Y', 'O', 'I', 'K', 'R', 'L', 'Y', 'L', 'F', 'K', 'X', 'Y', 'T', 'J', 'N', 'N', 'P', 'G', 'B', 'L', 'S', 'N', 'J', 'X', 'Q', 'S', 'L', 'U', 'U', 'I', 'G', 'T', 'V', 'B', 'X', 'A', 'X', 'N', 'F', 'W', 'S', 'V', 'W', 'N', 'J', 'W', 'I', 'A', 'K', 'J', 'P', 'E', 'M', 'C', 'N', 'E', 'T', 'N', 'S', 'U', 'P', 'P', 'V', 'Y', 'L', 'C', 'A', 'U', 'E', 'B', 'D', 'O', 'Y', 'K', 'R', 'O', 'F', 'W', 'J', 'R', 'I', 'B', 'K', 'G', 'T', 'C', 'P', 'L', 'Y', 'P', 'H', 'U', 'G', 'J', 'J', 'A', 'O', 'K', 'W', 'Q', 'Q', 'R', 'D', 'J', 'D', 'J', 'O', 'F', 'J', 'I', 'M', 'S', 'L', 'T', 'X', 'B', 'I', 'B', 'C', 'F', 'C', 'G', 'P', 'J', 'X', 'T', 'K', 'R', 'V', 'D', 'J', 'C', 'T', 'F', 'E', 'I', 'D', 'X', 'D', 'C', 'P', 'O', 'W', 'P', 'L', 'A', 'F', 'P', 'L', 'A', 'T', 'R', 'J', 'T', 'B', 'L', 'Q', 'G', 'I', 'F', 'U', 'D', 'P', 'I', 'N', 'R', 'I', 'G', 'E', 'Y', 'J', 'B', 'C', 'I', 'T', 'L', 'G', 'H', 'A', 'M', 'R', 'S', 'P', 'U', 'X', 'B', 'Y', 'G', 'O', 'L', 'C', 'U', 'I', 'A', 'L', 'O', 'R', 'G', 'J', 'R', 'U', 'G', 'Q', 'C', 'C', 'G', 'V', 'V', 'F', 'V', 'U', 'W', 'K', 'Y', 'Y', 'N', 'U', 'A', 'R', 'Y', 'W', 'O', 'C', 'T', 'I', 'I', 'E', 'U', 'W', 'F', 'K', 'B', 'G', 'E', 'C', 'D', 'O', 'O', 'B', 'K', 'J', 'K', 'V', 'P', 'B', 'L', 'T', 'M', 'D', 'T', 'Y', 'A', 'U', 'Q', 'Q', 'P', 'I', 'C', 'H', 'X', 'U', 'A', 'V', 'Q', 'B', 'X', 'M', 'K', 'X', 'A', 'C', 'L', 'V', 'Q', 'W', 'L', 'W', 'Q', 'M', 'C', 'C', 'O', 'C', 'C', 'B', 'S', 'X', 'I', 'M', 'T', 'G', 'B', 'U', 'J', 'Q', 'Y', 'N', 'O', 'X', 'T', 'W', 'I', 'P', 'R', 'W', 'M', 'O', 'T', 'K', 'B', 'T', 'H', 'C', 'H', 'E', 'R', 'J', 'K', 'B', 'Y', 'S', 'V', 'G', 'E', 'O', 'S', 'N', 'A', 'P', 'J', 'X', 'U', 'D', 'I', 'M', 'Y', 'S', 'B', 'I', 'L', 'E', 'P', 'U', 'E', 'F', 'F', 'V', 'P', 'I', 'L', 'U', 'Y', 'T', 'Y', 'M', 'C', 'D', 'P', 'Y', 'A', 'I', 'L', 'Y', 'W', 'I', 'C', 'A', 'A', 'F', 'P', 'S', 'X', 'A', 'G', 'E', 'X', 'E', 'D', 'D', 'F', 'S', 'E', 'W', 'U', 'E', 'V', 'T', 'S', 'M', 'O', 'I', 'L', 'S', 'J', 'T', 'I', 'L', 'M', 'G', 'P', 'T', 'E', 'X', 'I', 'T', 'A', 'H', 'X', 'G', 'B', 'S', 'O', 'C', 'T', 'F', 'S', 'J', 'V', 'R', 'U', 'I', 'V', 'F', 'C', 'L', 'J', 'V', 'F', 'C', 'S', 'H', 'H', 'J', 'J', 'N', 'C', 'D', 'H', 'T', 'Q', 'A', 'K', 'I', 'V', 'D', 'I', 'B', 'Q', 'D', 'C', 'Y', 'U', 'D', 'D', 'F', 'B', 'H', 'H', 'H', 'E', 'N', 'J', 'M', 'L', 'T', 'L', 'U', 'O', 'S', 'G', 'I', 'O', 'E', 'W', 'N', 'H', 'B', 'I', 'Y', 'T', 'L', 'E', 'U', 'P', 'L', 'X', 'C', 'D', 'D', 'Y', 'M', 'N', 'M', 'C', 'M', 'O', 'K', 'E', 'P', 'F', 'J', 'S', 'Q', 'J', 'U', 'M', 'F', 'J', 'P', 'T', 'A', 'P', 'S', 'U', 'K', 'E', 'C', 'O', 'C', 'H', 'D', 'K', 'D', 'Y', 'U', 'X', 'P', 'W', 'U', 'B', 'I', 'M', 'G', 'H', 'M', 'H', 'S', 'G', 'N', 'P', 'H', 'J', 'E', 'K', 'C', 'S', 'B', 'G', 'D', 'E', 'M', 'L', 'N', 'N', 'E', 'G', 'N', 'B', 'C', 'I', 'C', 'L', 'L', 'K', 'J', 'T', 'D', 'U', 'X', 'W', 'D', 'W', 'I', 'P', 'D', 'R', 'X', 'S', 'B', 'H', 'M', 'Q', 'V', 'V', 'O', 'W', 'H', 'R', 'D', 'L', 'F', 'M', 'L', 'A', 'X', 'J', 'F', 'I', 'D', 'E', 'C', 'W', 'E', 'W', 'V', 'G', 'D', 'J', 'W', 'Q', 'B', 'E', 'T', 'T', 'B', 'T', 'K', 'K', 'B', 'O', 'J', 'B', 'B', 'E', 'E', 'H', 'M', 'Q', 'D', 'Y', 'E', 'V', 'A', 'N', 'O', 'B', 'D', 'B', 'H', 'L', 'J', 'L', 'T', 'V', 'P', 'U', 'F', 'M', 'P', 'M', 'N', 'H', 'A', 'Q', 'T', 'U', 'J', 'I', 'W', 'K', 'L', 'J', 'H', 'I', 'Q', 'C', 'P', 'X', 'G', 'O', 'K', 'E', 'U', 'A', 'V', 'R', 'D', 'A', 'S', 'C', 'X', 'H', 'S', 'I', 'J', 'J', 'S', 'E', 'C', 'N', 'G', 'C', 'I', 'K', 'L', 'U', 'X', 'S', 'F', 'J', 'U', 'E', 'B', 'W', 'E', 'E', 'N', 'Q', 'O', 'Q', 'W', 'I', 'P', 'D', 'Q', 'I', 'I', 'J', 'A', 'F', 'H', 'S', 'M', 'C', 'Q', 'E', 'R', 'R', 'J', 'V', 'D', 'B', 'O', 'E', 'N', 'W', 'A', 'X', 'K', 'C', 'N', 'Y', 'O', 'X', 'N', 'C', 'C', 'V', 'A', 'X', 'L', 'I', 'K', 'E', 'R', 'P', 'B', 'I', 'P', 'K', 'W', 'R', 'G', 'B', 'N', 'C', 'E', 'C', 'O', 'C', 'Q', 'H', 'B', 'P', 'Q', 'S', 'Y', 'K', 'O', 'M', 'S', 'T', 'X', 'C', 'X', 'F', 'J', 'B', 'D', 'A', 'K', 'H', 'L', 'R', 'J', 'T', 'X', 'E', 'L', 'X', 'L', 'P', 'A', 'Y', 'K', 'X', 'T', 'Q', 'O', 'D', 'D', 'H', 'I', 'D', 'R', 'Q', 'R', 'M', 'H', 'M', 'A', 'N', 'N', 'N', 'E', 'A', 'Y', 'N', 'U', 'Q', 'T', 'H', 'W', 'K', 'M', 'D', 'J', 'G', 'X', 'F', 'B', 'E', 'F', 'J', 'K', 'Q', 'D', 'J', 'B', 'I', 'B', 'Y', 'J', 'C', 'Q', 'I', 'X', 'L', 'Y', 'W', 'S', 'B', 'J', 'Q', 'G', 'R', 'D', 'J', 'M', 'N', 'G', 'V', 'N', 'T', 'M', 'I', 'X', 'M', 'N', 'T', 'F', 'F', 'B', 'U', 'L', 'L', 'H', 'A', 'D', 'Q', 'K', 'L', 'N', 'O', 'O', 'R', 'L', 'D', 'P', 'M', 'Y', 'H', 'R', 'E', 'E', 'X', 'K', 'U', 'U', 'K', 'X', 'F', 'Q', 'B', 'F', 'A', 'B', 'B', 'X', 'M', 'R', 'K', 'N', 'S', 'F', 'M', 'N', 'F', 'G', 'J', 'J', 'E', 'Q', 'H', 'D', 'F', 'C', 'C', 'P', 'X', 'S', 'T', 'N', 'G', 'J', 'T', 'E', 'I', 'R', 'Q', 'F', 'C', 'G', 'G', 'L', 'F', 'A', 'V', 'B', 'J', 'F', 'U', 'I', 'T', 'K', 'F', 'G', 'T', 'W', 'N', 'R', 'X', 'Y', 'L', 'I', 'D', 'J', 'S', 'N', 'X', 'D', 'Y', 'B', 'G', 'A', 'M', 'Y', 'G', 'X', 'D', 'N', 'P', 'G', 'F', 'P', 'U', 'M', 'L', 'C', 'J', 'E', 'C', 'O', 'L', 'K', 'U', 'J', 'G', 'P', 'B', 'M', 'C', 'W', 'J', 'E', 'Q', 'O', 'G', 'U', 'D', 'W', 'O', 'W', 'N', 'R', 'V', 'E', 'N', 'B', 'P', 'J', 'K', 'K', 'T', 'A', 'K', 'Q', 'E', 'L', 'I', 'U', 'A', 'B', 'C', 'G', 'N', 'P', 'R', 'K', 'T', 'C', 'E', 'V', 'J', 'B', 'C', 'K', 'D', 'W', 'V', 'R', 'G', 'C', 'G', 'V', 'R', 'P', 'P', 'V', 'B', 'H', 'R', 'K', 'Q', 'M', 'M', 'D', 'E', 'M', 'O', 'L', 'V', 'H', 'L', 'A', 'C', 'V', 'O', 'N', 'D', 'J', 'D', 'M', 'Q', 'C', 'C', 'D', 'O', 'K', 'J', 'L', 'Q', 'F', 'K', 'H', 'E', 'B', 'E', 'O', 'J', 'I', 'N', 'B', 'D', 'R', 'P', 'E', 'M', 'Q', 'L', 'T', 'N', 'J', 'B', 'P', 'E', 'O', 'I', 'S', 'B', 'V', 'E', 'G', 'U', 'C', 'G', 'V', 'A', 'G', 'F', 'A', 'L', 'E', 'X', 'P', 'G', 'I', 'N', 'Y', 'N', 'F', 'V', 'M', 'U', 'F', 'R', 'H', 'B', 'X', 'A', 'Q', 'T', 'H', 'N', 'N', 'O', 'L', 'H', 'V', 'V', 'W', 'G', 'B', 'K', 'N', 'D', 'A', 'V', 'W', 'V', 'C', 'Y', 'K', 'O', 'K', 'Y', 'R', 'K', 'U', 'V', 'T', 'B', 'A', 'N', 'H', 'N', 'C', 'H', 'D', 'B', 'B', 'C', 'C', 'V', 'J', 'E', 'B', 'E', 'C', 'J', 'F', 'H', 'Q', 'E', 'G', 'D', 'A', 'N', 'B', 'I', 'B', 'V', 'H', 'W', 'E', 'E', 'J', 'H', 'F', 'Q', 'J', 'K', 'H', 'T', 'G', 'B', 'W', 'E', 'D', 'N', 'P', 'P', 'S', 'N', 'Y', 'F', 'L', 'A', 'O', 'L', 'F', 'D', 'A', 'G', 'O', 'I', 'N', 'Y', 'I', 'A', 'C', 'V', 'A', 'H', 'N', 'L', 'J', 'X', 'P', 'X', 'S', 'L', 'O', 'G', 'L', 'N', 'R', 'X', 'J', 'X', 'G', 'D', 'J', 'M', 'G', 'Y', 'W', 'D', 'Q', 'X', 'I', 'O', 'I', 'G', 'D', 'L', 'O', 'X', 'V', 'M', 'D', 'I', 'A', 'H', 'U', 'G', 'F', 'W', 'H', 'M', 'M', 'T', 'I', 'J', 'U', 'K', 'B', 'U', 'N', 'T', 'I', 'J', 'T', 'I', 'I', 'F', 'O', 'O', 'X', 'W', 'C', 'P', 'U', 'F', 'F', 'M', 'V', 'C', 'H', 'M', 'B', 'K', 'S', 'I', 'U', 'P', 'Q', 'L', 'B', 'J', 'F', 'M', 'Y', 'I', 'X', 'L', 'P', 'F', 'M', 'M', 'Q', 'C', 'N', 'K', 'N', 'P', 'X', 'K', 'H', 'U', 'A', 'D', 'K', 'I', 'D', 'P', 'H', 'R', 'H', 'G', 'E', 'M', 'B', 'Y', 'J', 'K', 'J', 'X', 'H', 'Y', 'S', 'U', 'V', 'G', 'B', 'J', 'G', 'P', 'G', 'J', 'L', 'C', 'M', 'N', 'S', 'P', 'T', 'S', 'K', 'S', 'W', 'N', 'D', 'O', 'W', 'K', 'Y', 'U', 'O', 'T', 'X', 'G', 'X', 'I', 'G', 'U', 'M', 'M', 'Y', 'D', 'R', 'N', 'L', 'Q', 'X', 'B', 'D', 'A', 'F', 'U', 'Y', 'M', 'D', 'Q', 'R', 'S', 'G', 'C', 'P', 'H', 'N', 'U', 'O', 'U', 'U', 'W', 'N', 'F', 'P', 'L', 'W', 'U', 'N', 'N', 'P', 'T', 'V', 'F', 'W', 'H', 'W', 'D', 'C', 'I', 'C', 'K', 'X', 'T', 'D', 'V', 'G', 'X', 'G', 'L', 'T', 'I', 'T', 'N', 'G', 'P', 'B', 'P', 'I', 'X', 'L', 'I', 'U', 'U', 'O', 'J', 'O', 'P', 'F', 'L', 'Q', 'N', 'V', 'C', 'K', 'L', 'M', 'G', 'N', 'I', 'B', 'D', 'N', 'Y', 'E', 'Y', 'D', 'W', 'F', 'B', 'K', 'I', 'I', 'O', 'O', 'Q', 'C', 'U', 'P', 'J', 'N', 'V', 'F', 'W', 'I', 'K', 'K', 'G', 'K', 'S', 'Q', 'X', 'Q', 'L', 'G', 'K', 'K', 'Q', 'R', 'O', 'S', 'N', 'P', 'A', 'F', 'I', 'S', 'W', 'O', 'D', 'W', 'X', 'I', 'I', 'B', 'Q', 'B', 'I', 'S', 'B', 'F', 'D', 'Q', 'I', 'O', 'H', 'Q', 'M', 'K', 'K', 'F', 'K', 'C', 'U', 'S', 'R', 'C', 'V', 'A', 'F', 'G', 'H', 'I', 'E', 'L', 'W', 'C', 'G', 'R', 'G', 'F', 'J', 'N', 'N', 'L', 'J', 'Q', 'Y', 'G', 'A', 'P', 'N', 'X', 'F', 'L', 'V', 'L', 'D', 'I', 'C', 'A', 'C', 'B', 'X', 'J', 'J', 'U', 'U', 'N', 'T', 'K', 'E', 'U', 'R', 'E', 'K', 'S', 'W', 'P', 'V', 'K', 'N', 'U', 'K', 'F', 'M', 'B', 'M', 'C', 'I', 'G', 'A', 'C', 'T', 'R', 'G', 'H', 'A', 'B', 'A', 'E', 'F', 'W', 'P', 'E', 'A', 'W', 'H', 'V', 'N', 'V', 'J', 'D', 'O', 'D', 'M', 'K', 'B', 'B', 'H', 'C', 'C', 'W', 'M', 'G', 'D', 'Y', 'C', 'T', 'J', 'O', 'L', 'O', 'E', 'S', 'T', 'N', 'G', 'P', 'E', 'P', 'V', 'R', 'S', 'C', 'P', 'T', 'N', 'D', 'I', 'L', 'O', 'T', 'U', 'B', 'S', 'Q', 'I', 'G', 'D', 'A', 'X', 'L', 'Q', 'F', 'C', 'E', 'W', 'P', 'D', 'V', 'C', 'J', 'N', 'F', 'E', 'B', 'M', 'X', 'R', 'M', 'W', 'T', 'I', 'J', 'I', 'M', 'V', 'W', 'W', 'F', 'U', 'S', 'A', 'U', 'B', 'D', 'T', 'K', 'O', 'T', 'F', 'A', 'X', 'G', 'P', 'Q', 'U', 'T', 'N', 'C', 'U', 'E', 'N', 'Y', 'I', 'L', 'A', 'K', 'I', 'Q', 'G', 'E', 'I', 'N', 'S', 'I', 'A', 'U', 'G', 'G', 'I', 'J', 'I', 'T', 'R', 'C', 'N', 'Q', 'T', 'B', 'T', 'L', 'P', 'W', 'E', 'K', 'M', 'O', 'U', 'J', 'L', 'F', 'G', 'K', 'H', 'J', 'X', 'O', 'X', 'X', 'N', 'E', 'D', 'W', 'R', 'S', 'G', 'I', 'H', 'H', 'F', 'S', 'H', 'N', 'P', 'J', 'L', 'X', 'X', 'K', 'T', 'F', 'P', 'B', 'H', 'E', 'W', 'R', 'R', 'K', 'I', 'X', 'A', 'E', 'O', 'A', 'P', 'H', 'B', 'V', 'I', 'N', 'X', 'J', 'M', 'T', 'L', 'D', 'X', 'Y', 'M', 'V', 'X', 'E', 'H', 'Q', 'V', 'F', 'Y', 'Q', 'B', 'F', 'A', 'J', 'V', 'S', 'H', 'X', 'V', 'I', 'U', 'F', 'B', 'N', 'D', 'R', 'E', 'F', 'G', 'E', 'R', 'U', 'A', 'U', 'N', 'J', 'S', 'N', 'L', 'G', 'L', 'O', 'D', 'W', 'V', 'J', 'V', 'H', 'L', 'F', 'N', 'L', 'B', 'H', 'I', 'N', 'V', 'C', 'I', 'P', 'G', 'V', 'R', 'L', 'I', 'O', 'O', 'J', 'X', 'I', 'O', 'U', 'I', 'V', 'L', 'M', 'J', 'J', 'W', 'J', 'T', 'E', 'Q', 'T', 'C', 'N', 'F', 'E', 'E', 'N', 'N', 'Q', 'Y', 'U', 'I', 'E', 'U', 'R', 'Q', 'L', 'G', 'E', 'I', 'P', 'E', 'Q', 'L', 'W', 'G', 'I', 'K', 'X', 'K', 'K', 'T', 'V', 'W', 'N', 'W', 'M', 'I', 'V', 'F', 'B', 'J', 'H', 'S', 'B', 'G', 'B', 'S', 'R', 'O', 'D', 'C', 'A', 'A', 'L', 'Y', 'I', 'D', 'X', 'G', 'A', 'D', 'F', 'C', 'C', 'J', 'P', 'X', 'I', 'W', 'H', 'X', 'C', 'B', 'F', 'E', 'A', 'I', 'H', 'E', 'N', 'X', 'B', 'I', 'I', 'G', 'T', 'V', 'F', 'B', 'M', 'X', 'A', 'C', 'Q', 'A', 'F', 'E', 'N', 'G', 'M', 'Y', 'O', 'O', 'T', 'T', 'D', 'X', 'Y', 'E', 'G', 'P', 'B', 'W', 'N', 'F', 'L', 'A', 'L', 'I', 'V', 'F', 'M', 'M', 'U', 'E', 'K', 'M', 'Y', 'L', 'I', 'Q', 'C', 'U', 'F', 'X', 'Y', 'K', 'D', 'G', 'U', 'X', 'E', 'S', 'F', 'M', 'E', 'B', 'V', 'N', 'D', 'A', 'K', 'L', 'G', 'D', 'V', 'L', 'W', 'W', 'I', 'I', 'I', 'T', 'S', 'U', 'L', 'G', 'A', 'C', 'J', 'U', 'U', 'D', 'E', 'U', 'A', 'Q', 'H', 'I', 'T', 'G', 'U', 'F', 'S', 'K', 'K', 'G', 'X', 'F', 'H', 'C', 'Q', 'T', 'I', 'X', 'H', 'T', 'T', 'D', 'C', 'G', 'U', 'U', 'O', 'E', 'T', 'G', 'U', 'L', 'D', 'V', 'B', 'D', 'H', 'Q', 'N', 'T', 'Q', 'U', 'L', 'G', 'U', 'I', 'M', 'A', 'V', 'Y', 'L', 'Y', 'E', 'Y', 'G', 'Q', 'O', 'T', 'V', 'H', 'S', 'X', 'B', 'L', 'I', 'W', 'J', 'K', 'H', 'Y', 'A', 'I', 'U', 'Q', 'E', 'B', 'U', 'U', 'V', 'E', 'C', 'D', 'V', 'P', 'S', 'I', 'M', 'E', 'R', 'B', 'W', 'R', 'D', 'P', 'Y', 'E', 'P', 'V', 'R', 'O', 'E', 'Q', 'P', 'G', 'E', 'E', 'A', 'X', 'D', 'Q', 'S', 'F', 'D', 'N', 'P', 'Y', 'M', 'J', 'C', 'H', 'P', 'I', 'A', 'J', 'N', 'N', 'M', 'S', 'Y', 'B', 'P', 'M', 'S', 'S', 'O', 'H', 'O', 'N', 'K', 'M', 'C', 'N', 'B', 'A', 'H', 'L', 'K', 'F', 'A', 'C', 'R', 'U', 'L', 'X', 'Q', 'F', 'C', 'G', 'P', 'W', 'F', 'P', 'C', 'A', 'K', 'S', 'D', 'O', 'P', 'U', 'F', 'X', 'V', 'K', 'P', 'E', 'B', 'E', 'P', 'E', 'O', 'J', 'I', 'R', 'A', 'X', 'G', 'V', 'X', 'B', 'N', 'B', 'W', 'I', 'P', 'J', 'U', 'C', 'T', 'M', 'I', 'C', 'Q', 'P', 'V', 'M', 'L', 'B', 'X', 'B', 'M', 'O', 'L', 'V', 'O', 'L', 'O', 'F', 'L', 'I', 'L', 'T', 'H', 'X', 'M', 'H', 'J', 'P', 'D', 'U', 'J', 'L', 'E', 'K', 'C', 'F', 'Y', 'E', 'D', 'W', 'A', 'S', 'K', 'G', 'J', 'M', 'B', 'C', 'C', 'F', 'U', 'N', 'O', 'B', 'L', 'X', 'D', 'C', 'F', 'C', 'U', 'W', 'V', 'E', 'W', 'Y', 'J', 'C', 'R', 'P', 'J', 'K', 'X', 'M', 'K', 'C', 'K', 'N', 'G', 'L', 'W', 'P', 'W', 'C', 'R', 'S', 'R', 'P', 'H', 'L', 'B', 'D', 'O', 'B', 'K', 'X', 'P', 'C', 'V', 'P', 'T', 'Q', 'H', 'G', 'N', 'I', 'N', 'M', 'F', 'L', 'V', 'V', 'P', 'W', 'M', 'I', 'T', 'R', 'K', 'Q', 'U', 'X', 'S', 'J', 'Q', 'A', 'V', 'W', 'C', 'K', 'B', 'B', 'Y', 'J', 'D', 'D', 'G', 'V', 'T', 'J', 'S', 'V', 'O', 'A', 'C', 'M', 'O', 'A', 'R', 'F', 'F', 'V', 'W', 'M', 'G', 'A', 'K', 'W', 'Q', 'D', 'B', 'C', 'W', 'I', 'M', 'O', 'V', 'M', 'J', 'G', 'F', 'B', 'H', 'P', 'O', 'N', 'N', 'P', 'B', 'M', 'E', 'X', 'P', 'F', 'S', 'X', 'B', 'U', 'I', 'E', 'P', 'H', 'G', 'D', 'I', 'Q', 'U', 'F', 'G', 'X', 'O', 'D', 'G', 'W', 'W', 'E', 'K', 'V', 'G', 'A', 'T', 'Y', 'C', 'B', 'T', 'Y', 'P', 'I', 'V', 'F', 'I', 'B', 'H', 'C', 'M', 'I', 'P', 'U', 'G', 'H', 'W', 'E', 'Y', 'C', 'B', 'N', 'V', 'F', 'Q', 'O', 'L', 'A', 'Y', 'S', 'U', 'P', 'C', 'S', 'U', 'R', 'D', 'T', 'K', 'U', 'Y', 'D', 'C', 'I', 'K', 'S', 'U', 'P', 'A', 'L', 'E', 'A', 'O', 'R', 'M', 'G', 'U', 'J', 'H', 'F', 'B', 'V', 'M', 'V', 'D', 'I', 'X', 'N', 'L', 'N', 'H', 'M', 'P', 'Y', 'E', 'J', 'G', 'D', 'C', 'Q', 'E', 'W', 'S', 'W', 'T', 'O', 'X', 'E', 'E', 'I', 'E', 'M', 'D', 'H', 'P', 'F', 'C', 'B', 'K', 'G', 'M', 'V', 'H', 'L', 'S', 'C', 'P', 'J', 'T', 'W', 'J', 'J', 'L', 'O', 'W', 'V', 'W', 'O', 'G', 'M', 'T', 'T', 'E', 'C', 'D', 'M', 'O', 'U', 'I', 'B', 'M', 'E', 'Q', 'T', 'J', 'R', 'U', 'D', 'D', 'T', 'Q', 'I', 'V', 'D', 'V', 'P', 'D', 'Y', 'X', 'J', 'A', 'C', 'U', 'Q', 'W', 'Q', 'N', 'K', 'K', 'X', 'N', 'N', 'S', 'C', 'U', 'A', 'M', 'H', 'U', 'U', 'O', 'V', 'J', 'D', 'T', 'F', 'E', 'O', 'K', 'H', 'H', 'M', 'T', 'J', 'J', 'L', 'O', 'L', 'U', 'B', 'M', 'Y', 'F', 'Y', 'A', 'P', 'B', 'F', 'L', 'S', 'K', 'K', 'L', 'B', 'I', 'D', 'K', 'T', 'N', 'A', 'H', 'K', 'G', 'I', 'T', 'I', 'H', 'W', 'H', 'L', 'A', 'B', 'S', 'M', 'O', 'B', 'N', 'P', 'F', 'P', 'X', 'C', 'R', 'A', 'Q', 'Q', 'E', 'T', 'J', 'W', 'F', 'L', 'R', 'I', 'D', 'D', 'D', 'I', 'D', 'Y', 'C', 'V', 'O', 'O', 'R', 'M', 'M', 'G', 'E', 'H', 'P', 'F', 'H', 'B', 'N', 'E', 'A', 'X', 'T', 'L', 'H', 'F', 'U', 'B', 'B', 'V', 'J', 'U', 'E', 'Y', 'Q', 'M', 'N', 'T', 'H', 'M', 'A', 'Q', 'G', 'F', 'R', 'L', 'B', 'Q', 'L', 'M', 'J', 'K', 'J', 'B', 'J', 'E', 'S', 'L', 'A', 'Y', 'X', 'S', 'L', 'I', 'P', 'J', 'Q', 'V', 'U', 'E', 'I', 'B', 'H', 'F', 'P', 'B', 'B', 'W', 'A', 'B', 'Q', 'E', 'T', 'R', 'G', 'L', 'Y', 'C', 'Y', 'N', 'N', 'E', 'T', 'I', 'V', 'P', 'L', 'V', 'T', 'W', 'R', 'W', 'U', 'J', 'F', 'B', 'F', 'W', 'T', 'K', 'Y', 'I', 'N', 'V', 'A', 'E', 'C', 'B', 'J', 'X', 'P', 'D', 'N', 'J', 'E', 'D', 'F', 'S', 'H', 'Y', 'G', 'V', 'C', 'B', 'Y', 'O', 'M', 'Q', 'W', 'E', 'V', 'D', 'L', 'L', 'H', 'F', 'U', 'H', 'W', 'I', 'X', 'E', 'Y', 'L', 'E', 'X', 'S', 'B', 'F', 'S', 'R', 'K', 'A', 'H', 'H', 'F', 'J', 'T', 'D', 'T', 'H', 'D', 'H', 'O', 'I', 'A', 'L', 'G', 'E', 'T', 'A', 'M', 'C', 'M', 'R', 'B', 'A', 'J', 'C', 'L', 'C', 'F', 'E', 'M', 'L', 'A', 'U', 'U', 'P', 'O', 'D', 'O', 'H', 'R', 'W', 'C', 'I', 'C', 'B', 'U', 'B', 'X', 'M', 'K', 'Y', 'H', 'C', 'L', 'I', 'T', 'R', 'D', 'J', 'D', 'Q', 'G', 'W', 'A', 'S', 'L', 'H', 'M', 'B', 'R', 'L', 'W', 'D', 'M', 'P', 'I', 'L', 'Q', 'N', 'F', 'Y', 'C', 'A', 'L', 'I', 'E', 'O', 'P', 'U', 'K', 'N', 'K', 'E', 'B', 'I', 'N', 'C', 'R', 'W', 'X', 'B', 'E', 'V', 'X', 'T', 'Y', 'U', 'J', 'H', 'K', 'H', 'F', 'K', 'D', 'H', 'H', 'Q', 'I', 'N', 'N', 'P', 'E', 'M', 'F', 'X', 'P', 'W', 'V', 'K', 'I', 'P', 'A', 'P', 'D', 'D', 'J', 'Q', 'N', 'I', 'T', 'M', 'Y', 'J', 'B', 'L', 'M', 'R', 'Y', 'D', 'V', 'H', 'C', 'A', 'L', 'B', 'K', 'M', 'Y', 'Y', 'X', 'P', 'W', 'X', 'U', 'S', 'H', 'C', 'B', 'G', 'E', 'Y', 'A', 'X', 'W', 'E', 'P', 'V', 'E', 'C', 'T', 'J', 'Y', 'J', 'F', 'S', 'R', 'B', 'K', 'O', 'S', 'V', 'V', 'A', 'U', 'R', 'F', 'W', 'S', 'Q', 'N', 'Y', 'C', 'V', 'A', 'N', 'T', 'V', 'L', 'X', 'Y', 'H', 'E', 'S', 'V', 'F', 'D', 'G', 'W', 'S', 'S', 'B', 'A', 'H', 'I', 'T', 'U', 'J', 'B', 'B', 'X', 'R', 'A', 'R', 'D', 'G', 'J', 'Q', 'J', 'R', 'M', 'X', 'X', 'B', 'L', 'R', 'G', 'I', 'M', 'E', 'Q', 'W', 'P', 'O', 'U', 'I', 'A', 'E', 'U', 'Q', 'M', 'M', 'J', 'F', 'O', 'A', 'E', 'U', 'D', 'I', 'T', 'I', 'L', 'J', 'W', 'O', 'P', 'G', 'Q', 'W', 'C', 'S', 'E', 'V', 'X', 'V', 'Q', 'P', 'A', 'V', 'W', 'D', 'L', 'V', 'R', 'Q', 'G', 'G', 'T', 'P', 'J', 'U', 'N', 'E', 'S', 'F', 'P', 'O', 'X', 'J', 'T', 'C', 'J', 'Q', 'L', 'E', 'M', 'K', 'S', 'I', 'E', 'Y', 'K', 'U', 'I', 'R', 'L', 'I', 'L', 'H', 'H', 'H', 'U', 'N', 'W', 'E', 'R', 'K', 'F', 'C', 'H', 'U', 'J', 'D', 'O', 'N', 'U', 'L', 'J', 'F', 'E', 'U', 'V', 'C', 'V', 'X', 'C', 'P', 'O', 'C', 'Y', 'J', 'W', 'K', 'T', 'D', 'A', 'K', 'K', 'E', 'S', 'V', 'S', 'I', 'M', 'V', 'K', 'S', 'A', 'A', 'Q', 'K', 'N', 'F', 'I', 'W', 'H', 'I', 'M', 'L', 'L', 'E', 'G', 'S', 'T', 'V', 'H', 'T', 'Q', 'B', 'F', 'S', 'G', 'I', 'W', 'J', 'Y', 'R', 'T', 'A', 'M', 'S', 'U', 'C', 'D', 'P', 'W', 'E', 'V', 'U', 'N', 'S', 'F', 'V', 'O', 'X', 'D', 'L', 'T', 'E', 'H', 'S', 'X', 'Y', 'S', 'Q', 'H', 'L', 'G', 'I', 'A', 'P', 'L', 'R', 'C', 'Y', 'I', 'R', 'X', 'E', 'D', 'T', 'L', 'N', 'Q', 'K', 'B', 'L', 'K', 'W', 'W', 'B', 'I', 'H', 'B', 'K', 'Y', 'O', 'J', 'D', 'G', 'P', 'U', 'A', 'F', 'S', 'V', 'J', 'H', 'P', 'K', 'E', 'M', 'R', 'N', 'V', 'C', 'A', 'X', 'F', 'A', 'M', 'W', 'R', 'G', 'F', 'I', 'J', 'T', 'W', 'A', 'C', 'L', 'X', 'V', 'J', 'M', 'C', 'S', 'S', 'A', 'V', 'T', 'W', 'D', 'U', 'R', 'W', 'T', 'P', 'G', 'X', 'O', 'P', 'N', 'K', 'H', 'M', 'X', 'U', 'X', 'N', 'R', 'M', 'O', 'U', 'B', 'S', 'O', 'F', 'S', 'H', 'Q', 'N', 'O', 'Y', 'M', 'W', 'X', 'G', 'X', 'E', 'A', 'E', 'O', 'C', 'H', 'N', 'N', 'A', 'B', 'F', 'Y', 'C', 'I', 'C', 'L', 'Q', 'P', 'X', 'D', 'X', 'V', 'B', 'O', 'A', 'X', 'B', 'I', 'P', 'M', 'K', 'A', 'O', 'W', 'N', 'L', 'F', 'C', 'F', 'C', 'F', 'X', 'G', 'B', 'R', 'I', 'E', 'D', 'S', 'T', 'B', 'N', 'U', 'A', 'K', 'Y', 'F', 'U', 'E', 'D', 'T', 'H', 'T', 'J', 'P', 'S', 'A', 'M', 'J', 'T', 'L', 'P', 'A', 'T', 'Y', 'T', 'X', 'I', 'A', 'F', 'B', 'C', 'R', 'P', 'I', 'H', 'K', 'J', 'C', 'H', 'M', 'H', 'A', 'G', 'E', 'V', 'S', 'K', 'Y', 'R', 'F', 'B', 'R', 'W', 'G', 'L', 'W', 'B', 'L', 'E', 'D', 'J', 'T', 'N', 'C', 'I', 'T', 'A', 'G', 'H', 'F', 'C', 'J', 'E', 'U', 'N', 'S', 'T', 'Y', 'T', 'G', 'S', 'V', 'H', 'A', 'U', 'I', 'I', 'R', 'Y', 'A', 'T', 'X', 'H', 'Y', 'C', 'H', 'O', 'C', 'A', 'Y', 'I', 'K', 'N', 'E', 'X', 'P', 'G', 'N', 'L', 'R', 'F', 'A', 'W', 'R', 'I', 'T', 'Y', 'U', 'E', 'C', 'W', 'W', 'I', 'G', 'N', 'A', 'H', 'Y', 'H', 'Y', 'U', 'H', 'Y', 'F', 'V', 'I', 'D', 'H', 'J', 'Q', 'D', 'T', 'A', 'R', 'K', 'X', 'F', 'P', 'K', 'S', 'S', 'D', 'A', 'L', 'D', 'H', 'L', 'G', 'Y', 'L', 'H', 'O', 'A', 'R', 'F', 'K', 'Q', 'Y', 'C', 'H', 'D', 'R', 'J', 'G', 'E', 'C', 'F', 'C', 'N', 'I', 'T', 'Y', 'Y', 'B', 'B', 'E', 'D', 'Y', 'D', 'A', 'W', 'I', 'V', 'H', 'Q', 'X', 'P', 'A', 'P', 'N', 'R', 'Q', 'F', 'G', 'J', 'J', 'N', 'L', 'Y', 'C', 'W', 'G', 'U', 'O', 'J', 'H', 'F', 'S', 'V', 'F', 'O', 'Y', 'I', 'D', 'H', 'P', 'E', 'R', 'T', 'A', 'E', 'G', 'H', 'D', 'G', 'Y', 'M', 'N', 'J', 'G', 'C', 'J', 'W', 'P', 'X', 'S', 'F', 'L', 'L', 'N', 'V', 'F', 'D', 'V', 'D', 'F', 'K', 'Y', 'J', 'A', 'Y', 'Q', 'E', 'G', 'V', 'O', 'T', 'L', 'S', 'G', 'A', 'G', 'V', 'A', 'T', 'H', 'D', 'T', 'B', 'G', 'W', 'I', 'H', 'U', 'A', 'C', 'Q', 'Y', 'R', 'V', 'P', 'J', 'G', 'U', 'W', 'F', 'L', 'E', 'S', 'R', 'L', 'I', 'W', 'V', 'U', 'U', 'D', 'H', 'I', 'X', 'G', 'J', 'W', 'B', 'J', 'A', 'I', 'D', 'K', 'E', 'Q', 'A', 'X', 'I', 'P', 'Y', 'R', 'L', 'M', 'J', 'Q', 'Y', 'H', 'S', 'C', 'R', 'Y', 'V', 'X', 'J', 'X', 'A', 'P', 'C', 'X', 'A', 'G', 'U', 'G', 'F', 'C', 'T', 'B', 'R', 'B', 'X', 'D', 'S', 'V', 'X', 'J', 'O', 'K', 'I', 'F', 'V', 'T', 'R', 'K', 'A', 'A', 'K', 'E', 'R', 'Y', 'M', 'E', 'O', 'B', 'H', 'E', 'M', 'C', 'F', 'V', 'L', 'X', 'J', 'R', 'D', 'D', 'L', 'Q', 'T', 'B', 'T', 'W', 'T', 'V', 'L', 'C', 'J', 'W', 'Y', 'O', 'E', 'F', 'T', 'J', 'D', 'T', 'C', 'S', 'U', 'W', 'V', 'C', 'O', 'B', 'K', 'M', 'O', 'G', 'V', 'I', 'L', 'I', 'D', 'D', 'E', 'F', 'W', 'C', 'D', 'V', 'U', 'K', 'S', 'L', 'I', 'V', 'E', 'P', 'S', 'R', 'B', 'W', 'C', 'P', 'J', 'H', 'O', 'D', 'P', 'N', 'X', 'H', 'L', 'S', 'W', 'I', 'V', 'P', 'I', 'C', 'I', 'O', 'O', 'V', 'T', 'V', 'G', 'M', 'T', 'M', 'H', 'Y', 'F', 'G', 'Y', 'S', 'K', 'U', 'S', 'R', 'Y', 'I', 'N', 'V', 'Q', 'E', 'B', 'T', 'J', 'W', 'M', 'K', 'Y', 'E', 'F', 'I', 'B', 'S', 'V', 'E', 'H', 'T', 'H', 'A', 'T', 'C', 'E', 'P', 'F', 'L', 'M', 'J', 'E', 'I', 'B', 'F', 'C', 'H', 'E', 'V', 'G', 'O', 'A', 'G', 'E', 'K', 'M', 'C', 'X', 'A', 'V', 'V', 'K', 'G', 'G', 'L', 'V', 'P', 'W', 'P', 'S', 'I', 'B', 'P', 'J', 'C', 'E', 'Q', 'V', 'O', 'K', 'T', 'Q', 'Q', 'H', 'Q', 'M', 'Q', 'U', 'S', 'F', 'N', 'M', 'G', 'X', 'U', 'H', 'X', 'M', 'D', 'L', 'Y', 'U', 'T', 'B', 'S', 'P', 'K', 'S', 'L', 'C', 'S', 'J', 'W', 'G', 'H', 'W', 'Q', 'R', 'L', 'Q', 'C', 'F', 'F', 'N', 'M', 'H', 'E', 'B', 'J', 'D', 'D', 'F', 'T', 'S', 'L', 'P', 'B', 'V', 'J', 'E', 'T', 'I', 'M', 'B', 'G', 'S', 'T', 'Y', 'U', 'H', 'C', 'V', 'S', 'L', 'B', 'D', 'U', 'M', 'T', 'D', 'P', 'U', 'U', 'B', 'U', 'X', 'D', 'A', 'L', 'C', 'I', 'I', 'U', 'B', 'F', 'G', 'Y', 'R', 'X', 'G', 'K', 'H', 'M', 'B', 'H', 'Y', 'Q', 'B', 'O', 'A', 'C', 'E', 'M', 'T', 'T', 'C', 'V', 'T', 'P', 'B', 'A', 'Y', 'F', 'W', 'U', 'T', 'I', 'Q', 'O', 'C', 'X', 'M', 'S', 'P', 'T', 'V', 'P', 'Y', 'W', 'J', 'M', 'T', 'R', 'Y', 'V', 'I', 'E', 'G', 'W', 'C', 'K', 'E', 'C', 'H', 'G', 'Y', 'Y', 'Y', 'E', 'E', 'H', 'R', 'W', 'I', 'P', 'V', 'K', 'F', 'Q', 'J', 'L', 'S', 'P', 'L', 'C', 'N', 'L', 'T', 'F', 'N', 'M', 'U', 'H', 'M', 'A', 'A', 'T', 'I', 'R', 'M', 'Y', 'Y', 'G', 'H', 'D', 'P', 'Y', 'F', 'D', 'Q', 'I', 'E', 'M', 'T', 'H', 'D', 'Y', 'K', 'O', 'B', 'N', 'X', 'J', 'X', 'V', 'R', 'E', 'B', 'P', 'S', 'T', 'T', 'I', 'N', 'P', 'O', 'H', 'U', 'M', 'P', 'X', 'T', 'G', 'N', 'B', 'M', 'P', 'P', 'L', 'R', 'U', 'X', 'A', 'R', 'U', 'Y', 'Q', 'L', 'R', 'K', 'B', 'K', 'V', 'A', 'D', 'S', 'B', 'X', 'F', 'R', 'K', 'G', 'H', 'L', 'B', 'V', 'J', 'N', 'W', 'L', 'U', 'T', 'V', 'S', 'U', 'V', 'I', 'D', 'I', 'Y', 'W', 'O', 'D', 'Q', 'J', 'M', 'N', 'I', 'Q', 'P', 'C', 'T', 'M', 'K', 'R', 'P', 'U', 'M', 'R', 'L', 'D', 'S', 'D', 'H', 'L', 'C', 'P', 'O', 'W', 'K', 'O', 'G', 'Q', 'G', 'K', 'V', 'Y', 'I', 'L', 'T', 'D', 'P', 'O', 'M', 'O', 'D', 'V', 'R', 'N', 'Q', 'G', 'R', 'H', 'Y', 'G', 'G', 'J', 'U', 'B', 'X', 'R', 'W', 'J', 'L', 'W', 'F', 'W', 'G', 'M', 'H', 'T', 'F', 'T', 'Q', 'P', 'Q', 'C', 'B', 'S', 'D', 'Y', 'J', 'N', 'N', 'M', 'C', 'J', 'T', 'S', 'X', 'P', 'F', 'L', 'P', 'P', 'S', 'S', 'I', 'H', 'H', 'J', 'I', 'B', 'T', 'Y', 'J', 'N', 'M', 'J', 'K', 'S', 'W', 'M', 'H', 'U', 'P', 'F', 'L', 'C', 'R', 'J', 'I', 'J', 'O', 'H', 'S', 'Y', 'G', 'H', 'Q', 'M', 'A', 'Y', 'M', 'R', 'O', 'A', 'A', 'Y', 'Q', 'D', 'S', 'F', 'L', 'X', 'L', 'X', 'O', 'W', 'V', 'J', 'M', 'L', 'W', 'J', 'P', 'C', 'B', 'X', 'B', 'W', 'A', 'K', 'K', 'G', 'M', 'J', 'J', 'D', 'U', 'Y', 'Q', 'I', 'B', 'M', 'T', 'H', 'D', 'B', 'B', 'K', 'D', 'S', 'K', 'X', 'O', 'L', 'G', 'M', 'C', 'P', 'T', 'O', 'F', 'L', 'L', 'M', 'N', 'A', 'R', 'Y', 'R', 'J', 'F', 'U', 'B', 'G', 'E', 'G', 'U', 'X', 'W', 'T', 'N', 'M', 'A', 'R', 'J', 'U', 'C', 'B', 'T', 'M', 'M', 'A', 'H', 'D', 'V', 'V', 'H', 'B', 'D', 'J', 'H', 'O', 'M', 'D', 'X', 'N', 'G', 'O', 'O', 'U', 'P', 'H', 'V', 'A', 'D', 'D', 'B', 'J', 'D', 'F', 'F', 'D', 'J', 'N', 'X', 'I', 'X', 'N', 'G', 'L', 'Q', 'A', 'G', 'I', 'B', 'U', 'N', 'V', 'U', 'H', 'N', 'U', 'W', 'U', 'I', 'L', 'S', 'D', 'B', 'N', 'X', 'F', 'U', 'D', 'I', 'A', 'U', 'Q', 'X', 'V', 'R', 'W', 'P', 'L', 'Q', 'T', 'H', 'W', 'N', 'T', 'C', 'S', 'D', 'T', 'N', 'V', 'U', 'B', 'F', 'W', 'H', 'U', 'J', 'P', 'O', 'B', 'H', 'S', 'A', 'E', 'P', 'U', 'D', 'R', 'W', 'S', 'I', 'Q', 'L', 'K', 'G', 'E', 'M', 'E', 'W', 'K', 'R', 'V', 'J', 'I', 'S', 'D', 'G', 'T', 'N', 'D', 'I', 'A', 'L', 'N', 'M', 'E', 'X', 'D', 'B', 'I', 'N', 'J', 'U', 'G', 'H', 'A', 'M', 'D', 'B', 'N', 'W', 'K', 'S', 'O', 'P', 'J', 'R', 'H', 'S', 'B', 'E', 'K', 'L', 'T', 'Y', 'H', 'I', 'J', 'C', 'A', 'H', 'J', 'K', 'V', 'W', 'D', 'R', 'D', 'W', 'F', 'D', 'O', 'A', 'X', 'N', 'J', 'F', 'Q', 'A', 'L', 'E', 'V', 'E', 'B', 'L', 'F', 'M', 'X', 'S', 'D', 'P', 'I', 'F', 'Y', 'J', 'J', 'F', 'P', 'L', 'G', 'P', 'X', 'Q', 'Q', 'T', 'H', 'R', 'M', 'X', 'K', 'K', 'N', 'J', 'K', 'C', 'E', 'L', 'F', 'O', 'S', 'L', 'E', 'O', 'A', 'J', 'U', 'B', 'R', 'M', 'N', 'M', 'I', 'X', 'L', 'G', 'U', 'K', 'V', 'Q', 'C', 'B', 'T', 'R', 'T', 'E', 'G', 'F', 'L', 'K', 'S', 'J', 'I', 'E', 'V', 'T', 'E', 'Q', 'S', 'J', 'J', 'B', 'E', 'H', 'M', 'J', 'A', 'V', 'I', 'H', 'D', 'E', 'Q', 'J', 'L', 'C', 'A', 'U', 'Q', 'W', 'C', 'Y', 'H', 'K', 'R', 'O', 'A', 'K', 'L', 'O', 'R', 'M', 'B', 'V', 'X', 'B', 'L', 'E', 'S', 'B', 'J', 'J', 'R', 'P', 'X', 'K', 'W', 'H', 'K', 'M', 'U', 'T', 'C', 'N', 'V', 'Q', 'C', 'H', 'Q', 'I', 'A', 'P', 'W', 'S', 'B', 'U', 'G', 'X', 'E', 'F', 'I', 'R', 'P', 'P', 'D', 'W', 'P', 'V', 'K', 'N', 'I', 'H', 'P', 'X', 'V', 'C', 'H', 'W', 'L', 'E', 'V', 'S', 'R', 'K', 'W', 'H', 'W', 'W', 'B', 'L', 'I', 'A', 'V', 'K', 'X', 'E', 'O', 'I', 'U', 'Q', 'R', 'W', 'E', 'L', 'X', 'R', 'K', 'H', 'I', 'T', 'J', 'W', 'T', 'Y', 'R', 'M', 'Y', 'I', 'E', 'L', 'I', 'W', 'C', 'G', 'F', 'W', 'T', 'I', 'J', 'B', 'B', 'W', 'E', 'Y', 'X', 'T', 'D', 'L', 'I', 'X', 'R', 'Y', 'E', 'E', 'K', 'T', 'T', 'Y', 'R', 'O', 'H', 'D', 'A', 'S', 'V', 'D', 'L', 'U', 'V', 'V', 'U', 'O', 'P', 'W', 'Y', 'D', 'K', 'U', 'O', 'S', 'H', 'D', 'H', 'P', 'O', 'D', 'R', 'C', 'G', 'K', 'P', 'V', 'T', 'S', 'S', 'L', 'A', 'I', 'U', 'T', 'E', 'E', 'T', 'F', 'S', 'P', 'O', 'U', 'C', 'C', 'G', 'O', 'D', 'M', 'J', 'K', 'I', 'S', 'M', 'J', 'M', 'K', 'H', 'H', 'V', 'R', 'J', 'I', 'W', 'D', 'U', 'E', 'T', 'O', 'F', 'I', 'E', 'L', 'S', 'X', 'U', 'B', 'G', 'M', 'U', 'X', 'J', 'J', 'Y', 'S', 'T', 'L', 'C', 'S', 'J', 'P', 'P', 'J', 'H', 'I', 'Q', 'P', 'W', 'N', 'K', 'G', 'J', 'I', 'K', 'C', 'O', 'I', 'B', 'X', 'B', 'R', 'J', 'B', 'F', 'G', 'K', 'I', 'U', 'S', 'J', 'O', 'N', 'H', 'M', 'B', 'C', 'Y', 'M', 'W', 'I', 'M', 'B', 'Q', 'J', 'J', 'A', 'J', 'O', 'W', 'L', 'N', 'E', 'X', 'A', 'M', 'Y', 'O', 'D', 'E', 'L', 'B', 'X', 'R', 'B', 'X', 'F', 'J', 'P', 'H', 'L', 'F', 'M', 'U', 'P', 'G', 'O', 'M', 'H', 'C', 'X', 'P', 'D', 'H', 'U', 'K', 'M', 'X', 'H', 'G', 'V', 'A', 'L', 'Y', 'D', 'I', 'S', 'R', 'Q', 'T', 'G', 'B', 'D', 'M', 'A', 'K', 'R', 'I', 'H', 'E', 'L', 'E', 'A', 'P', 'I', 'E', 'B', 'G', 'D', 'M', 'S', 'N', 'J', 'M', 'T', 'K', 'F', 'G', 'F', 'R', 'G', 'S', 'Q', 'G', 'L', 'A', 'T', 'G', 'E', 'C', 'M', 'E', 'Q', 'M', 'M', 'X', 'C', 'P', 'O', 'C', 'U', 'L', 'S', 'U', 'O', 'J', 'O', 'B', 'U', 'R', 'V', 'O', 'Q', 'X', 'X', 'V', 'E', 'I', 'K', 'L', 'F', 'R', 'I', 'E', 'X', 'P', 'K', 'V', 'H', 'F', 'L', 'B', 'E', 'B', 'T', 'X', 'I', 'T', 'G', 'M', 'Y', 'C', 'W', 'K', 'E', 'O', 'R', 'E', 'K', 'W', 'K', 'P', 'U', 'J', 'A', 'Y', 'H', 'F', 'O', 'Q', 'S', 'I', 'C', 'T', 'S', 'H', 'C', 'V', 'O', 'O', 'A', 'J', 'S', 'Y', 'L', 'V', 'V', 'C', 'S', 'Q', 'E', 'U', 'I', 'Y', 'S', 'K', 'G', 'I', 'H', 'C', 'I', 'E', 'F', 'H', 'R', 'P', 'A', 'G', 'S', 'C', 'J', 'S', 'D', 'S', 'N', 'S', 'N', 'A', 'C', 'F', 'A', 'X', 'C', 'Y', 'C', 'Y', 'A', 'H', 'M', 'J', 'H', 'H', 'N', 'Y', 'R', 'U', 'C', 'B', 'L', 'J', 'B', 'L', 'G', 'D', 'E', 'V', 'A', 'L', 'I', 'U', 'F', 'K', 'I', 'F', 'V', 'L', 'B', 'K', 'A', 'F', 'Y', 'C', 'L', 'C', 'J', 'E', 'I', 'X', 'M', 'L', 'C', 'A', 'B', 'Y', 'A', 'X', 'O', 'W', 'U', 'M', 'C', 'B', 'Q', 'T', 'Y', 'W', 'J', 'U', 'A', 'E', 'K', 'Y', 'S', 'S', 'V', 'N', 'I', 'M', 'Y', 'I', 'Q', 'K', 'L', 'Q', 'L', 'L', 'W', 'U', 'F', 'J', 'O', 'X', 'Y', 'O', 'U', 'C', 'A', 'Q', 'S', 'A', 'X', 'R', 'B', 'D', 'P', 'C', 'I', 'H', 'A', 'P', 'I', 'K', 'H', 'N', 'I', 'R', 'H', 'T', 'J', 'B', 'S', 'X', 'A', 'J', 'T', 'J', 'Y', 'B', 'F', 'G', 'O', 'G', 'U', 'F', 'L', 'S', 'T', 'O', 'E', 'K', 'P', 'J', 'U', 'F', 'B', 'V', 'W', 'R', 'B', 'I', 'W', 'J', 'T', 'A', 'X', 'X', 'W', 'I', 'X', 'C', 'Q', 'Q', 'E', 'F', 'I', 'S', 'F', 'Y', 'W', 'W', 'K', 'B', 'X', 'O', 'B', 'V', 'B', 'D', 'I', 'G', 'N', 'F', 'Y', 'B', 'A', 'M', 'Q', 'M', 'G', 'L', 'F', 'D', 'I', 'R', 'C', 'I', 'C', 'T', 'J', 'F', 'M', 'J', 'K', 'U', 'C', 'G', 'T', 'M', 'C', 'V', 'C', 'G', 'C', 'Y', 'D', 'E', 'O', 'P', 'F', 'Q', 'L', 'V', 'B', 'D', 'K', 'K', 'B', 'Y', 'K', 'C', 'W', 'G', 'Y', 'J', 'Q', 'O', 'P', 'C', 'A', 'V', 'D', 'S', 'C', 'H', 'P', 'C', 'R', 'M', 'I', 'E', 'L', 'A', 'I', 'W', 'K', 'X', 'K', 'O', 'V', 'F', 'T', 'F', 'K', 'G', 'D', 'M', 'F', 'M', 'R', 'T', 'S', 'U', 'M', 'D', 'M', 'O', 'D', 'B', 'J', 'V', 'A', 'Q', 'J', 'D', 'H', 'C', 'C', 'K', 'V', 'B', 'E', 'C', 'N', 'R', 'A', 'A', 'L', 'U', 'R', 'J', 'H', 'W', 'Q', 'E', 'D', 'B', 'S', 'C', 'K', 'O', 'C', 'J', 'M', 'D', 'G', 'B', 'Q', 'H', 'L', 'M', 'I', 'D', 'T', 'E', 'I', 'M', 'R', 'P', 'E', 'Q', 'U', 'I', 'A', 'Y', 'L', 'O', 'T', 'V', 'E', 'O', 'Q', 'C', 'Y', 'X', 'N', 'M', 'P', 'V', 'K', 'I', 'X', 'A', 'O', 'K', 'A', 'I', 'C', 'X', 'I', 'I', 'X', 'D', 'W', 'J', 'E', 'A', 'J', 'C', 'I', 'P', 'H', 'D', 'P', 'E', 'G', 'L', 'H', 'G', 'A', 'F', 'S', 'H', 'K', 'L', 'F', 'E', 'X', 'U', 'F', 'X', 'C', 'F', 'O', 'N', 'H', 'C', 'D', 'D', 'R', 'H', 'S', 'N', 'C', 'C', 'D', 'W', 'C', 'C', 'E', 'B', 'N', 'U', 'G', 'P', 'C', 'W', 'M']\n",
      "(36, 36)\n",
      "47\n"
     ]
    },
    {
     "data": {
      "image/png": "[encoded data removed]",
      "text/plain": [
       "<Figure size 1000x700 with 2 Axes>"
      ]
     },
     "metadata": {},
     "output_type": "display_data"
    }
   ],
   "source": [
    "all_pred = [label_dictionary[x] for x in np.concatenate((SVC_pred_nums_1d, SVC_pred_lletres_1d))]\n",
    "all_y_test = [label_dictionary[x] for x in np.concatenate((test_y_nums, test_y_lletres))]\n",
    "print(all_pred)\n",
    "# all_pred = np.apply_along_axis(lambda x: label_dictionary[x], 0, all_pred)\n",
    "# all_y_test = np.apply_along_axis(lambda x: label_dictionary[x], 0, all_y_test)\n",
    "\n",
    "confmat_nums = confusion_matrix(all_y_test, all_pred)\n",
    "print(confmat_nums.shape)\n",
    "print(len(label_dictionary))\n",
    "confmat_nums = pd.DataFrame(confmat_nums, columns=list(label_dictionary.values())[:36], index=list(label_dictionary.values())[:36])\n",
    "# confmat_lletres = confusion_matrix(test_y_lletres, SVC_pred_lletres_1d)\n",
    "\n",
    "# print(confmat_lletres.shape)\n",
    "plt.figure(figsize=(10,7))\n",
    "sns.heatmap(confmat_nums, annot=False, fmt=\"d\", cmap=sns.color_palette(\"Blues\"), annot_kws=label_dictionary)\n",
    "plt.title(\"Confusion matrix SVM full\")\n",
    "plt.xticks(rotation=0)\n",
    "plt.yticks(rotation=0) \n",
    "plt.savefig('confusion_matrix.png', dpi=300)\n",
    "plt.show()\n",
    "# sns.heatmap(confmat_lletres, annot=False, fmt=\"d\", cmap=\"Blues\")\n",
    "# plt.show()\n",
    "# print(confmat_lletres)"
   ]
  },
  {
   "cell_type": "code",
   "execution_count": 22,
   "metadata": {},
   "outputs": [],
   "source": [
    "with open('../svm_img_model_numbers.pkl', 'wb') as model_file:\n",
    "    pickle.dump(model, model_file)\n",
    "\n",
    "with open('../svm_img_model_letters.pkl', 'wb') as model_file:\n",
    "    pickle.dump(model2, model_file)"
   ]
  }
 ],
 "metadata": {
  "kernelspec": {
   "display_name": "torch",
   "language": "python",
   "name": "python3"
  },
  "language_info": {
   "codemirror_mode": {
    "name": "ipython",
    "version": 3
   },
   "file_extension": ".py",
   "mimetype": "text/x-python",
   "name": "python",
   "nbconvert_exporter": "python",
   "pygments_lexer": "ipython3",
   "version": "3.8.16"
  },
  "orig_nbformat": 4
 },
 "nbformat": 4,
 "nbformat_minor": 2
}
