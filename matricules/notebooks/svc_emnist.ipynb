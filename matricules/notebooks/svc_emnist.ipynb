{
 "cells": [
  {
   "cell_type": "code",
   "execution_count": 35,
   "metadata": {},
   "outputs": [],
   "source": [
    "import numpy as np\n",
    "from sklearn.svm import SVC\n",
    "from sklearn.metrics import accuracy_score, precision_score, recall_score, f1_score, classification_report\n",
    "# from feature_extractor import *\n",
    "from sklearn.model_selection import train_test_split, KFold, cross_val_score\n",
    "import matplotlib.pyplot as plt\n",
    "import pandas as pd\n",
    "import os\n",
    "import pickle\n",
    "\n",
    "# from cuml.svm import SVC"
   ]
  },
  {
   "cell_type": "code",
   "execution_count": 2,
   "metadata": {},
   "outputs": [],
   "source": [
    "train_df = pd.read_csv(\"../emnist/emnist-balanced-train.csv\", header=None)\n",
    "test_df = pd.read_csv(\"../emnist/emnist-balanced-test.csv\", header=None)\n",
    "\n",
    "# Add test dataset into train dataset\n",
    "df = pd.concat([train_df, test_df], ignore_index=True)\n",
    "df.head()\n",
    "\n",
    "del train_df\n",
    "del test_df"
   ]
  },
  {
   "cell_type": "code",
   "execution_count": 3,
   "metadata": {},
   "outputs": [],
   "source": [
    "\n",
    "#Reading the file\n",
    "label_map = pd.read_csv(\"../emnist/emnist-balanced-mapping.txt\",\n",
    "                        delimiter = ' ',\n",
    "                        index_col=0,\n",
    "                        header=None)\n",
    "label_map = label_map.iloc[:, 0]\n"
   ]
  },
  {
   "cell_type": "code",
   "execution_count": 4,
   "metadata": {},
   "outputs": [
    {
     "name": "stdout",
     "output_type": "stream",
     "text": [
      "{0: '0', 1: '1', 2: '2', 3: '3', 4: '4', 5: '5', 6: '6', 7: '7', 8: '8', 9: '9', 10: 'A', 11: 'B', 12: 'C', 13: 'D', 14: 'E', 15: 'F', 16: 'G', 17: 'H', 18: 'I', 19: 'J', 20: 'K', 21: 'L', 22: 'M', 23: 'N', 24: 'O', 25: 'P', 26: 'Q', 27: 'R', 28: 'S', 29: 'T', 30: 'U', 31: 'V', 32: 'W', 33: 'X', 34: 'Y', 35: 'Z', 36: 'a', 37: 'b', 38: 'd', 39: 'e', 40: 'f', 41: 'g', 42: 'h', 43: 'n', 44: 'q', 45: 'r', 46: 't'}\n"
     ]
    }
   ],
   "source": [
    "#Initialising an empty dictionary\n",
    "label_dictionary = {}\n",
    "\n",
    "#Running a loop for ASCII equivalent to character conversion\n",
    "for index, label in enumerate(label_map):\n",
    "    label_dictionary[index] = chr(label)\n",
    "\n",
    "print(label_dictionary)\n"
   ]
  },
  {
   "cell_type": "code",
   "execution_count": 5,
   "metadata": {},
   "outputs": [
    {
     "name": "stdout",
     "output_type": "stream",
     "text": [
      "(131600, 785)\n"
     ]
    },
    {
     "name": "stdout",
     "output_type": "stream",
     "text": [
      "                 0         1         2         3         4              5    \\\n",
      "count  131600.000000  131600.0  131600.0  131600.0  131600.0  131600.000000   \n",
      "mean       23.000000       0.0       0.0       0.0       0.0       0.002036   \n",
      "std        13.564712       0.0       0.0       0.0       0.0       0.295477   \n",
      "min         0.000000       0.0       0.0       0.0       0.0       0.000000   \n",
      "25%        11.000000       0.0       0.0       0.0       0.0       0.000000   \n",
      "50%        23.000000       0.0       0.0       0.0       0.0       0.000000   \n",
      "75%        35.000000       0.0       0.0       0.0       0.0       0.000000   \n",
      "max        46.000000       0.0       0.0       0.0       0.0      63.000000   \n",
      "\n",
      "                 6              7              8              9    ...  \\\n",
      "count  131600.000000  131600.000000  131600.000000  131600.000000  ...   \n",
      "mean        0.012728       0.019354       0.016284       0.017447  ...   \n",
      "std         1.312534       1.586618       1.521459       1.692130  ...   \n",
      "min         0.000000       0.000000       0.000000       0.000000  ...   \n",
      "25%         0.000000       0.000000       0.000000       0.000000  ...   \n",
      "50%         0.000000       0.000000       0.000000       0.000000  ...   \n",
      "75%         0.000000       0.000000       0.000000       0.000000  ...   \n",
      "max       213.000000     217.000000     217.000000     217.000000  ...   \n",
      "\n",
      "                 775       776       777            778            779  \\\n",
      "count  131600.000000  131600.0  131600.0  131600.000000  131600.000000   \n",
      "mean        0.000266       0.0       0.0       0.001854       0.000243   \n",
      "std         0.096481       0.0       0.0       0.672608       0.088211   \n",
      "min         0.000000       0.0       0.0       0.000000       0.000000   \n",
      "25%         0.000000       0.0       0.0       0.000000       0.000000   \n",
      "50%         0.000000       0.0       0.0       0.000000       0.000000   \n",
      "75%         0.000000       0.0       0.0       0.000000       0.000000   \n",
      "max        35.000000       0.0       0.0     244.000000      32.000000   \n",
      "\n",
      "            780       781       782       783       784  \n",
      "count  131600.0  131600.0  131600.0  131600.0  131600.0  \n",
      "mean        0.0       0.0       0.0       0.0       0.0  \n",
      "std         0.0       0.0       0.0       0.0       0.0  \n",
      "min         0.0       0.0       0.0       0.0       0.0  \n",
      "25%         0.0       0.0       0.0       0.0       0.0  \n",
      "50%         0.0       0.0       0.0       0.0       0.0  \n",
      "75%         0.0       0.0       0.0       0.0       0.0  \n",
      "max         0.0       0.0       0.0       0.0       0.0  \n",
      "\n",
      "[8 rows x 785 columns]\n"
     ]
    }
   ],
   "source": [
    "print(df.shape)\n",
    "print(df.describe())"
   ]
  },
  {
   "cell_type": "code",
   "execution_count": 6,
   "metadata": {},
   "outputs": [
    {
     "data": {
      "text/html": [
       "<div>\n",
       "<style scoped>\n",
       "    .dataframe tbody tr th:only-of-type {\n",
       "        vertical-align: middle;\n",
       "    }\n",
       "\n",
       "    .dataframe tbody tr th {\n",
       "        vertical-align: top;\n",
       "    }\n",
       "\n",
       "    .dataframe thead th {\n",
       "        text-align: right;\n",
       "    }\n",
       "</style>\n",
       "<table border=\"1\" class=\"dataframe\">\n",
       "  <thead>\n",
       "    <tr style=\"text-align: right;\">\n",
       "      <th></th>\n",
       "      <th>0</th>\n",
       "      <th>1</th>\n",
       "      <th>2</th>\n",
       "      <th>3</th>\n",
       "      <th>4</th>\n",
       "      <th>5</th>\n",
       "      <th>6</th>\n",
       "      <th>7</th>\n",
       "      <th>8</th>\n",
       "      <th>9</th>\n",
       "      <th>...</th>\n",
       "      <th>775</th>\n",
       "      <th>776</th>\n",
       "      <th>777</th>\n",
       "      <th>778</th>\n",
       "      <th>779</th>\n",
       "      <th>780</th>\n",
       "      <th>781</th>\n",
       "      <th>782</th>\n",
       "      <th>783</th>\n",
       "      <th>784</th>\n",
       "    </tr>\n",
       "  </thead>\n",
       "  <tbody>\n",
       "    <tr>\n",
       "      <th>0</th>\n",
       "      <td>45</td>\n",
       "      <td>0</td>\n",
       "      <td>0</td>\n",
       "      <td>0</td>\n",
       "      <td>0</td>\n",
       "      <td>0</td>\n",
       "      <td>0</td>\n",
       "      <td>0</td>\n",
       "      <td>0</td>\n",
       "      <td>0</td>\n",
       "      <td>...</td>\n",
       "      <td>0</td>\n",
       "      <td>0</td>\n",
       "      <td>0</td>\n",
       "      <td>0</td>\n",
       "      <td>0</td>\n",
       "      <td>0</td>\n",
       "      <td>0</td>\n",
       "      <td>0</td>\n",
       "      <td>0</td>\n",
       "      <td>0</td>\n",
       "    </tr>\n",
       "    <tr>\n",
       "      <th>1</th>\n",
       "      <td>36</td>\n",
       "      <td>0</td>\n",
       "      <td>0</td>\n",
       "      <td>0</td>\n",
       "      <td>0</td>\n",
       "      <td>0</td>\n",
       "      <td>0</td>\n",
       "      <td>0</td>\n",
       "      <td>0</td>\n",
       "      <td>0</td>\n",
       "      <td>...</td>\n",
       "      <td>0</td>\n",
       "      <td>0</td>\n",
       "      <td>0</td>\n",
       "      <td>0</td>\n",
       "      <td>0</td>\n",
       "      <td>0</td>\n",
       "      <td>0</td>\n",
       "      <td>0</td>\n",
       "      <td>0</td>\n",
       "      <td>0</td>\n",
       "    </tr>\n",
       "    <tr>\n",
       "      <th>2</th>\n",
       "      <td>43</td>\n",
       "      <td>0</td>\n",
       "      <td>0</td>\n",
       "      <td>0</td>\n",
       "      <td>0</td>\n",
       "      <td>0</td>\n",
       "      <td>0</td>\n",
       "      <td>0</td>\n",
       "      <td>0</td>\n",
       "      <td>0</td>\n",
       "      <td>...</td>\n",
       "      <td>0</td>\n",
       "      <td>0</td>\n",
       "      <td>0</td>\n",
       "      <td>0</td>\n",
       "      <td>0</td>\n",
       "      <td>0</td>\n",
       "      <td>0</td>\n",
       "      <td>0</td>\n",
       "      <td>0</td>\n",
       "      <td>0</td>\n",
       "    </tr>\n",
       "    <tr>\n",
       "      <th>3</th>\n",
       "      <td>15</td>\n",
       "      <td>0</td>\n",
       "      <td>0</td>\n",
       "      <td>0</td>\n",
       "      <td>0</td>\n",
       "      <td>0</td>\n",
       "      <td>0</td>\n",
       "      <td>0</td>\n",
       "      <td>0</td>\n",
       "      <td>0</td>\n",
       "      <td>...</td>\n",
       "      <td>0</td>\n",
       "      <td>0</td>\n",
       "      <td>0</td>\n",
       "      <td>0</td>\n",
       "      <td>0</td>\n",
       "      <td>0</td>\n",
       "      <td>0</td>\n",
       "      <td>0</td>\n",
       "      <td>0</td>\n",
       "      <td>0</td>\n",
       "    </tr>\n",
       "    <tr>\n",
       "      <th>4</th>\n",
       "      <td>4</td>\n",
       "      <td>0</td>\n",
       "      <td>0</td>\n",
       "      <td>0</td>\n",
       "      <td>0</td>\n",
       "      <td>0</td>\n",
       "      <td>0</td>\n",
       "      <td>0</td>\n",
       "      <td>0</td>\n",
       "      <td>0</td>\n",
       "      <td>...</td>\n",
       "      <td>0</td>\n",
       "      <td>0</td>\n",
       "      <td>0</td>\n",
       "      <td>0</td>\n",
       "      <td>0</td>\n",
       "      <td>0</td>\n",
       "      <td>0</td>\n",
       "      <td>0</td>\n",
       "      <td>0</td>\n",
       "      <td>0</td>\n",
       "    </tr>\n",
       "    <tr>\n",
       "      <th>...</th>\n",
       "      <td>...</td>\n",
       "      <td>...</td>\n",
       "      <td>...</td>\n",
       "      <td>...</td>\n",
       "      <td>...</td>\n",
       "      <td>...</td>\n",
       "      <td>...</td>\n",
       "      <td>...</td>\n",
       "      <td>...</td>\n",
       "      <td>...</td>\n",
       "      <td>...</td>\n",
       "      <td>...</td>\n",
       "      <td>...</td>\n",
       "      <td>...</td>\n",
       "      <td>...</td>\n",
       "      <td>...</td>\n",
       "      <td>...</td>\n",
       "      <td>...</td>\n",
       "      <td>...</td>\n",
       "      <td>...</td>\n",
       "      <td>...</td>\n",
       "    </tr>\n",
       "    <tr>\n",
       "      <th>131595</th>\n",
       "      <td>45</td>\n",
       "      <td>0</td>\n",
       "      <td>0</td>\n",
       "      <td>0</td>\n",
       "      <td>0</td>\n",
       "      <td>0</td>\n",
       "      <td>0</td>\n",
       "      <td>0</td>\n",
       "      <td>0</td>\n",
       "      <td>0</td>\n",
       "      <td>...</td>\n",
       "      <td>0</td>\n",
       "      <td>0</td>\n",
       "      <td>0</td>\n",
       "      <td>0</td>\n",
       "      <td>0</td>\n",
       "      <td>0</td>\n",
       "      <td>0</td>\n",
       "      <td>0</td>\n",
       "      <td>0</td>\n",
       "      <td>0</td>\n",
       "    </tr>\n",
       "    <tr>\n",
       "      <th>131596</th>\n",
       "      <td>15</td>\n",
       "      <td>0</td>\n",
       "      <td>0</td>\n",
       "      <td>0</td>\n",
       "      <td>0</td>\n",
       "      <td>0</td>\n",
       "      <td>0</td>\n",
       "      <td>0</td>\n",
       "      <td>0</td>\n",
       "      <td>0</td>\n",
       "      <td>...</td>\n",
       "      <td>0</td>\n",
       "      <td>0</td>\n",
       "      <td>0</td>\n",
       "      <td>0</td>\n",
       "      <td>0</td>\n",
       "      <td>0</td>\n",
       "      <td>0</td>\n",
       "      <td>0</td>\n",
       "      <td>0</td>\n",
       "      <td>0</td>\n",
       "    </tr>\n",
       "    <tr>\n",
       "      <th>131597</th>\n",
       "      <td>1</td>\n",
       "      <td>0</td>\n",
       "      <td>0</td>\n",
       "      <td>0</td>\n",
       "      <td>0</td>\n",
       "      <td>0</td>\n",
       "      <td>0</td>\n",
       "      <td>0</td>\n",
       "      <td>0</td>\n",
       "      <td>0</td>\n",
       "      <td>...</td>\n",
       "      <td>0</td>\n",
       "      <td>0</td>\n",
       "      <td>0</td>\n",
       "      <td>0</td>\n",
       "      <td>0</td>\n",
       "      <td>0</td>\n",
       "      <td>0</td>\n",
       "      <td>0</td>\n",
       "      <td>0</td>\n",
       "      <td>0</td>\n",
       "    </tr>\n",
       "    <tr>\n",
       "      <th>131598</th>\n",
       "      <td>26</td>\n",
       "      <td>0</td>\n",
       "      <td>0</td>\n",
       "      <td>0</td>\n",
       "      <td>0</td>\n",
       "      <td>0</td>\n",
       "      <td>0</td>\n",
       "      <td>0</td>\n",
       "      <td>0</td>\n",
       "      <td>0</td>\n",
       "      <td>...</td>\n",
       "      <td>0</td>\n",
       "      <td>0</td>\n",
       "      <td>0</td>\n",
       "      <td>0</td>\n",
       "      <td>0</td>\n",
       "      <td>0</td>\n",
       "      <td>0</td>\n",
       "      <td>0</td>\n",
       "      <td>0</td>\n",
       "      <td>0</td>\n",
       "    </tr>\n",
       "    <tr>\n",
       "      <th>131599</th>\n",
       "      <td>33</td>\n",
       "      <td>0</td>\n",
       "      <td>0</td>\n",
       "      <td>0</td>\n",
       "      <td>0</td>\n",
       "      <td>0</td>\n",
       "      <td>0</td>\n",
       "      <td>0</td>\n",
       "      <td>0</td>\n",
       "      <td>0</td>\n",
       "      <td>...</td>\n",
       "      <td>0</td>\n",
       "      <td>0</td>\n",
       "      <td>0</td>\n",
       "      <td>0</td>\n",
       "      <td>0</td>\n",
       "      <td>0</td>\n",
       "      <td>0</td>\n",
       "      <td>0</td>\n",
       "      <td>0</td>\n",
       "      <td>0</td>\n",
       "    </tr>\n",
       "  </tbody>\n",
       "</table>\n",
       "<p>131600 rows × 785 columns</p>\n",
       "</div>"
      ],
      "text/plain": [
       "        0    1    2    3    4    5    6    7    8    9    ...  775  776  777  \\\n",
       "0        45    0    0    0    0    0    0    0    0    0  ...    0    0    0   \n",
       "1        36    0    0    0    0    0    0    0    0    0  ...    0    0    0   \n",
       "2        43    0    0    0    0    0    0    0    0    0  ...    0    0    0   \n",
       "3        15    0    0    0    0    0    0    0    0    0  ...    0    0    0   \n",
       "4         4    0    0    0    0    0    0    0    0    0  ...    0    0    0   \n",
       "...     ...  ...  ...  ...  ...  ...  ...  ...  ...  ...  ...  ...  ...  ...   \n",
       "131595   45    0    0    0    0    0    0    0    0    0  ...    0    0    0   \n",
       "131596   15    0    0    0    0    0    0    0    0    0  ...    0    0    0   \n",
       "131597    1    0    0    0    0    0    0    0    0    0  ...    0    0    0   \n",
       "131598   26    0    0    0    0    0    0    0    0    0  ...    0    0    0   \n",
       "131599   33    0    0    0    0    0    0    0    0    0  ...    0    0    0   \n",
       "\n",
       "        778  779  780  781  782  783  784  \n",
       "0         0    0    0    0    0    0    0  \n",
       "1         0    0    0    0    0    0    0  \n",
       "2         0    0    0    0    0    0    0  \n",
       "3         0    0    0    0    0    0    0  \n",
       "4         0    0    0    0    0    0    0  \n",
       "...     ...  ...  ...  ...  ...  ...  ...  \n",
       "131595    0    0    0    0    0    0    0  \n",
       "131596    0    0    0    0    0    0    0  \n",
       "131597    0    0    0    0    0    0    0  \n",
       "131598    0    0    0    0    0    0    0  \n",
       "131599    0    0    0    0    0    0    0  \n",
       "\n",
       "[131600 rows x 785 columns]"
      ]
     },
     "execution_count": 6,
     "metadata": {},
     "output_type": "execute_result"
    }
   ],
   "source": [
    "df"
   ]
  },
  {
   "cell_type": "code",
   "execution_count": 7,
   "metadata": {},
   "outputs": [],
   "source": [
    "df_nums = df[df[0] <= 9]\n",
    "df_lletres = df[df[0] >= 10]"
   ]
  },
  {
   "cell_type": "code",
   "execution_count": 8,
   "metadata": {},
   "outputs": [],
   "source": [
    "X_nums = df_nums.iloc[:,1:]\n",
    "y_nums = df_nums.iloc[:,0]\n",
    "train_x_nums, test_x_nums, train_y_nums, test_y_nums = train_test_split(X_nums, y_nums, test_size=0.2, random_state=42, shuffle=True)\n",
    "X_lletres = df_lletres.iloc[:,1:]\n",
    "y_lletres = df_lletres.iloc[:,0]\n",
    "train_x_lletres, test_x_lletres, train_y_lletres, test_y_lletres = train_test_split(X_lletres, y_lletres, test_size=0.2, random_state=42, shuffle=True)"
   ]
  },
  {
   "cell_type": "code",
   "execution_count": 9,
   "metadata": {},
   "outputs": [],
   "source": [
    "resh = lambda x: np.array(x).reshape(28, 28)\n",
    "train_x_nums_2d = train_x_nums.apply(resh, axis=1)\n",
    "test_x_nums_2d = test_x_nums.apply(resh, axis=1)\n",
    "train_x_lletres_2d = train_x_lletres.apply(resh, axis=1)\n",
    "test_x_lletres_2d = test_x_lletres.apply(resh, axis=1)"
   ]
  },
  {
   "cell_type": "code",
   "execution_count": 10,
   "metadata": {},
   "outputs": [
    {
     "name": "stdout",
     "output_type": "stream",
     "text": [
      "(22400, 784)\n",
      "(82880, 784)\n",
      "(105280, 784)\n"
     ]
    }
   ],
   "source": [
    "print(train_x_nums.shape)\n",
    "print(train_x_lletres.shape)\n",
    "print(pd.concat([train_x_lletres,train_x_nums]).shape)"
   ]
  },
  {
   "cell_type": "code",
   "execution_count": 42,
   "metadata": {},
   "outputs": [
    {
     "name": "stdout",
     "output_type": "stream",
     "text": [
      "Fold # 0\n"
     ]
    }
   ],
   "source": [
    "kfold = KFold(n_splits=5, shuffle=True, random_state=42)\n",
    "output_lletres = pd.DataFrame(columns=['#fold', 'accuracy_score','f1_score','precision_score','recall_score'])\n",
    "for i, (train_index, test_index) in enumerate(kfold.split(df_nums)):\n",
    "    print(\"Fold #\", i)\n",
    "    X_train, X_test = df_nums.iloc[train_index,1:], df_nums.iloc[test_index,1:]\n",
    "    y_train, y_test = df_nums.iloc[train_index,0], df_nums.iloc[test_index,0]\n",
    "    model = SVC(kernel='linear', C=1, random_state=42)\n",
    "    model.fit(X_train, y_train)\n",
    "    print(\"fitted!!\")\n",
    "    y_pred = model.predict(X_test)\n",
    "    print(\"predicted!!\")\n",
    "    print(\"Accuracy:\", accuracy_score(y_test, y_pred))\n",
    "    print(\"F1:\", f1_score(y_test, y_pred, average='macro'))\n",
    "    print(\"Precision:\", precision_score(y_test, y_pred, average='macro'))\n",
    "    print(\"Recall:\", recall_score(y_test, y_pred, average='macro'))\n",
    "    output_lletres = output_lletres.append({'#fold': i,\n",
    "                                            'accuracy_score': accuracy_score(y_test, y_pred),\n",
    "                                            'f1_score': f1_score(y_test, y_pred, average='macro'),\n",
    "                                            'precision_score': precision_score(y_test, y_pred, average='macro'),\n",
    "                                            'recall_score': recall_score(y_test, y_pred, average='macro')}, ignore_index=True)"
   ]
  },
  {
   "cell_type": "code",
   "execution_count": 39,
   "metadata": {},
   "outputs": [
    {
     "ename": "InvalidParameterError",
     "evalue": "The 'scoring' parameter of check_scoring must be a str among {'recall', 'precision_weighted', 'jaccard_samples', 'neg_mean_absolute_percentage_error', 'average_precision', 'f1_samples', 'neg_mean_gamma_deviance', 'precision_micro', 'max_error', 'neg_median_absolute_error', 'normalized_mutual_info_score', 'r2', 'recall_micro', 'neg_brier_score', 'balanced_accuracy', 'precision', 'recall_macro', 'neg_root_mean_squared_error', 'f1_micro', 'roc_auc_ovo_weighted', 'neg_log_loss', 'roc_auc', 'v_measure_score', 'jaccard_macro', 'adjusted_mutual_info_score', 'positive_likelihood_ratio', 'recall_samples', 'adjusted_rand_score', 'f1_weighted', 'matthews_corrcoef', 'rand_score', 'mutual_info_score', 'neg_mean_squared_log_error', 'explained_variance', 'f1', 'top_k_accuracy', 'neg_mean_poisson_deviance', 'accuracy', 'recall_weighted', 'roc_auc_ovo', 'neg_mean_squared_error', 'roc_auc_ovr_weighted', 'neg_mean_absolute_error', 'fowlkes_mallows_score', 'homogeneity_score', 'jaccard', 'completeness_score', 'jaccard_micro', 'neg_negative_likelihood_ratio', 'roc_auc_ovr', 'precision_samples', 'jaccard_weighted', 'f1_macro', 'precision_macro'}, a callable or None. Got ['accuracy', 'f1_score', 'precision', 'recall'] instead.",
     "output_type": "error",
     "traceback": [
      "\u001b[1;31m---------------------------------------------------------------------------\u001b[0m",
      "\u001b[1;31mInvalidParameterError\u001b[0m                     Traceback (most recent call last)",
      "\u001b[1;32mc:\\Users\\berna\\Desktop\\enginyeria de gates\\4t curs\\psiv2\\PSIV2\\matricules\\notebooks\\svc_emnist.ipynb Cell 11\u001b[0m line \u001b[0;36m3\n\u001b[0;32m      <a href='vscode-notebook-cell:/c%3A/Users/berna/Desktop/enginyeria%20de%20gates/4t%20curs/psiv2/PSIV2/matricules/notebooks/svc_emnist.ipynb#X13sZmlsZQ%3D%3D?line=0'>1</a>\u001b[0m SVClassifier_nums_1d \u001b[39m=\u001b[39m SVC(kernel\u001b[39m=\u001b[39m\u001b[39m'\u001b[39m\u001b[39mlinear\u001b[39m\u001b[39m'\u001b[39m, verbose\u001b[39m=\u001b[39m\u001b[39mTrue\u001b[39;00m, random_state\u001b[39m=\u001b[39m\u001b[39m42\u001b[39m, C\u001b[39m=\u001b[39m\u001b[39m1.0\u001b[39m)\n\u001b[0;32m      <a href='vscode-notebook-cell:/c%3A/Users/berna/Desktop/enginyeria%20de%20gates/4t%20curs/psiv2/PSIV2/matricules/notebooks/svc_emnist.ipynb#X13sZmlsZQ%3D%3D?line=1'>2</a>\u001b[0m \u001b[39m# SVClassifier_nums_1d.fit(train_x_nums,train_y_nums)\u001b[39;00m\n\u001b[1;32m----> <a href='vscode-notebook-cell:/c%3A/Users/berna/Desktop/enginyeria%20de%20gates/4t%20curs/psiv2/PSIV2/matricules/notebooks/svc_emnist.ipynb#X13sZmlsZQ%3D%3D?line=2'>3</a>\u001b[0m cv_nums \u001b[39m=\u001b[39m cross_val_score(SVClassifier_nums_1d, train_x_nums, train_y_nums, cv\u001b[39m=\u001b[39;49m\u001b[39m5\u001b[39;49m,scoring\u001b[39m=\u001b[39;49m[\u001b[39m'\u001b[39;49m\u001b[39maccuracy\u001b[39;49m\u001b[39m'\u001b[39;49m,\u001b[39m'\u001b[39;49m\u001b[39mf1_score\u001b[39;49m\u001b[39m'\u001b[39;49m,\u001b[39m'\u001b[39;49m\u001b[39mprecision\u001b[39;49m\u001b[39m'\u001b[39;49m,\u001b[39m'\u001b[39;49m\u001b[39mrecall\u001b[39;49m\u001b[39m'\u001b[39;49m])\n",
      "File \u001b[1;32mc:\\Users\\berna\\anaconda3\\envs\\torch\\lib\\site-packages\\sklearn\\model_selection\\_validation.py:560\u001b[0m, in \u001b[0;36mcross_val_score\u001b[1;34m(estimator, X, y, groups, scoring, cv, n_jobs, verbose, fit_params, pre_dispatch, error_score)\u001b[0m\n\u001b[0;32m    442\u001b[0m \u001b[39m\"\"\"Evaluate a score by cross-validation.\u001b[39;00m\n\u001b[0;32m    443\u001b[0m \n\u001b[0;32m    444\u001b[0m \u001b[39mRead more in the :ref:`User Guide <cross_validation>`.\u001b[39;00m\n\u001b[1;32m   (...)\u001b[0m\n\u001b[0;32m    557\u001b[0m \u001b[39m[0.3315057  0.08022103 0.03531816]\u001b[39;00m\n\u001b[0;32m    558\u001b[0m \u001b[39m\"\"\"\u001b[39;00m\n\u001b[0;32m    559\u001b[0m \u001b[39m# To ensure multimetric format is not supported\u001b[39;00m\n\u001b[1;32m--> 560\u001b[0m scorer \u001b[39m=\u001b[39m check_scoring(estimator, scoring\u001b[39m=\u001b[39;49mscoring)\n\u001b[0;32m    562\u001b[0m cv_results \u001b[39m=\u001b[39m cross_validate(\n\u001b[0;32m    563\u001b[0m     estimator\u001b[39m=\u001b[39mestimator,\n\u001b[0;32m    564\u001b[0m     X\u001b[39m=\u001b[39mX,\n\u001b[1;32m   (...)\u001b[0m\n\u001b[0;32m    573\u001b[0m     error_score\u001b[39m=\u001b[39merror_score,\n\u001b[0;32m    574\u001b[0m )\n\u001b[0;32m    575\u001b[0m \u001b[39mreturn\u001b[39;00m cv_results[\u001b[39m\"\u001b[39m\u001b[39mtest_score\u001b[39m\u001b[39m\"\u001b[39m]\n",
      "File \u001b[1;32mc:\\Users\\berna\\anaconda3\\envs\\torch\\lib\\site-packages\\sklearn\\utils\\_param_validation.py:201\u001b[0m, in \u001b[0;36mvalidate_params.<locals>.decorator.<locals>.wrapper\u001b[1;34m(*args, **kwargs)\u001b[0m\n\u001b[0;32m    198\u001b[0m to_ignore \u001b[39m+\u001b[39m\u001b[39m=\u001b[39m [\u001b[39m\"\u001b[39m\u001b[39mself\u001b[39m\u001b[39m\"\u001b[39m, \u001b[39m\"\u001b[39m\u001b[39mcls\u001b[39m\u001b[39m\"\u001b[39m]\n\u001b[0;32m    199\u001b[0m params \u001b[39m=\u001b[39m {k: v \u001b[39mfor\u001b[39;00m k, v \u001b[39min\u001b[39;00m params\u001b[39m.\u001b[39marguments\u001b[39m.\u001b[39mitems() \u001b[39mif\u001b[39;00m k \u001b[39mnot\u001b[39;00m \u001b[39min\u001b[39;00m to_ignore}\n\u001b[1;32m--> 201\u001b[0m validate_parameter_constraints(\n\u001b[0;32m    202\u001b[0m     parameter_constraints, params, caller_name\u001b[39m=\u001b[39;49mfunc\u001b[39m.\u001b[39;49m\u001b[39m__qualname__\u001b[39;49m\n\u001b[0;32m    203\u001b[0m )\n\u001b[0;32m    205\u001b[0m \u001b[39mtry\u001b[39;00m:\n\u001b[0;32m    206\u001b[0m     \u001b[39mwith\u001b[39;00m config_context(\n\u001b[0;32m    207\u001b[0m         skip_parameter_validation\u001b[39m=\u001b[39m(\n\u001b[0;32m    208\u001b[0m             prefer_skip_nested_validation \u001b[39mor\u001b[39;00m global_skip_validation\n\u001b[0;32m    209\u001b[0m         )\n\u001b[0;32m    210\u001b[0m     ):\n",
      "File \u001b[1;32mc:\\Users\\berna\\anaconda3\\envs\\torch\\lib\\site-packages\\sklearn\\utils\\_param_validation.py:95\u001b[0m, in \u001b[0;36mvalidate_parameter_constraints\u001b[1;34m(parameter_constraints, params, caller_name)\u001b[0m\n\u001b[0;32m     89\u001b[0m \u001b[39melse\u001b[39;00m:\n\u001b[0;32m     90\u001b[0m     constraints_str \u001b[39m=\u001b[39m (\n\u001b[0;32m     91\u001b[0m         \u001b[39mf\u001b[39m\u001b[39m\"\u001b[39m\u001b[39m{\u001b[39;00m\u001b[39m'\u001b[39m\u001b[39m, \u001b[39m\u001b[39m'\u001b[39m\u001b[39m.\u001b[39mjoin([\u001b[39mstr\u001b[39m(c) \u001b[39mfor\u001b[39;00m c \u001b[39min\u001b[39;00m constraints[:\u001b[39m-\u001b[39m\u001b[39m1\u001b[39m]])\u001b[39m}\u001b[39;00m\u001b[39m or\u001b[39m\u001b[39m\"\u001b[39m\n\u001b[0;32m     92\u001b[0m         \u001b[39mf\u001b[39m\u001b[39m\"\u001b[39m\u001b[39m \u001b[39m\u001b[39m{\u001b[39;00mconstraints[\u001b[39m-\u001b[39m\u001b[39m1\u001b[39m]\u001b[39m}\u001b[39;00m\u001b[39m\"\u001b[39m\n\u001b[0;32m     93\u001b[0m     )\n\u001b[1;32m---> 95\u001b[0m \u001b[39mraise\u001b[39;00m InvalidParameterError(\n\u001b[0;32m     96\u001b[0m     \u001b[39mf\u001b[39m\u001b[39m\"\u001b[39m\u001b[39mThe \u001b[39m\u001b[39m{\u001b[39;00mparam_name\u001b[39m!r}\u001b[39;00m\u001b[39m parameter of \u001b[39m\u001b[39m{\u001b[39;00mcaller_name\u001b[39m}\u001b[39;00m\u001b[39m must be\u001b[39m\u001b[39m\"\u001b[39m\n\u001b[0;32m     97\u001b[0m     \u001b[39mf\u001b[39m\u001b[39m\"\u001b[39m\u001b[39m \u001b[39m\u001b[39m{\u001b[39;00mconstraints_str\u001b[39m}\u001b[39;00m\u001b[39m. Got \u001b[39m\u001b[39m{\u001b[39;00mparam_val\u001b[39m!r}\u001b[39;00m\u001b[39m instead.\u001b[39m\u001b[39m\"\u001b[39m\n\u001b[0;32m     98\u001b[0m )\n",
      "\u001b[1;31mInvalidParameterError\u001b[0m: The 'scoring' parameter of check_scoring must be a str among {'recall', 'precision_weighted', 'jaccard_samples', 'neg_mean_absolute_percentage_error', 'average_precision', 'f1_samples', 'neg_mean_gamma_deviance', 'precision_micro', 'max_error', 'neg_median_absolute_error', 'normalized_mutual_info_score', 'r2', 'recall_micro', 'neg_brier_score', 'balanced_accuracy', 'precision', 'recall_macro', 'neg_root_mean_squared_error', 'f1_micro', 'roc_auc_ovo_weighted', 'neg_log_loss', 'roc_auc', 'v_measure_score', 'jaccard_macro', 'adjusted_mutual_info_score', 'positive_likelihood_ratio', 'recall_samples', 'adjusted_rand_score', 'f1_weighted', 'matthews_corrcoef', 'rand_score', 'mutual_info_score', 'neg_mean_squared_log_error', 'explained_variance', 'f1', 'top_k_accuracy', 'neg_mean_poisson_deviance', 'accuracy', 'recall_weighted', 'roc_auc_ovo', 'neg_mean_squared_error', 'roc_auc_ovr_weighted', 'neg_mean_absolute_error', 'fowlkes_mallows_score', 'homogeneity_score', 'jaccard', 'completeness_score', 'jaccard_micro', 'neg_negative_likelihood_ratio', 'roc_auc_ovr', 'precision_samples', 'jaccard_weighted', 'f1_macro', 'precision_macro'}, a callable or None. Got ['accuracy', 'f1_score', 'precision', 'recall'] instead."
     ]
    }
   ],
   "source": [
    "SVClassifier_nums_1d = SVC(kernel='linear', verbose=True, random_state=42, C=1.0)\n",
    "# SVClassifier_nums_1d.fit(train_x_nums,train_y_nums)\n",
    "cv_nums = cross_val_score(SVClassifier_nums_1d, train_x_nums, train_y_nums, cv=5,scoring=['accuracy','f1_score','precision','recall'])\n"
   ]
  },
  {
   "cell_type": "code",
   "execution_count": 37,
   "metadata": {},
   "outputs": [
    {
     "data": {
      "text/plain": [
       "array([0.92142857, 0.92834821, 0.92745536, 0.925     , 0.92723214])"
      ]
     },
     "execution_count": 37,
     "metadata": {},
     "output_type": "execute_result"
    }
   ],
   "source": [
    "cv_nums"
   ]
  },
  {
   "cell_type": "code",
   "execution_count": 38,
   "metadata": {},
   "outputs": [
    {
     "ename": "NotFittedError",
     "evalue": "This SVC instance is not fitted yet. Call 'fit' with appropriate arguments before using this estimator.",
     "output_type": "error",
     "traceback": [
      "\u001b[1;31m---------------------------------------------------------------------------\u001b[0m",
      "\u001b[1;31mNotFittedError\u001b[0m                            Traceback (most recent call last)",
      "\u001b[1;32mc:\\Users\\berna\\Desktop\\enginyeria de gates\\4t curs\\psiv2\\PSIV2\\matricules\\notebooks\\svc_emnist.ipynb Cell 13\u001b[0m line \u001b[0;36m1\n\u001b[1;32m----> <a href='vscode-notebook-cell:/c%3A/Users/berna/Desktop/enginyeria%20de%20gates/4t%20curs/psiv2/PSIV2/matricules/notebooks/svc_emnist.ipynb#X14sZmlsZQ%3D%3D?line=0'>1</a>\u001b[0m SVC_pred_nums_1d \u001b[39m=\u001b[39m SVClassifier_nums_1d\u001b[39m.\u001b[39;49mpredict(test_x_nums)\n\u001b[0;32m      <a href='vscode-notebook-cell:/c%3A/Users/berna/Desktop/enginyeria%20de%20gates/4t%20curs/psiv2/PSIV2/matricules/notebooks/svc_emnist.ipynb#X14sZmlsZQ%3D%3D?line=1'>2</a>\u001b[0m \u001b[39mprint\u001b[39m(classification_report(test_y_nums, SVC_pred_nums_1d))\n",
      "File \u001b[1;32mc:\\Users\\berna\\anaconda3\\envs\\torch\\lib\\site-packages\\sklearn\\svm\\_base.py:805\u001b[0m, in \u001b[0;36mBaseSVC.predict\u001b[1;34m(self, X)\u001b[0m\n\u001b[0;32m    788\u001b[0m \u001b[39mdef\u001b[39;00m \u001b[39mpredict\u001b[39m(\u001b[39mself\u001b[39m, X):\n\u001b[0;32m    789\u001b[0m     \u001b[39m\"\"\"Perform classification on samples in X.\u001b[39;00m\n\u001b[0;32m    790\u001b[0m \n\u001b[0;32m    791\u001b[0m \u001b[39m    For an one-class model, +1 or -1 is returned.\u001b[39;00m\n\u001b[1;32m   (...)\u001b[0m\n\u001b[0;32m    803\u001b[0m \u001b[39m        Class labels for samples in X.\u001b[39;00m\n\u001b[0;32m    804\u001b[0m \u001b[39m    \"\"\"\u001b[39;00m\n\u001b[1;32m--> 805\u001b[0m     check_is_fitted(\u001b[39mself\u001b[39;49m)\n\u001b[0;32m    806\u001b[0m     \u001b[39mif\u001b[39;00m \u001b[39mself\u001b[39m\u001b[39m.\u001b[39mbreak_ties \u001b[39mand\u001b[39;00m \u001b[39mself\u001b[39m\u001b[39m.\u001b[39mdecision_function_shape \u001b[39m==\u001b[39m \u001b[39m\"\u001b[39m\u001b[39movo\u001b[39m\u001b[39m\"\u001b[39m:\n\u001b[0;32m    807\u001b[0m         \u001b[39mraise\u001b[39;00m \u001b[39mValueError\u001b[39;00m(\n\u001b[0;32m    808\u001b[0m             \u001b[39m\"\u001b[39m\u001b[39mbreak_ties must be False when decision_function_shape is \u001b[39m\u001b[39m'\u001b[39m\u001b[39movo\u001b[39m\u001b[39m'\u001b[39m\u001b[39m\"\u001b[39m\n\u001b[0;32m    809\u001b[0m         )\n",
      "File \u001b[1;32mc:\\Users\\berna\\anaconda3\\envs\\torch\\lib\\site-packages\\sklearn\\utils\\validation.py:1461\u001b[0m, in \u001b[0;36mcheck_is_fitted\u001b[1;34m(estimator, attributes, msg, all_or_any)\u001b[0m\n\u001b[0;32m   1458\u001b[0m     \u001b[39mraise\u001b[39;00m \u001b[39mTypeError\u001b[39;00m(\u001b[39m\"\u001b[39m\u001b[39m%s\u001b[39;00m\u001b[39m is not an estimator instance.\u001b[39m\u001b[39m\"\u001b[39m \u001b[39m%\u001b[39m (estimator))\n\u001b[0;32m   1460\u001b[0m \u001b[39mif\u001b[39;00m \u001b[39mnot\u001b[39;00m _is_fitted(estimator, attributes, all_or_any):\n\u001b[1;32m-> 1461\u001b[0m     \u001b[39mraise\u001b[39;00m NotFittedError(msg \u001b[39m%\u001b[39m {\u001b[39m\"\u001b[39m\u001b[39mname\u001b[39m\u001b[39m\"\u001b[39m: \u001b[39mtype\u001b[39m(estimator)\u001b[39m.\u001b[39m\u001b[39m__name__\u001b[39m})\n",
      "\u001b[1;31mNotFittedError\u001b[0m: This SVC instance is not fitted yet. Call 'fit' with appropriate arguments before using this estimator."
     ]
    }
   ],
   "source": [
    "SVC_pred_nums_1d = SVClassifier_nums_1d.predict(test_x_nums)\n",
    "print(classification_report(test_y_nums, SVC_pred_nums_1d))"
   ]
  },
  {
   "cell_type": "code",
   "execution_count": 13,
   "metadata": {},
   "outputs": [
    {
     "data": {
      "text/plain": [
       "(22400, 784)"
      ]
     },
     "execution_count": 13,
     "metadata": {},
     "output_type": "execute_result"
    }
   ],
   "source": [
    "train_x_nums.shape"
   ]
  },
  {
   "cell_type": "code",
   "execution_count": 14,
   "metadata": {},
   "outputs": [
    {
     "name": "stdout",
     "output_type": "stream",
     "text": [
      "(22400, 784)\n",
      "(11088, 784)\n",
      "10    308\n",
      "11    308\n",
      "30    308\n",
      "31    308\n",
      "32    308\n",
      "33    308\n",
      "34    308\n",
      "35    308\n",
      "36    308\n",
      "37    308\n",
      "38    308\n",
      "39    308\n",
      "40    308\n",
      "41    308\n",
      "42    308\n",
      "43    308\n",
      "44    308\n",
      "29    308\n",
      "28    308\n",
      "27    308\n",
      "18    308\n",
      "12    308\n",
      "13    308\n",
      "14    308\n",
      "15    308\n",
      "16    308\n",
      "17    308\n",
      "19    308\n",
      "26    308\n",
      "20    308\n",
      "21    308\n",
      "22    308\n",
      "23    308\n",
      "24    308\n",
      "25    308\n",
      "45    308\n",
      "Name: 0, dtype: int64\n"
     ]
    }
   ],
   "source": [
    "# resampling amb 10 classes\n",
    "samples = list()\n",
    "for i in range(df_lletres[0].max()):\n",
    "    if i < 9: continue\n",
    "    samples.append(df_lletres[df_lletres[0]==i].sample(frac=0.11, random_state=42))\n",
    "\n",
    "sample_lletres = pd.concat(samples)\n",
    "train_y_lletres = sample_lletres.iloc[:,0]\n",
    "train_x_lletres = sample_lletres.iloc[:,1:]\n",
    "print(train_x_nums.shape)\n",
    "print(train_x_lletres.shape)\n",
    "# print(train_y_lletres.iloc[0])\n",
    "print(train_y_lletres.value_counts())"
   ]
  },
  {
   "cell_type": "code",
   "execution_count": 15,
   "metadata": {},
   "outputs": [
    {
     "data": {
      "text/plain": [
       "Int64Index([  0,   1,   2,   3,   4,   5,   6,   7,   8,   9,\n",
       "            ...\n",
       "            775, 776, 777, 778, 779, 780, 781, 782, 783, 784],\n",
       "           dtype='int64', length=785)"
      ]
     },
     "execution_count": 15,
     "metadata": {},
     "output_type": "execute_result"
    }
   ],
   "source": [
    "sample_lletres.columns"
   ]
  },
  {
   "cell_type": "code",
   "execution_count": 16,
   "metadata": {},
   "outputs": [
    {
     "name": "stdout",
     "output_type": "stream",
     "text": [
      "[LibSVM]"
     ]
    },
    {
     "data": {
      "text/html": [
       "<style>#sk-container-id-2 {color: black;}#sk-container-id-2 pre{padding: 0;}#sk-container-id-2 div.sk-toggleable {background-color: white;}#sk-container-id-2 label.sk-toggleable__label {cursor: pointer;display: block;width: 100%;margin-bottom: 0;padding: 0.3em;box-sizing: border-box;text-align: center;}#sk-container-id-2 label.sk-toggleable__label-arrow:before {content: \"▸\";float: left;margin-right: 0.25em;color: #696969;}#sk-container-id-2 label.sk-toggleable__label-arrow:hover:before {color: black;}#sk-container-id-2 div.sk-estimator:hover label.sk-toggleable__label-arrow:before {color: black;}#sk-container-id-2 div.sk-toggleable__content {max-height: 0;max-width: 0;overflow: hidden;text-align: left;background-color: #f0f8ff;}#sk-container-id-2 div.sk-toggleable__content pre {margin: 0.2em;color: black;border-radius: 0.25em;background-color: #f0f8ff;}#sk-container-id-2 input.sk-toggleable__control:checked~div.sk-toggleable__content {max-height: 200px;max-width: 100%;overflow: auto;}#sk-container-id-2 input.sk-toggleable__control:checked~label.sk-toggleable__label-arrow:before {content: \"▾\";}#sk-container-id-2 div.sk-estimator input.sk-toggleable__control:checked~label.sk-toggleable__label {background-color: #d4ebff;}#sk-container-id-2 div.sk-label input.sk-toggleable__control:checked~label.sk-toggleable__label {background-color: #d4ebff;}#sk-container-id-2 input.sk-hidden--visually {border: 0;clip: rect(1px 1px 1px 1px);clip: rect(1px, 1px, 1px, 1px);height: 1px;margin: -1px;overflow: hidden;padding: 0;position: absolute;width: 1px;}#sk-container-id-2 div.sk-estimator {font-family: monospace;background-color: #f0f8ff;border: 1px dotted black;border-radius: 0.25em;box-sizing: border-box;margin-bottom: 0.5em;}#sk-container-id-2 div.sk-estimator:hover {background-color: #d4ebff;}#sk-container-id-2 div.sk-parallel-item::after {content: \"\";width: 100%;border-bottom: 1px solid gray;flex-grow: 1;}#sk-container-id-2 div.sk-label:hover label.sk-toggleable__label {background-color: #d4ebff;}#sk-container-id-2 div.sk-serial::before {content: \"\";position: absolute;border-left: 1px solid gray;box-sizing: border-box;top: 0;bottom: 0;left: 50%;z-index: 0;}#sk-container-id-2 div.sk-serial {display: flex;flex-direction: column;align-items: center;background-color: white;padding-right: 0.2em;padding-left: 0.2em;position: relative;}#sk-container-id-2 div.sk-item {position: relative;z-index: 1;}#sk-container-id-2 div.sk-parallel {display: flex;align-items: stretch;justify-content: center;background-color: white;position: relative;}#sk-container-id-2 div.sk-item::before, #sk-container-id-2 div.sk-parallel-item::before {content: \"\";position: absolute;border-left: 1px solid gray;box-sizing: border-box;top: 0;bottom: 0;left: 50%;z-index: -1;}#sk-container-id-2 div.sk-parallel-item {display: flex;flex-direction: column;z-index: 1;position: relative;background-color: white;}#sk-container-id-2 div.sk-parallel-item:first-child::after {align-self: flex-end;width: 50%;}#sk-container-id-2 div.sk-parallel-item:last-child::after {align-self: flex-start;width: 50%;}#sk-container-id-2 div.sk-parallel-item:only-child::after {width: 0;}#sk-container-id-2 div.sk-dashed-wrapped {border: 1px dashed gray;margin: 0 0.4em 0.5em 0.4em;box-sizing: border-box;padding-bottom: 0.4em;background-color: white;}#sk-container-id-2 div.sk-label label {font-family: monospace;font-weight: bold;display: inline-block;line-height: 1.2em;}#sk-container-id-2 div.sk-label-container {text-align: center;}#sk-container-id-2 div.sk-container {/* jupyter's `normalize.less` sets `[hidden] { display: none; }` but bootstrap.min.css set `[hidden] { display: none !important; }` so we also need the `!important` here to be able to override the default hidden behavior on the sphinx rendered scikit-learn.org. See: https://github.com/scikit-learn/scikit-learn/issues/21755 */display: inline-block !important;position: relative;}#sk-container-id-2 div.sk-text-repr-fallback {display: none;}</style><div id=\"sk-container-id-2\" class=\"sk-top-container\"><div class=\"sk-text-repr-fallback\"><pre>SVC(kernel=&#x27;linear&#x27;, random_state=42, verbose=True)</pre><b>In a Jupyter environment, please rerun this cell to show the HTML representation or trust the notebook. <br />On GitHub, the HTML representation is unable to render, please try loading this page with nbviewer.org.</b></div><div class=\"sk-container\" hidden><div class=\"sk-item\"><div class=\"sk-estimator sk-toggleable\"><input class=\"sk-toggleable__control sk-hidden--visually\" id=\"sk-estimator-id-2\" type=\"checkbox\" checked><label for=\"sk-estimator-id-2\" class=\"sk-toggleable__label sk-toggleable__label-arrow\">SVC</label><div class=\"sk-toggleable__content\"><pre>SVC(kernel=&#x27;linear&#x27;, random_state=42, verbose=True)</pre></div></div></div></div></div>"
      ],
      "text/plain": [
       "SVC(kernel='linear', random_state=42, verbose=True)"
      ]
     },
     "execution_count": 16,
     "metadata": {},
     "output_type": "execute_result"
    }
   ],
   "source": [
    "\n",
    "SVClassifier_lletres_1d = SVC(kernel='linear', verbose=True, random_state=42, C=1.0)\n",
    "SVClassifier_lletres_1d.fit(train_x_lletres, train_y_lletres)"
   ]
  },
  {
   "cell_type": "code",
   "execution_count": 17,
   "metadata": {},
   "outputs": [
    {
     "name": "stdout",
     "output_type": "stream",
     "text": [
      "              precision    recall  f1-score   support\n",
      "\n",
      "          10       0.68      0.77      0.72       559\n",
      "          11       0.77      0.82      0.80       575\n",
      "          12       0.67      0.82      0.74       531\n",
      "          13       0.74      0.84      0.79       517\n",
      "          14       0.77      0.78      0.77       557\n",
      "          15       0.44      0.56      0.50       578\n",
      "          16       0.78      0.81      0.80       545\n",
      "          17       0.71      0.75      0.73       586\n",
      "          18       0.51      0.63      0.56       555\n",
      "          19       0.73      0.78      0.76       564\n",
      "          20       0.68      0.72      0.70       578\n",
      "          21       0.56      0.59      0.58       572\n",
      "          22       0.84      0.87      0.86       526\n",
      "          23       0.74      0.75      0.75       581\n",
      "          24       0.83      0.83      0.83       573\n",
      "          25       0.77      0.78      0.78       541\n",
      "          26       0.77      0.72      0.74       530\n",
      "          27       0.76      0.67      0.71       532\n",
      "          28       0.81      0.76      0.79       529\n",
      "          29       0.78      0.91      0.84       606\n",
      "          30       0.80      0.77      0.78       570\n",
      "          31       0.77      0.80      0.78       555\n",
      "          32       0.87      0.84      0.86       575\n",
      "          33       0.78      0.75      0.76       563\n",
      "          34       0.70      0.72      0.71       559\n",
      "          35       0.81      0.77      0.79       601\n",
      "          36       0.71      0.67      0.69       566\n",
      "          37       0.82      0.90      0.86       559\n",
      "          38       0.87      0.86      0.86       567\n",
      "          39       0.76      0.73      0.74       538\n",
      "          40       0.51      0.50      0.51       535\n",
      "          41       0.53      0.44      0.48       545\n",
      "          42       0.85      0.81      0.83       545\n",
      "          43       0.81      0.79      0.80       595\n",
      "          44       0.56      0.51      0.53       567\n",
      "          45       0.78      0.84      0.81       557\n",
      "          46       0.00      0.00      0.00       588\n",
      "\n",
      "    accuracy                           0.73     20720\n",
      "   macro avg       0.71      0.73      0.72     20720\n",
      "weighted avg       0.71      0.73      0.72     20720\n",
      "\n"
     ]
    },
    {
     "name": "stderr",
     "output_type": "stream",
     "text": [
      "c:\\Users\\berna\\anaconda3\\envs\\torch\\lib\\site-packages\\sklearn\\metrics\\_classification.py:1469: UndefinedMetricWarning: Precision and F-score are ill-defined and being set to 0.0 in labels with no predicted samples. Use `zero_division` parameter to control this behavior.\n",
      "  _warn_prf(average, modifier, msg_start, len(result))\n",
      "c:\\Users\\berna\\anaconda3\\envs\\torch\\lib\\site-packages\\sklearn\\metrics\\_classification.py:1469: UndefinedMetricWarning: Precision and F-score are ill-defined and being set to 0.0 in labels with no predicted samples. Use `zero_division` parameter to control this behavior.\n",
      "  _warn_prf(average, modifier, msg_start, len(result))\n",
      "c:\\Users\\berna\\anaconda3\\envs\\torch\\lib\\site-packages\\sklearn\\metrics\\_classification.py:1469: UndefinedMetricWarning: Precision and F-score are ill-defined and being set to 0.0 in labels with no predicted samples. Use `zero_division` parameter to control this behavior.\n",
      "  _warn_prf(average, modifier, msg_start, len(result))\n"
     ]
    }
   ],
   "source": [
    "SVC_pred_lletres_1d = SVClassifier_lletres_1d.predict(test_x_lletres)\n",
    "print(classification_report(test_y_lletres, SVC_pred_lletres_1d))"
   ]
  },
  {
   "cell_type": "code",
   "execution_count": 33,
   "metadata": {},
   "outputs": [],
   "source": [
    "with open('../svm_img_model_numbers.pkl', 'wb') as model_file:\n",
    "    pickle.dump(SVClassifier_nums_1d, model_file)\n",
    "\n",
    "with open('../svm_img_model_letters.pkl', 'wb') as model_file:\n",
    "    pickle.dump(SVClassifier_lletres_1d, model_file)"
   ]
  }
 ],
 "metadata": {
  "kernelspec": {
   "display_name": "torch",
   "language": "python",
   "name": "python3"
  },
  "language_info": {
   "codemirror_mode": {
    "name": "ipython",
    "version": 3
   },
   "file_extension": ".py",
   "mimetype": "text/x-python",
   "name": "python",
   "nbconvert_exporter": "python",
   "pygments_lexer": "ipython3",
   "version": "3.8.16"
  },
  "orig_nbformat": 4
 },
 "nbformat": 4,
 "nbformat_minor": 2
}
