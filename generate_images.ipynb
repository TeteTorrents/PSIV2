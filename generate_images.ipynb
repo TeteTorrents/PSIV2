{
 "cells": [
  {
   "cell_type": "code",
   "execution_count": 1,
   "metadata": {},
   "outputs": [
    {
     "name": "stderr",
     "output_type": "stream",
     "text": [
      "c:\\Users\\adars\\anaconda3\\lib\\site-packages\\numpy\\_distributor_init.py:30: UserWarning: loaded more than 1 DLL from .libs:\n",
      "c:\\Users\\adars\\anaconda3\\lib\\site-packages\\numpy\\.libs\\libopenblas.4SP5SUA7CBGXUEOC35YP2ASOICYYEQZZ.gfortran-win_amd64.dll\n",
      "c:\\Users\\adars\\anaconda3\\lib\\site-packages\\numpy\\.libs\\libopenblas64__v0.3.21-gcc_10_3_0.dll\n",
      "  warnings.warn(\"loaded more than 1 DLL from .libs:\"\n"
     ]
    }
   ],
   "source": [
    "from PIL import Image, ImageDraw, ImageFont\n",
    "import numpy as np\n",
    "import os\n",
    "import cv2"
   ]
  },
  {
   "cell_type": "code",
   "execution_count": 10,
   "metadata": {},
   "outputs": [
    {
     "name": "stderr",
     "output_type": "stream",
     "text": [
      "C:\\Users\\adars\\AppData\\Local\\Temp\\ipykernel_14168\\797911900.py:10: DeprecationWarning: getsize is deprecated and will be removed in Pillow 10 (2023-07-01). Use getbbox or getlength instead.\n",
      "  char_size = font.getsize(char)\n"
     ]
    }
   ],
   "source": [
    "folder_name = \"img_mat_esp\"\n",
    "if not os.path.exists(folder_name):\n",
    "    os.mkdir(folder_name)\n",
    "\n",
    "font = ImageFont.truetype(\"Matricula_Espanola/MESPREG.ttf\", size=45)\n",
    "\n",
    "characters = \"0123456789ABCDEFGHIJKLMNOPQRSTUVWXYZ\"\n",
    "\n",
    "for char in characters:\n",
    "    char_size = font.getsize(char)\n",
    "    \n",
    "    width, height = char_size[0] + 2, char_size[1]\n",
    "    image = Image.new(\"L\", (width, height), color=255)\n",
    "    draw = ImageDraw.Draw(image)\n",
    "\n",
    "    x_pos = (width - char_size[0]) // 2\n",
    "    y_pos = (height - char_size[1]) // 2\n",
    "\n",
    "    draw.text((x_pos, y_pos), char, fill=0, font=font)\n",
    "    \n",
    "    w,h = image.size\n",
    "    image = image.crop((0, 17, w-3, h))\n",
    "\n",
    "    character_image = np.array(image)\n",
    "    \n",
    "    image_filename = os.path.join(folder_name, f\"{char}.png\")\n",
    "    cv2.imwrite(image_filename, character_image)"
   ]
  }
 ],
 "metadata": {
  "kernelspec": {
   "display_name": "base",
   "language": "python",
   "name": "python3"
  },
  "language_info": {
   "codemirror_mode": {
    "name": "ipython",
    "version": 3
   },
   "file_extension": ".py",
   "mimetype": "text/x-python",
   "name": "python",
   "nbconvert_exporter": "python",
   "pygments_lexer": "ipython3",
   "version": "3.9.13"
  },
  "orig_nbformat": 4
 },
 "nbformat": 4,
 "nbformat_minor": 2
}
