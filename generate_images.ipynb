{
 "cells": [
  {
   "cell_type": "code",
   "execution_count": 4,
   "metadata": {},
   "outputs": [],
   "source": [
    "from PIL import Image, ImageDraw, ImageFont\n",
    "import numpy as np\n",
    "import os\n",
    "import cv2"
   ]
  },
  {
   "cell_type": "code",
   "execution_count": 29,
   "metadata": {},
   "outputs": [
    {
     "name": "stderr",
     "output_type": "stream",
     "text": [
      "C:\\Users\\adars\\AppData\\Local\\Temp\\ipykernel_7092\\2596993707.py:13: DeprecationWarning: getsize is deprecated and will be removed in Pillow 10 (2023-07-01). Use getbbox or getlength instead.\n",
      "  char_size = font.getsize(char)\n"
     ]
    }
   ],
   "source": [
    "folder_name = \"img_mat_esp\"\n",
    "if not os.path.exists(folder_name):\n",
    "    os.mkdir(folder_name)\n",
    "\n",
    "font = ImageFont.truetype(\"Matricula_Espanola/MESPREG.ttf\", size=35)\n",
    "\n",
    "characters = \"0123456789ABCDEFGHIJKLMNOPQRSTUVWXYZ\"\n",
    "\n",
    "for char in characters:\n",
    "    char_size = font.getsize(char)\n",
    "    \n",
    "    width, height = char_size[0] + 5, char_size[1] + 5\n",
    "    image = Image.new(\"L\", (width, height), color=255)\n",
    "    draw = ImageDraw.Draw(image)\n",
    "\n",
    "    x_pos = (width - char_size[0]) // 2\n",
    "    y_pos = (height - char_size[1]) // 2\n",
    "\n",
    "    draw.text((x_pos, y_pos), char, fill=0, font=font)\n",
    "    \n",
    "    w,h = image.size\n",
    "    image = image.crop((0, 12, w-3, h-1))\n",
    "\n",
    "    character_image = np.array(image)\n",
    "    \n",
    "    image_filename = os.path.join(folder_name, f\"{char}.png\")\n",
    "    cv2.imwrite(image_filename, character_image)"
   ]
  }
 ],
 "metadata": {
  "kernelspec": {
   "display_name": "base",
   "language": "python",
   "name": "python3"
  },
  "language_info": {
   "codemirror_mode": {
    "name": "ipython",
    "version": 3
   },
   "file_extension": ".py",
   "mimetype": "text/x-python",
   "name": "python",
   "nbconvert_exporter": "python",
   "pygments_lexer": "ipython3",
   "version": "3.9.13"
  },
  "orig_nbformat": 4
 },
 "nbformat": 4,
 "nbformat_minor": 2
}
